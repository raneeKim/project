{
 "cells": [
  {
   "cell_type": "code",
   "execution_count": 1,
   "id": "30b4d911-f9b2-4939-ba35-27ba957d4147",
   "metadata": {},
   "outputs": [],
   "source": [
    "import pandas as pd\n",
    "import numpy as np\n",
    "import plotly.express as px\n",
    "import scipy.stats as stats"
   ]
  },
  {
   "cell_type": "code",
   "execution_count": 2,
   "id": "f181834f-772d-45f0-8b80-17f01326d0b7",
   "metadata": {},
   "outputs": [],
   "source": [
    "# 강의실용\n",
    "member_df = pd.read_csv(r'C:\\Users\\UserK\\Desktop\\Ranee\\data\\One_Market_Data\\member_data.csv')\n",
    "df1 = pd.read_csv(r'C:\\Users\\UserK\\Desktop\\Ranee\\data\\One_Market_Data\\product_data_001.csv')\n",
    "df2 = pd.read_csv(r'C:\\Users\\UserK\\Desktop\\Ranee\\data\\One_Market_Data\\product_data_002.csv')\n",
    "df3 = pd.read_csv(r'C:\\Users\\UserK\\Desktop\\Ranee\\data\\One_Market_Data\\product_data_003.csv')\n",
    "df4 = pd.read_csv(r'C:\\Users\\UserK\\Desktop\\Ranee\\data\\One_Market_Data\\product_data_004.csv')"
   ]
  },
  {
   "cell_type": "code",
   "execution_count": 57,
   "id": "25f6dfad",
   "metadata": {},
   "outputs": [],
   "source": [
    "# \n",
    "#path = r'C:\\Users\\MSI\\Desktop\\study\\Data\\One_Market_Data'\n",
    "#member_df = pd.read_csv(path+'\\member_data.csv')\n",
    "#df1 = pd.read_csv(path+'\\product_data_001.csv')\n",
    "#df2 = pd.read_csv(path+'\\product_data_002.csv')\n",
    "#df3 = pd.read_csv(path+'\\product_data_003.csv')\n",
    "#df4 = pd.read_csv(path+'\\product_data_004.csv')"
   ]
  },
  {
   "cell_type": "markdown",
   "id": "6ecd8d01",
   "metadata": {},
   "source": [
    "# 데이터 불러오기"
   ]
  },
  {
   "cell_type": "code",
   "execution_count": 3,
   "id": "9db9c02c-904a-42e9-bb4d-486260292d4a",
   "metadata": {},
   "outputs": [
    {
     "name": "stdout",
     "output_type": "stream",
     "text": [
      "(11555, 8)\n",
      "<class 'pandas.core.frame.DataFrame'>\n",
      "RangeIndex: 11555 entries, 0 to 11554\n",
      "Data columns (total 8 columns):\n",
      " #   Column       Non-Null Count  Dtype  \n",
      "---  ------       --------------  -----  \n",
      " 0   회원번호         11555 non-null  int64  \n",
      " 1   조합원상태        11555 non-null  object \n",
      " 2   주소           11555 non-null  object \n",
      " 3   성별           11553 non-null  object \n",
      " 4   연령           11553 non-null  float64\n",
      " 5   배송서비스신청여부    11555 non-null  object \n",
      " 6   모바일알람여부      11555 non-null  object \n",
      " 7   Gold_member  11555 non-null  object \n",
      "dtypes: float64(1), int64(1), object(6)\n",
      "memory usage: 722.3+ KB\n"
     ]
    }
   ],
   "source": [
    "print(member_df.shape)\n",
    "member_df.info()"
   ]
  },
  {
   "cell_type": "code",
   "execution_count": 59,
   "id": "6c6d33ea-bfa2-4ab5-8bf4-2f4933ca678a",
   "metadata": {},
   "outputs": [
    {
     "data": {
      "text/plain": [
       "회원번호           0\n",
       "조합원상태          0\n",
       "주소             0\n",
       "성별             2\n",
       "연령             2\n",
       "배송서비스신청여부      0\n",
       "모바일알람여부        0\n",
       "Gold_member    0\n",
       "dtype: int64"
      ]
     },
     "execution_count": 59,
     "metadata": {},
     "output_type": "execute_result"
    }
   ],
   "source": [
    "member_df.isnull().sum()"
   ]
  },
  {
   "cell_type": "code",
   "execution_count": 60,
   "id": "dc2b1edb-9cd7-42b8-8202-2283373ae74f",
   "metadata": {},
   "outputs": [
    {
     "data": {
      "text/plain": [
       "array(['수지구-풍덕천동', '처인구-고림동', '광주-기타', '수지구-동천동', '수지구-신봉동', '기흥구-상하동',\n",
       "       '수지구-상현동', '기타-기타', '수지구-성복동', '분당구-백현동', '분당구-판교동', '수지구-죽전동',\n",
       "       '분당구-구미동', '기흥구-동백동', '수원 영통구-기타', '기흥구-보정동', '기흥구-청덕동',\n",
       "       '서울 강남구-기타', '수원 팔달구-기타', '분당구-수내동', '서울 송파구-기타', '기흥구-기타',\n",
       "       '기흥구-언남동', '분당구-중동', '분당구-삼평동', '기흥구-마북동', '광주-오포읍', '화성-기타',\n",
       "       '분당구-정자동', '기흥구-중동', '분당구-기타', '중원구-금광동', '처인구-역북동', '수지구-기타',\n",
       "       '수원 장안구-기타', '처인구-삼가동', '처인구-기타', '수정구-신흥동', '수원 권선구-기타',\n",
       "       '분당구-서현동', '분당구-야탑동', '기흥구-보라동', '기흥구-구갈동', '처인구-김량장동', '처인구-이동면',\n",
       "       '분당구-분당동', '기흥구-신갈동', '기흥구-영덕동', '수정구-위례(창곡)동', '하남-기타', '기흥구-죽전동',\n",
       "       '처인구-모현면', '기타-금광동', '처인구-원삼면', '분당구-이매동', '분당구-금곡동', '기타-신흥동',\n",
       "       '기흥구-공세동', '기흥구-상갈동', '수정구-복정동', '기흥구-서천동', '광주-산성동', '중원구-도촌동',\n",
       "       '처인구-유방동', '수원 장안구-정자동', '처인구-남사면', '서울 강남구-은행동', '수원 권선구-금곡동',\n",
       "       '분당구-궁내동', '수정구-기타', '중원구-성남동', '중원구-여수동', '기타-금곡동', '기타-동천동',\n",
       "       '기타-비조합원', '수정구-상대원동', '중원구-상대원동', '중원구-은행동', '중원구-하대원동', '기타-중앙동',\n",
       "       '기타-보라동', '기타-동백동', '기타-은행동', '화성-보라동', '중원구-산성동', '수정구-단대동',\n",
       "       '분당구-율동', '기타-궁내동', '기흥구-지곡동', '처인구-마평동', '수정구-태평동', '하남-위례동',\n",
       "       '기타-율동', '기타-태평동', '기타-성남동'], dtype=object)"
      ]
     },
     "execution_count": 60,
     "metadata": {},
     "output_type": "execute_result"
    }
   ],
   "source": [
    "member_df['주소'].unique()"
   ]
  },
  {
   "cell_type": "code",
   "execution_count": 61,
   "id": "af088c73-528b-4f95-8ea9-6e736b3b46c9",
   "metadata": {},
   "outputs": [
    {
     "name": "stdout",
     "output_type": "stream",
     "text": [
      "주소\n",
      "수지구-풍덕천동    3188\n",
      "수지구-상현동     1601\n",
      "수지구-신봉동     1422\n",
      "기타-기타       1126\n",
      "수지구-동천동      924\n",
      "            ... \n",
      "수정구-복정동        1\n",
      "수정구-상대원동       1\n",
      "기타-비조합원        1\n",
      "기타-동천동         1\n",
      "기타-성남동         1\n",
      "Name: count, Length: 95, dtype: int64\n"
     ]
    }
   ],
   "source": [
    "print(member_df['주소'].value_counts())"
   ]
  },
  {
   "cell_type": "code",
   "execution_count": 4,
   "id": "f5cc7a5a",
   "metadata": {},
   "outputs": [
    {
     "data": {
      "text/plain": [
       "모바일알람여부\n",
       "미수신    10653\n",
       "수신       902\n",
       "Name: count, dtype: int64"
      ]
     },
     "execution_count": 4,
     "metadata": {},
     "output_type": "execute_result"
    }
   ],
   "source": [
    "# 모바일 알람여부 . -> 미수신\n",
    "member_df['모바일알람여부'] = member_df['모바일알람여부'].replace('.','미수신')\n",
    "member_df['모바일알람여부'].value_counts()"
   ]
  },
  {
   "cell_type": "markdown",
   "id": "a6be0ca2",
   "metadata": {},
   "source": [
    "### 연령대 칼럼 추가"
   ]
  },
  {
   "cell_type": "code",
   "execution_count": 5,
   "id": "775e003c",
   "metadata": {},
   "outputs": [],
   "source": [
    "def age_func(row) :\n",
    "    if pd.isnull(row) :\n",
    "        return row\n",
    "    elif row >= 90 :\n",
    "        return '90대이상'\n",
    "    else : \n",
    "        return str(row)[0]+'0대'\n",
    "    \n",
    "member_df['연령대'] = member_df['연령'].apply(age_func)"
   ]
  },
  {
   "cell_type": "code",
   "execution_count": 6,
   "id": "38f1d1b1",
   "metadata": {},
   "outputs": [
    {
     "name": "stdout",
     "output_type": "stream",
     "text": [
      "2\n"
     ]
    },
    {
     "data": {
      "text/plain": [
       "연령대\n",
       "40대      4480\n",
       "50대      2546\n",
       "30대      2137\n",
       "60대      1455\n",
       "70대       736\n",
       "80대       136\n",
       "20대        52\n",
       "90대이상      10\n",
       "10대         1\n",
       "Name: count, dtype: int64"
      ]
     },
     "execution_count": 6,
     "metadata": {},
     "output_type": "execute_result"
    }
   ],
   "source": [
    "print(member_df['연령대'].isnull().sum())\n",
    "member_df['연령대'].value_counts()"
   ]
  },
  {
   "cell_type": "code",
   "execution_count": 65,
   "id": "c9b17052",
   "metadata": {},
   "outputs": [
    {
     "data": {
      "text/html": [
       "<div>\n",
       "<style scoped>\n",
       "    .dataframe tbody tr th:only-of-type {\n",
       "        vertical-align: middle;\n",
       "    }\n",
       "\n",
       "    .dataframe tbody tr th {\n",
       "        vertical-align: top;\n",
       "    }\n",
       "\n",
       "    .dataframe thead th {\n",
       "        text-align: right;\n",
       "    }\n",
       "</style>\n",
       "<table border=\"1\" class=\"dataframe\">\n",
       "  <thead>\n",
       "    <tr style=\"text-align: right;\">\n",
       "      <th></th>\n",
       "      <th>회원번호</th>\n",
       "      <th>조합원상태</th>\n",
       "      <th>주소</th>\n",
       "      <th>성별</th>\n",
       "      <th>연령</th>\n",
       "      <th>배송서비스신청여부</th>\n",
       "      <th>모바일알람여부</th>\n",
       "      <th>Gold_member</th>\n",
       "      <th>연령대</th>\n",
       "    </tr>\n",
       "  </thead>\n",
       "  <tbody>\n",
       "    <tr>\n",
       "      <th>4091</th>\n",
       "      <td>1575020160</td>\n",
       "      <td>정상회원</td>\n",
       "      <td>수지구-풍덕천동</td>\n",
       "      <td>여</td>\n",
       "      <td>17.0</td>\n",
       "      <td>미신청</td>\n",
       "      <td>미수신</td>\n",
       "      <td>normal</td>\n",
       "      <td>10대</td>\n",
       "    </tr>\n",
       "  </tbody>\n",
       "</table>\n",
       "</div>"
      ],
      "text/plain": [
       "            회원번호 조합원상태        주소 성별    연령 배송서비스신청여부 모바일알람여부 Gold_member  연령대\n",
       "4091  1575020160  정상회원  수지구-풍덕천동  여  17.0       미신청     미수신      normal  10대"
      ]
     },
     "execution_count": 65,
     "metadata": {},
     "output_type": "execute_result"
    }
   ],
   "source": [
    "member_df.loc[member_df['연령']<20]"
   ]
  },
  {
   "cell_type": "code",
   "execution_count": 7,
   "id": "ebd3d4c6-5c44-4674-b60e-62feaf4a7244",
   "metadata": {},
   "outputs": [],
   "source": [
    "product_df = pd.concat([df1, df2, df3,df4], ignore_index=True)"
   ]
  },
  {
   "cell_type": "code",
   "execution_count": 220,
   "id": "631794cf-acca-42d3-ace9-f3a33f0488d0",
   "metadata": {},
   "outputs": [
    {
     "data": {
      "text/plain": [
       "(294645, 12)"
      ]
     },
     "execution_count": 220,
     "metadata": {},
     "output_type": "execute_result"
    }
   ],
   "source": [
    "product_df.shape"
   ]
  },
  {
   "cell_type": "code",
   "execution_count": 68,
   "id": "6be0ac59-0558-4733-a650-bebea08aed3c",
   "metadata": {},
   "outputs": [
    {
     "name": "stdout",
     "output_type": "stream",
     "text": [
      "<class 'pandas.core.frame.DataFrame'>\n",
      "RangeIndex: 294645 entries, 0 to 294644\n",
      "Data columns (total 12 columns):\n",
      " #   Column    Non-Null Count   Dtype  \n",
      "---  ------    --------------   -----  \n",
      " 0   공급일자      294645 non-null  object \n",
      " 1   회원번호      294645 non-null  int64  \n",
      " 2   조합원상태     294645 non-null  object \n",
      " 3   물품대분류     294645 non-null  object \n",
      " 4   물품중분류     294645 non-null  object \n",
      " 5   물품소분류     294645 non-null  object \n",
      " 6   물품명       294645 non-null  object \n",
      " 7   구매수량      294645 non-null  float64\n",
      " 8   구매금액      294645 non-null  int64  \n",
      " 9   구매매장      294645 non-null  object \n",
      " 10  반품_원거래일자  4960 non-null    object \n",
      " 11  구매시각      294645 non-null  object \n",
      "dtypes: float64(1), int64(2), object(9)\n",
      "memory usage: 27.0+ MB\n"
     ]
    }
   ],
   "source": [
    "product_df.info()"
   ]
  },
  {
   "cell_type": "markdown",
   "id": "ef2f149f",
   "metadata": {},
   "source": [
    "### 구매시각,공급일자 파생변수들"
   ]
  },
  {
   "cell_type": "code",
   "execution_count": 8,
   "id": "0934a14c",
   "metadata": {},
   "outputs": [
    {
     "name": "stderr",
     "output_type": "stream",
     "text": [
      "C:\\Users\\UserK\\AppData\\Local\\Temp\\ipykernel_476\\2870433606.py:1: UserWarning: Could not infer format, so each element will be parsed individually, falling back to `dateutil`. To ensure parsing is consistent and as-expected, please specify a format.\n",
      "  product_df['구매시각_dt'] =  pd.to_datetime(product_df['구매시각'])\n"
     ]
    },
    {
     "data": {
      "text/plain": [
       "count                           294645\n",
       "mean     2024-05-31 14:30:24.506847488\n",
       "min                2024-05-31 08:08:00\n",
       "25%                2024-05-31 11:57:00\n",
       "50%                2024-05-31 14:28:00\n",
       "75%                2024-05-31 16:51:00\n",
       "max                2024-05-31 20:52:00\n",
       "Name: 구매시각_dt, dtype: object"
      ]
     },
     "execution_count": 8,
     "metadata": {},
     "output_type": "execute_result"
    }
   ],
   "source": [
    "product_df['구매시각_dt'] =  pd.to_datetime(product_df['구매시각'])\n",
    "product_df['구매시각_dt'].describe()"
   ]
  },
  {
   "cell_type": "code",
   "execution_count": 9,
   "id": "f68d5a09",
   "metadata": {},
   "outputs": [],
   "source": [
    "def time_func(row):\n",
    "    if 8 <= row < 12:\n",
    "        return '오전'\n",
    "    elif 12 <= row < 17:\n",
    "        return '오후'\n",
    "    else :\n",
    "        return '저녁'\n",
    "\n",
    "product_df['시간대'] = product_df['구매시각_dt'].dt.hour.apply(time_func)                                 "
   ]
  },
  {
   "cell_type": "code",
   "execution_count": 10,
   "id": "165d12ab-61fe-46ed-93dd-cca3fffcc5e3",
   "metadata": {},
   "outputs": [],
   "source": [
    "product_df['구매시각_시'] = product_df['구매시각_dt'].dt.hour"
   ]
  },
  {
   "cell_type": "code",
   "execution_count": 11,
   "id": "fd9b5e49",
   "metadata": {
    "scrolled": true
   },
   "outputs": [
    {
     "data": {
      "text/plain": [
       "시간대\n",
       "오후    150846\n",
       "오전     74805\n",
       "저녁     68994\n",
       "Name: count, dtype: int64"
      ]
     },
     "execution_count": 11,
     "metadata": {},
     "output_type": "execute_result"
    }
   ],
   "source": [
    "product_df['시간대'].value_counts()"
   ]
  },
  {
   "cell_type": "code",
   "execution_count": 12,
   "id": "474897ce",
   "metadata": {},
   "outputs": [],
   "source": [
    "product_df['공급일자_dt'] = pd.to_datetime(product_df['공급일자'])"
   ]
  },
  {
   "cell_type": "code",
   "execution_count": 13,
   "id": "7abfe8a5",
   "metadata": {},
   "outputs": [],
   "source": [
    "product_df['월'] = product_df['공급일자_dt'].dt.month\n",
    "product_df['요일'] = product_df['공급일자_dt'].dt.day_name()\n",
    "\n",
    "def weekend_func(row) : \n",
    "    if row in ['Saturday','Sunday'] :\n",
    "        return '주말'\n",
    "    else :\n",
    "        return '주중'\n",
    "\n",
    "product_df['주말/주중'] = product_df['요일'].apply(weekend_func)"
   ]
  },
  {
   "cell_type": "code",
   "execution_count": 14,
   "id": "52195e07",
   "metadata": {},
   "outputs": [
    {
     "data": {
      "text/plain": [
       "월\n",
       "7     32172\n",
       "1     31411\n",
       "8     30813\n",
       "3     29711\n",
       "6     29566\n",
       "5     29532\n",
       "4     29131\n",
       "9     27971\n",
       "2     27498\n",
       "10    26840\n",
       "Name: count, dtype: int64"
      ]
     },
     "execution_count": 14,
     "metadata": {},
     "output_type": "execute_result"
    }
   ],
   "source": [
    "product_df['월'].value_counts()"
   ]
  },
  {
   "cell_type": "code",
   "execution_count": 228,
   "id": "15e81c4c-a8b3-4a93-8cde-f932675b50be",
   "metadata": {
    "scrolled": true
   },
   "outputs": [
    {
     "data": {
      "text/plain": [
       "공급일자             0\n",
       "회원번호             0\n",
       "조합원상태            0\n",
       "물품대분류            0\n",
       "물품중분류            0\n",
       "물품소분류            0\n",
       "물품명              0\n",
       "구매수량             0\n",
       "구매금액             0\n",
       "구매매장             0\n",
       "반품_원거래일자    289685\n",
       "구매시각             0\n",
       "구매시각_dt          0\n",
       "시간대              0\n",
       "구매시각_시           0\n",
       "공급일자_dt          0\n",
       "월                0\n",
       "요일               0\n",
       "주말/주중            0\n",
       "dtype: int64"
      ]
     },
     "execution_count": 228,
     "metadata": {},
     "output_type": "execute_result"
    }
   ],
   "source": [
    "product_df.isnull().sum()"
   ]
  },
  {
   "cell_type": "code",
   "execution_count": 77,
   "id": "b7dd09c6-d105-43d3-a390-5a5b9a8eaf09",
   "metadata": {},
   "outputs": [
    {
     "name": "stdout",
     "output_type": "stream",
     "text": [
      "반품갯수 :  4960\n"
     ]
    }
   ],
   "source": [
    "print('반품갯수 : ',product_df.shape[0]-product_df['반품_원거래일자'].isnull().sum())"
   ]
  },
  {
   "cell_type": "markdown",
   "id": "7d58ae79",
   "metadata": {},
   "source": [
    "# 최종 데이터 (고객데이터+구매상품데이터)"
   ]
  },
  {
   "cell_type": "code",
   "execution_count": 15,
   "id": "f6eac9df-0d38-454d-9d28-766cc6bf1108",
   "metadata": {},
   "outputs": [],
   "source": [
    "onemarket_df = pd.merge(product_df,member_df,on='회원번호')"
   ]
  },
  {
   "cell_type": "code",
   "execution_count": 16,
   "id": "dbfaa2c9",
   "metadata": {},
   "outputs": [
    {
     "name": "stdout",
     "output_type": "stream",
     "text": [
      "(294645, 27)\n",
      "<class 'pandas.core.frame.DataFrame'>\n",
      "RangeIndex: 294645 entries, 0 to 294644\n",
      "Data columns (total 27 columns):\n",
      " #   Column       Non-Null Count   Dtype         \n",
      "---  ------       --------------   -----         \n",
      " 0   공급일자         294645 non-null  object        \n",
      " 1   회원번호         294645 non-null  int64         \n",
      " 2   조합원상태_x      294645 non-null  object        \n",
      " 3   물품대분류        294645 non-null  object        \n",
      " 4   물품중분류        294645 non-null  object        \n",
      " 5   물품소분류        294645 non-null  object        \n",
      " 6   물품명          294645 non-null  object        \n",
      " 7   구매수량         294645 non-null  float64       \n",
      " 8   구매금액         294645 non-null  int64         \n",
      " 9   구매매장         294645 non-null  object        \n",
      " 10  반품_원거래일자     4960 non-null    object        \n",
      " 11  구매시각         294645 non-null  object        \n",
      " 12  구매시각_dt      294645 non-null  datetime64[ns]\n",
      " 13  시간대          294645 non-null  object        \n",
      " 14  구매시각_시       294645 non-null  int32         \n",
      " 15  공급일자_dt      294645 non-null  datetime64[ns]\n",
      " 16  월            294645 non-null  int32         \n",
      " 17  요일           294645 non-null  object        \n",
      " 18  주말/주중        294645 non-null  object        \n",
      " 19  조합원상태_y      294645 non-null  object        \n",
      " 20  주소           294645 non-null  object        \n",
      " 21  성별           294642 non-null  object        \n",
      " 22  연령           294626 non-null  float64       \n",
      " 23  배송서비스신청여부    294645 non-null  object        \n",
      " 24  모바일알람여부      294645 non-null  object        \n",
      " 25  Gold_member  294645 non-null  object        \n",
      " 26  연령대          294626 non-null  object        \n",
      "dtypes: datetime64[ns](2), float64(2), int32(2), int64(2), object(19)\n",
      "memory usage: 58.4+ MB\n"
     ]
    }
   ],
   "source": [
    "print(onemarket_df.shape)\n",
    "onemarket_df.info()"
   ]
  },
  {
   "cell_type": "code",
   "execution_count": 17,
   "id": "82955138-e49e-4b76-a0d8-7bd7d2be7383",
   "metadata": {},
   "outputs": [],
   "source": [
    "onemarket_df = onemarket_df.drop(columns='조합원상태_y')\n",
    "onemarket_df = onemarket_df.rename(columns={'조합원상태_x':'조합원상태'})"
   ]
  },
  {
   "cell_type": "code",
   "execution_count": 18,
   "id": "6a5e15ca",
   "metadata": {},
   "outputs": [
    {
     "data": {
      "text/plain": [
       "Index(['공급일자', '회원번호', '조합원상태', '물품대분류', '물품중분류', '물품소분류', '물품명', '구매수량',\n",
       "       '구매금액', '구매매장', '반품_원거래일자', '구매시각', '구매시각_dt', '시간대', '구매시각_시',\n",
       "       '공급일자_dt', '월', '요일', '주말/주중', '주소', '성별', '연령', '배송서비스신청여부', '모바일알람여부',\n",
       "       'Gold_member', '연령대'],\n",
       "      dtype='object')"
      ]
     },
     "execution_count": 18,
     "metadata": {},
     "output_type": "execute_result"
    }
   ],
   "source": [
    "onemarket_df.columns"
   ]
  },
  {
   "cell_type": "markdown",
   "id": "e8651820-779b-471d-8e6a-60e5e83256dd",
   "metadata": {
    "jp-MarkdownHeadingCollapsed": true
   },
   "source": [
    "### 모바일 알람 여부에 따른 현황"
   ]
  },
  {
   "cell_type": "code",
   "execution_count": 82,
   "id": "e67fc3d5",
   "metadata": {},
   "outputs": [],
   "source": [
    "pv1_mean = onemarket_df.pivot_table(index=['모바일알람여부','회원번호'], values = '구매금액', aggfunc='mean').reset_index()\n",
    "pv1_sum = onemarket_df.pivot_table(index=['모바일알람여부','회원번호'], values = '구매금액', aggfunc='sum').reset_index()"
   ]
  },
  {
   "cell_type": "code",
   "execution_count": 83,
   "id": "f093fe55",
   "metadata": {},
   "outputs": [
    {
     "data": {
      "text/html": [
       "<div>\n",
       "<style scoped>\n",
       "    .dataframe tbody tr th:only-of-type {\n",
       "        vertical-align: middle;\n",
       "    }\n",
       "\n",
       "    .dataframe tbody tr th {\n",
       "        vertical-align: top;\n",
       "    }\n",
       "\n",
       "    .dataframe thead th {\n",
       "        text-align: right;\n",
       "    }\n",
       "</style>\n",
       "<table border=\"1\" class=\"dataframe\">\n",
       "  <thead>\n",
       "    <tr style=\"text-align: right;\">\n",
       "      <th></th>\n",
       "      <th>모바일알람여부</th>\n",
       "      <th>회원번호</th>\n",
       "      <th>구매금액</th>\n",
       "    </tr>\n",
       "  </thead>\n",
       "  <tbody>\n",
       "    <tr>\n",
       "      <th>0</th>\n",
       "      <td>미수신</td>\n",
       "      <td>18613824</td>\n",
       "      <td>21059.000000</td>\n",
       "    </tr>\n",
       "    <tr>\n",
       "      <th>1</th>\n",
       "      <td>미수신</td>\n",
       "      <td>18764160</td>\n",
       "      <td>-8882.700000</td>\n",
       "    </tr>\n",
       "    <tr>\n",
       "      <th>2</th>\n",
       "      <td>미수신</td>\n",
       "      <td>18792000</td>\n",
       "      <td>33311.000000</td>\n",
       "    </tr>\n",
       "    <tr>\n",
       "      <th>3</th>\n",
       "      <td>미수신</td>\n",
       "      <td>18942336</td>\n",
       "      <td>17528.750000</td>\n",
       "    </tr>\n",
       "    <tr>\n",
       "      <th>4</th>\n",
       "      <td>미수신</td>\n",
       "      <td>18949760</td>\n",
       "      <td>2776.000000</td>\n",
       "    </tr>\n",
       "    <tr>\n",
       "      <th>...</th>\n",
       "      <td>...</td>\n",
       "      <td>...</td>\n",
       "      <td>...</td>\n",
       "    </tr>\n",
       "    <tr>\n",
       "      <th>11550</th>\n",
       "      <td>수신</td>\n",
       "      <td>1631321920</td>\n",
       "      <td>12405.500000</td>\n",
       "    </tr>\n",
       "    <tr>\n",
       "      <th>11551</th>\n",
       "      <td>수신</td>\n",
       "      <td>1635319744</td>\n",
       "      <td>7167.250000</td>\n",
       "    </tr>\n",
       "    <tr>\n",
       "      <th>11552</th>\n",
       "      <td>수신</td>\n",
       "      <td>1636290432</td>\n",
       "      <td>12061.000000</td>\n",
       "    </tr>\n",
       "    <tr>\n",
       "      <th>11553</th>\n",
       "      <td>수신</td>\n",
       "      <td>1636303424</td>\n",
       "      <td>-2297.000000</td>\n",
       "    </tr>\n",
       "    <tr>\n",
       "      <th>11554</th>\n",
       "      <td>수신</td>\n",
       "      <td>1670400000</td>\n",
       "      <td>9638.918081</td>\n",
       "    </tr>\n",
       "  </tbody>\n",
       "</table>\n",
       "<p>11555 rows × 3 columns</p>\n",
       "</div>"
      ],
      "text/plain": [
       "      모바일알람여부        회원번호          구매금액\n",
       "0         미수신    18613824  21059.000000\n",
       "1         미수신    18764160  -8882.700000\n",
       "2         미수신    18792000  33311.000000\n",
       "3         미수신    18942336  17528.750000\n",
       "4         미수신    18949760   2776.000000\n",
       "...       ...         ...           ...\n",
       "11550      수신  1631321920  12405.500000\n",
       "11551      수신  1635319744   7167.250000\n",
       "11552      수신  1636290432  12061.000000\n",
       "11553      수신  1636303424  -2297.000000\n",
       "11554      수신  1670400000   9638.918081\n",
       "\n",
       "[11555 rows x 3 columns]"
      ]
     },
     "execution_count": 83,
     "metadata": {},
     "output_type": "execute_result"
    }
   ],
   "source": [
    "pv1_mean"
   ]
  },
  {
   "cell_type": "code",
   "execution_count": 84,
   "id": "5c7f8c25",
   "metadata": {},
   "outputs": [
    {
     "data": {
      "text/html": [
       "<div>\n",
       "<style scoped>\n",
       "    .dataframe tbody tr th:only-of-type {\n",
       "        vertical-align: middle;\n",
       "    }\n",
       "\n",
       "    .dataframe tbody tr th {\n",
       "        vertical-align: top;\n",
       "    }\n",
       "\n",
       "    .dataframe thead th {\n",
       "        text-align: right;\n",
       "    }\n",
       "</style>\n",
       "<table border=\"1\" class=\"dataframe\">\n",
       "  <thead>\n",
       "    <tr style=\"text-align: right;\">\n",
       "      <th></th>\n",
       "      <th>모바일알람여부</th>\n",
       "      <th>회원번호</th>\n",
       "      <th>구매금액</th>\n",
       "    </tr>\n",
       "  </thead>\n",
       "  <tbody>\n",
       "    <tr>\n",
       "      <th>0</th>\n",
       "      <td>미수신</td>\n",
       "      <td>18613824</td>\n",
       "      <td>21059</td>\n",
       "    </tr>\n",
       "    <tr>\n",
       "      <th>1</th>\n",
       "      <td>미수신</td>\n",
       "      <td>18764160</td>\n",
       "      <td>-88827</td>\n",
       "    </tr>\n",
       "    <tr>\n",
       "      <th>2</th>\n",
       "      <td>미수신</td>\n",
       "      <td>18792000</td>\n",
       "      <td>33311</td>\n",
       "    </tr>\n",
       "    <tr>\n",
       "      <th>3</th>\n",
       "      <td>미수신</td>\n",
       "      <td>18942336</td>\n",
       "      <td>560920</td>\n",
       "    </tr>\n",
       "    <tr>\n",
       "      <th>4</th>\n",
       "      <td>미수신</td>\n",
       "      <td>18949760</td>\n",
       "      <td>2776</td>\n",
       "    </tr>\n",
       "    <tr>\n",
       "      <th>...</th>\n",
       "      <td>...</td>\n",
       "      <td>...</td>\n",
       "      <td>...</td>\n",
       "    </tr>\n",
       "    <tr>\n",
       "      <th>11550</th>\n",
       "      <td>수신</td>\n",
       "      <td>1631321920</td>\n",
       "      <td>49622</td>\n",
       "    </tr>\n",
       "    <tr>\n",
       "      <th>11551</th>\n",
       "      <td>수신</td>\n",
       "      <td>1635319744</td>\n",
       "      <td>57338</td>\n",
       "    </tr>\n",
       "    <tr>\n",
       "      <th>11552</th>\n",
       "      <td>수신</td>\n",
       "      <td>1636290432</td>\n",
       "      <td>24122</td>\n",
       "    </tr>\n",
       "    <tr>\n",
       "      <th>11553</th>\n",
       "      <td>수신</td>\n",
       "      <td>1636303424</td>\n",
       "      <td>-2297</td>\n",
       "    </tr>\n",
       "    <tr>\n",
       "      <th>11554</th>\n",
       "      <td>수신</td>\n",
       "      <td>1670400000</td>\n",
       "      <td>13060734</td>\n",
       "    </tr>\n",
       "  </tbody>\n",
       "</table>\n",
       "<p>11555 rows × 3 columns</p>\n",
       "</div>"
      ],
      "text/plain": [
       "      모바일알람여부        회원번호      구매금액\n",
       "0         미수신    18613824     21059\n",
       "1         미수신    18764160    -88827\n",
       "2         미수신    18792000     33311\n",
       "3         미수신    18942336    560920\n",
       "4         미수신    18949760      2776\n",
       "...       ...         ...       ...\n",
       "11550      수신  1631321920     49622\n",
       "11551      수신  1635319744     57338\n",
       "11552      수신  1636290432     24122\n",
       "11553      수신  1636303424     -2297\n",
       "11554      수신  1670400000  13060734\n",
       "\n",
       "[11555 rows x 3 columns]"
      ]
     },
     "execution_count": 84,
     "metadata": {},
     "output_type": "execute_result"
    }
   ],
   "source": [
    "pv1_sum"
   ]
  },
  {
   "cell_type": "code",
   "execution_count": 85,
   "id": "49bb6e18",
   "metadata": {
    "scrolled": true
   },
   "outputs": [
    {
     "data": {
      "text/html": [
       "<div>\n",
       "<style scoped>\n",
       "    .dataframe tbody tr th:only-of-type {\n",
       "        vertical-align: middle;\n",
       "    }\n",
       "\n",
       "    .dataframe tbody tr th {\n",
       "        vertical-align: top;\n",
       "    }\n",
       "\n",
       "    .dataframe thead th {\n",
       "        text-align: right;\n",
       "    }\n",
       "</style>\n",
       "<table border=\"1\" class=\"dataframe\">\n",
       "  <thead>\n",
       "    <tr style=\"text-align: right;\">\n",
       "      <th></th>\n",
       "      <th>모바일알람여부</th>\n",
       "      <th>회원번호</th>\n",
       "      <th>구매금액</th>\n",
       "    </tr>\n",
       "  </thead>\n",
       "  <tbody>\n",
       "    <tr>\n",
       "      <th>1</th>\n",
       "      <td>미수신</td>\n",
       "      <td>18764160</td>\n",
       "      <td>-88827</td>\n",
       "    </tr>\n",
       "    <tr>\n",
       "      <th>11</th>\n",
       "      <td>미수신</td>\n",
       "      <td>20993216</td>\n",
       "      <td>-16464</td>\n",
       "    </tr>\n",
       "    <tr>\n",
       "      <th>171</th>\n",
       "      <td>미수신</td>\n",
       "      <td>57302144</td>\n",
       "      <td>-7083</td>\n",
       "    </tr>\n",
       "    <tr>\n",
       "      <th>449</th>\n",
       "      <td>미수신</td>\n",
       "      <td>97532800</td>\n",
       "      <td>-24313</td>\n",
       "    </tr>\n",
       "    <tr>\n",
       "      <th>659</th>\n",
       "      <td>미수신</td>\n",
       "      <td>135862912</td>\n",
       "      <td>-21824</td>\n",
       "    </tr>\n",
       "    <tr>\n",
       "      <th>887</th>\n",
       "      <td>미수신</td>\n",
       "      <td>178216832</td>\n",
       "      <td>-10817</td>\n",
       "    </tr>\n",
       "    <tr>\n",
       "      <th>964</th>\n",
       "      <td>미수신</td>\n",
       "      <td>188946368</td>\n",
       "      <td>-957</td>\n",
       "    </tr>\n",
       "    <tr>\n",
       "      <th>1067</th>\n",
       "      <td>미수신</td>\n",
       "      <td>204638848</td>\n",
       "      <td>-1149</td>\n",
       "    </tr>\n",
       "    <tr>\n",
       "      <th>1167</th>\n",
       "      <td>미수신</td>\n",
       "      <td>221808704</td>\n",
       "      <td>-110462</td>\n",
       "    </tr>\n",
       "    <tr>\n",
       "      <th>1423</th>\n",
       "      <td>미수신</td>\n",
       "      <td>263516736</td>\n",
       "      <td>-1340</td>\n",
       "    </tr>\n",
       "    <tr>\n",
       "      <th>1468</th>\n",
       "      <td>미수신</td>\n",
       "      <td>267904320</td>\n",
       "      <td>-3254</td>\n",
       "    </tr>\n",
       "    <tr>\n",
       "      <th>1791</th>\n",
       "      <td>미수신</td>\n",
       "      <td>317004800</td>\n",
       "      <td>-15316</td>\n",
       "    </tr>\n",
       "    <tr>\n",
       "      <th>2259</th>\n",
       "      <td>미수신</td>\n",
       "      <td>399893760</td>\n",
       "      <td>-104526</td>\n",
       "    </tr>\n",
       "    <tr>\n",
       "      <th>2653</th>\n",
       "      <td>미수신</td>\n",
       "      <td>459849984</td>\n",
       "      <td>-102612</td>\n",
       "    </tr>\n",
       "    <tr>\n",
       "      <th>3015</th>\n",
       "      <td>미수신</td>\n",
       "      <td>535645312</td>\n",
       "      <td>-4212</td>\n",
       "    </tr>\n",
       "    <tr>\n",
       "      <th>3140</th>\n",
       "      <td>미수신</td>\n",
       "      <td>554437312</td>\n",
       "      <td>-77419</td>\n",
       "    </tr>\n",
       "    <tr>\n",
       "      <th>3505</th>\n",
       "      <td>미수신</td>\n",
       "      <td>603424576</td>\n",
       "      <td>-2489</td>\n",
       "    </tr>\n",
       "    <tr>\n",
       "      <th>3603</th>\n",
       "      <td>미수신</td>\n",
       "      <td>619441856</td>\n",
       "      <td>-6126</td>\n",
       "    </tr>\n",
       "    <tr>\n",
       "      <th>3999</th>\n",
       "      <td>미수신</td>\n",
       "      <td>677590336</td>\n",
       "      <td>-18282</td>\n",
       "    </tr>\n",
       "    <tr>\n",
       "      <th>4000</th>\n",
       "      <td>미수신</td>\n",
       "      <td>677614464</td>\n",
       "      <td>-3638</td>\n",
       "    </tr>\n",
       "    <tr>\n",
       "      <th>4199</th>\n",
       "      <td>미수신</td>\n",
       "      <td>702002304</td>\n",
       "      <td>-2872</td>\n",
       "    </tr>\n",
       "    <tr>\n",
       "      <th>4507</th>\n",
       "      <td>미수신</td>\n",
       "      <td>743417088</td>\n",
       "      <td>-5360</td>\n",
       "    </tr>\n",
       "    <tr>\n",
       "      <th>4608</th>\n",
       "      <td>미수신</td>\n",
       "      <td>745570048</td>\n",
       "      <td>-24313</td>\n",
       "    </tr>\n",
       "    <tr>\n",
       "      <th>5448</th>\n",
       "      <td>미수신</td>\n",
       "      <td>791550592</td>\n",
       "      <td>-64707</td>\n",
       "    </tr>\n",
       "    <tr>\n",
       "      <th>5626</th>\n",
       "      <td>미수신</td>\n",
       "      <td>817631104</td>\n",
       "      <td>-52981</td>\n",
       "    </tr>\n",
       "    <tr>\n",
       "      <th>5745</th>\n",
       "      <td>미수신</td>\n",
       "      <td>832482816</td>\n",
       "      <td>-4020</td>\n",
       "    </tr>\n",
       "    <tr>\n",
       "      <th>6061</th>\n",
       "      <td>미수신</td>\n",
       "      <td>864589760</td>\n",
       "      <td>-21442</td>\n",
       "    </tr>\n",
       "    <tr>\n",
       "      <th>6080</th>\n",
       "      <td>미수신</td>\n",
       "      <td>866783552</td>\n",
       "      <td>-670</td>\n",
       "    </tr>\n",
       "    <tr>\n",
       "      <th>6380</th>\n",
       "      <td>미수신</td>\n",
       "      <td>907203520</td>\n",
       "      <td>-22973</td>\n",
       "    </tr>\n",
       "    <tr>\n",
       "      <th>6548</th>\n",
       "      <td>미수신</td>\n",
       "      <td>938016832</td>\n",
       "      <td>-19336</td>\n",
       "    </tr>\n",
       "    <tr>\n",
       "      <th>6852</th>\n",
       "      <td>미수신</td>\n",
       "      <td>999474560</td>\n",
       "      <td>-23643</td>\n",
       "    </tr>\n",
       "    <tr>\n",
       "      <th>7077</th>\n",
       "      <td>미수신</td>\n",
       "      <td>1019582464</td>\n",
       "      <td>-1723</td>\n",
       "    </tr>\n",
       "    <tr>\n",
       "      <th>7347</th>\n",
       "      <td>미수신</td>\n",
       "      <td>1055243648</td>\n",
       "      <td>-15507</td>\n",
       "    </tr>\n",
       "    <tr>\n",
       "      <th>7561</th>\n",
       "      <td>미수신</td>\n",
       "      <td>1094655808</td>\n",
       "      <td>-8903</td>\n",
       "    </tr>\n",
       "    <tr>\n",
       "      <th>7872</th>\n",
       "      <td>미수신</td>\n",
       "      <td>1147481280</td>\n",
       "      <td>-12635</td>\n",
       "    </tr>\n",
       "    <tr>\n",
       "      <th>8164</th>\n",
       "      <td>미수신</td>\n",
       "      <td>1201180928</td>\n",
       "      <td>-5552</td>\n",
       "    </tr>\n",
       "    <tr>\n",
       "      <th>8702</th>\n",
       "      <td>미수신</td>\n",
       "      <td>1286779648</td>\n",
       "      <td>-9955</td>\n",
       "    </tr>\n",
       "    <tr>\n",
       "      <th>8780</th>\n",
       "      <td>미수신</td>\n",
       "      <td>1302022976</td>\n",
       "      <td>-192</td>\n",
       "    </tr>\n",
       "    <tr>\n",
       "      <th>9059</th>\n",
       "      <td>미수신</td>\n",
       "      <td>1352610112</td>\n",
       "      <td>-4978</td>\n",
       "    </tr>\n",
       "    <tr>\n",
       "      <th>9527</th>\n",
       "      <td>미수신</td>\n",
       "      <td>1458554304</td>\n",
       "      <td>-7275</td>\n",
       "    </tr>\n",
       "    <tr>\n",
       "      <th>9897</th>\n",
       "      <td>미수신</td>\n",
       "      <td>1516619264</td>\n",
       "      <td>-29482</td>\n",
       "    </tr>\n",
       "    <tr>\n",
       "      <th>9993</th>\n",
       "      <td>미수신</td>\n",
       "      <td>1529962048</td>\n",
       "      <td>-428723</td>\n",
       "    </tr>\n",
       "    <tr>\n",
       "      <th>10079</th>\n",
       "      <td>미수신</td>\n",
       "      <td>1541086912</td>\n",
       "      <td>-24869</td>\n",
       "    </tr>\n",
       "    <tr>\n",
       "      <th>10382</th>\n",
       "      <td>미수신</td>\n",
       "      <td>1580972352</td>\n",
       "      <td>-18762</td>\n",
       "    </tr>\n",
       "    <tr>\n",
       "      <th>10460</th>\n",
       "      <td>미수신</td>\n",
       "      <td>1607535424</td>\n",
       "      <td>-15316</td>\n",
       "    </tr>\n",
       "    <tr>\n",
       "      <th>10916</th>\n",
       "      <td>수신</td>\n",
       "      <td>482307584</td>\n",
       "      <td>-8232</td>\n",
       "    </tr>\n",
       "    <tr>\n",
       "      <th>11553</th>\n",
       "      <td>수신</td>\n",
       "      <td>1636303424</td>\n",
       "      <td>-2297</td>\n",
       "    </tr>\n",
       "  </tbody>\n",
       "</table>\n",
       "</div>"
      ],
      "text/plain": [
       "      모바일알람여부        회원번호    구매금액\n",
       "1         미수신    18764160  -88827\n",
       "11        미수신    20993216  -16464\n",
       "171       미수신    57302144   -7083\n",
       "449       미수신    97532800  -24313\n",
       "659       미수신   135862912  -21824\n",
       "887       미수신   178216832  -10817\n",
       "964       미수신   188946368    -957\n",
       "1067      미수신   204638848   -1149\n",
       "1167      미수신   221808704 -110462\n",
       "1423      미수신   263516736   -1340\n",
       "1468      미수신   267904320   -3254\n",
       "1791      미수신   317004800  -15316\n",
       "2259      미수신   399893760 -104526\n",
       "2653      미수신   459849984 -102612\n",
       "3015      미수신   535645312   -4212\n",
       "3140      미수신   554437312  -77419\n",
       "3505      미수신   603424576   -2489\n",
       "3603      미수신   619441856   -6126\n",
       "3999      미수신   677590336  -18282\n",
       "4000      미수신   677614464   -3638\n",
       "4199      미수신   702002304   -2872\n",
       "4507      미수신   743417088   -5360\n",
       "4608      미수신   745570048  -24313\n",
       "5448      미수신   791550592  -64707\n",
       "5626      미수신   817631104  -52981\n",
       "5745      미수신   832482816   -4020\n",
       "6061      미수신   864589760  -21442\n",
       "6080      미수신   866783552    -670\n",
       "6380      미수신   907203520  -22973\n",
       "6548      미수신   938016832  -19336\n",
       "6852      미수신   999474560  -23643\n",
       "7077      미수신  1019582464   -1723\n",
       "7347      미수신  1055243648  -15507\n",
       "7561      미수신  1094655808   -8903\n",
       "7872      미수신  1147481280  -12635\n",
       "8164      미수신  1201180928   -5552\n",
       "8702      미수신  1286779648   -9955\n",
       "8780      미수신  1302022976    -192\n",
       "9059      미수신  1352610112   -4978\n",
       "9527      미수신  1458554304   -7275\n",
       "9897      미수신  1516619264  -29482\n",
       "9993      미수신  1529962048 -428723\n",
       "10079     미수신  1541086912  -24869\n",
       "10382     미수신  1580972352  -18762\n",
       "10460     미수신  1607535424  -15316\n",
       "10916      수신   482307584   -8232\n",
       "11553      수신  1636303424   -2297"
      ]
     },
     "execution_count": 85,
     "metadata": {},
     "output_type": "execute_result"
    }
   ],
   "source": [
    "pv1_sum.loc[pv1_sum['구매금액']<0]"
   ]
  },
  {
   "cell_type": "code",
   "execution_count": 86,
   "id": "50ed1fa0",
   "metadata": {},
   "outputs": [
    {
     "data": {
      "text/plain": [
       "-1457828"
      ]
     },
     "execution_count": 86,
     "metadata": {},
     "output_type": "execute_result"
    }
   ],
   "source": [
    "pv1_sum.loc[pv1_sum['구매금액']<0]['구매금액'].sum()"
   ]
  },
  {
   "cell_type": "code",
   "execution_count": 87,
   "id": "b266ce0c",
   "metadata": {},
   "outputs": [
    {
     "data": {
      "text/html": [
       "<div>\n",
       "<style scoped>\n",
       "    .dataframe tbody tr th:only-of-type {\n",
       "        vertical-align: middle;\n",
       "    }\n",
       "\n",
       "    .dataframe tbody tr th {\n",
       "        vertical-align: top;\n",
       "    }\n",
       "\n",
       "    .dataframe thead th {\n",
       "        text-align: right;\n",
       "    }\n",
       "</style>\n",
       "<table border=\"1\" class=\"dataframe\">\n",
       "  <thead>\n",
       "    <tr style=\"text-align: right;\">\n",
       "      <th></th>\n",
       "      <th>공급일자</th>\n",
       "      <th>회원번호</th>\n",
       "      <th>조합원상태</th>\n",
       "      <th>물품대분류</th>\n",
       "      <th>물품중분류</th>\n",
       "      <th>물품소분류</th>\n",
       "      <th>물품명</th>\n",
       "      <th>구매수량</th>\n",
       "      <th>구매금액</th>\n",
       "      <th>구매매장</th>\n",
       "      <th>...</th>\n",
       "      <th>월</th>\n",
       "      <th>요일</th>\n",
       "      <th>주말/주중</th>\n",
       "      <th>주소</th>\n",
       "      <th>성별</th>\n",
       "      <th>연령</th>\n",
       "      <th>배송서비스신청여부</th>\n",
       "      <th>모바일알람여부</th>\n",
       "      <th>Gold_member</th>\n",
       "      <th>연령대</th>\n",
       "    </tr>\n",
       "  </thead>\n",
       "  <tbody>\n",
       "    <tr>\n",
       "      <th>214517</th>\n",
       "      <td>2022-04-27</td>\n",
       "      <td>18764160</td>\n",
       "      <td>정상회원</td>\n",
       "      <td>생활용품</td>\n",
       "      <td>생활용품</td>\n",
       "      <td>위생용품</td>\n",
       "      <td>면생리대(팬티라이너/3개)</td>\n",
       "      <td>1.0</td>\n",
       "      <td>21059</td>\n",
       "      <td>매장D</td>\n",
       "      <td>...</td>\n",
       "      <td>4</td>\n",
       "      <td>Wednesday</td>\n",
       "      <td>주중</td>\n",
       "      <td>기타-기타</td>\n",
       "      <td>여</td>\n",
       "      <td>76.0</td>\n",
       "      <td>미신청</td>\n",
       "      <td>미수신</td>\n",
       "      <td>normal</td>\n",
       "      <td>70대</td>\n",
       "    </tr>\n",
       "    <tr>\n",
       "      <th>214518</th>\n",
       "      <td>2022-05-02</td>\n",
       "      <td>18764160</td>\n",
       "      <td>정상회원</td>\n",
       "      <td>간식</td>\n",
       "      <td>과자</td>\n",
       "      <td>스낵</td>\n",
       "      <td>오징어땅콩볼(100g)</td>\n",
       "      <td>1.0</td>\n",
       "      <td>4595</td>\n",
       "      <td>매장D</td>\n",
       "      <td>...</td>\n",
       "      <td>5</td>\n",
       "      <td>Monday</td>\n",
       "      <td>주중</td>\n",
       "      <td>기타-기타</td>\n",
       "      <td>여</td>\n",
       "      <td>76.0</td>\n",
       "      <td>미신청</td>\n",
       "      <td>미수신</td>\n",
       "      <td>normal</td>\n",
       "      <td>70대</td>\n",
       "    </tr>\n",
       "    <tr>\n",
       "      <th>214519</th>\n",
       "      <td>2022-05-13</td>\n",
       "      <td>18764160</td>\n",
       "      <td>정상회원</td>\n",
       "      <td>건강</td>\n",
       "      <td>건강일반</td>\n",
       "      <td>추출/농축액</td>\n",
       "      <td>흑염소진액(100ml*30봉)</td>\n",
       "      <td>-1.0</td>\n",
       "      <td>-166554</td>\n",
       "      <td>매장D</td>\n",
       "      <td>...</td>\n",
       "      <td>5</td>\n",
       "      <td>Friday</td>\n",
       "      <td>주중</td>\n",
       "      <td>기타-기타</td>\n",
       "      <td>여</td>\n",
       "      <td>76.0</td>\n",
       "      <td>미신청</td>\n",
       "      <td>미수신</td>\n",
       "      <td>normal</td>\n",
       "      <td>70대</td>\n",
       "    </tr>\n",
       "    <tr>\n",
       "      <th>214520</th>\n",
       "      <td>2022-06-23</td>\n",
       "      <td>18764160</td>\n",
       "      <td>정상회원</td>\n",
       "      <td>간식</td>\n",
       "      <td>식사대용</td>\n",
       "      <td>식사대용/기타</td>\n",
       "      <td>소불고기볶음밥(300g)</td>\n",
       "      <td>1.0</td>\n",
       "      <td>9381</td>\n",
       "      <td>매장D</td>\n",
       "      <td>...</td>\n",
       "      <td>6</td>\n",
       "      <td>Thursday</td>\n",
       "      <td>주중</td>\n",
       "      <td>기타-기타</td>\n",
       "      <td>여</td>\n",
       "      <td>76.0</td>\n",
       "      <td>미신청</td>\n",
       "      <td>미수신</td>\n",
       "      <td>normal</td>\n",
       "      <td>70대</td>\n",
       "    </tr>\n",
       "    <tr>\n",
       "      <th>214521</th>\n",
       "      <td>2022-07-12</td>\n",
       "      <td>18764160</td>\n",
       "      <td>정상회원</td>\n",
       "      <td>채소</td>\n",
       "      <td>과일채소</td>\n",
       "      <td>메론</td>\n",
       "      <td>메론_머스크/중(1.5~2kg:1통)</td>\n",
       "      <td>1.0</td>\n",
       "      <td>14550</td>\n",
       "      <td>매장D</td>\n",
       "      <td>...</td>\n",
       "      <td>7</td>\n",
       "      <td>Tuesday</td>\n",
       "      <td>주중</td>\n",
       "      <td>기타-기타</td>\n",
       "      <td>여</td>\n",
       "      <td>76.0</td>\n",
       "      <td>미신청</td>\n",
       "      <td>미수신</td>\n",
       "      <td>normal</td>\n",
       "      <td>70대</td>\n",
       "    </tr>\n",
       "    <tr>\n",
       "      <th>214522</th>\n",
       "      <td>2022-08-22</td>\n",
       "      <td>18764160</td>\n",
       "      <td>정상회원</td>\n",
       "      <td>음료</td>\n",
       "      <td>음료</td>\n",
       "      <td>빙과</td>\n",
       "      <td>딸기꽁꽁(120ml)/매장용</td>\n",
       "      <td>2.0</td>\n",
       "      <td>4020</td>\n",
       "      <td>매장D</td>\n",
       "      <td>...</td>\n",
       "      <td>8</td>\n",
       "      <td>Monday</td>\n",
       "      <td>주중</td>\n",
       "      <td>기타-기타</td>\n",
       "      <td>여</td>\n",
       "      <td>76.0</td>\n",
       "      <td>미신청</td>\n",
       "      <td>미수신</td>\n",
       "      <td>normal</td>\n",
       "      <td>70대</td>\n",
       "    </tr>\n",
       "    <tr>\n",
       "      <th>214523</th>\n",
       "      <td>2022-08-22</td>\n",
       "      <td>18764160</td>\n",
       "      <td>정상회원</td>\n",
       "      <td>간식</td>\n",
       "      <td>빵</td>\n",
       "      <td>앙금크림빵</td>\n",
       "      <td>크림빵(75g)/매장</td>\n",
       "      <td>1.0</td>\n",
       "      <td>3063</td>\n",
       "      <td>매장D</td>\n",
       "      <td>...</td>\n",
       "      <td>8</td>\n",
       "      <td>Monday</td>\n",
       "      <td>주중</td>\n",
       "      <td>기타-기타</td>\n",
       "      <td>여</td>\n",
       "      <td>76.0</td>\n",
       "      <td>미신청</td>\n",
       "      <td>미수신</td>\n",
       "      <td>normal</td>\n",
       "      <td>70대</td>\n",
       "    </tr>\n",
       "    <tr>\n",
       "      <th>214524</th>\n",
       "      <td>2022-01-22</td>\n",
       "      <td>18764160</td>\n",
       "      <td>정상회원</td>\n",
       "      <td>생활용품</td>\n",
       "      <td>세제/세안</td>\n",
       "      <td>세안비누</td>\n",
       "      <td>키토산비누(4장/1세트)</td>\n",
       "      <td>-1.0</td>\n",
       "      <td>-8806</td>\n",
       "      <td>매장A</td>\n",
       "      <td>...</td>\n",
       "      <td>1</td>\n",
       "      <td>Saturday</td>\n",
       "      <td>주말</td>\n",
       "      <td>기타-기타</td>\n",
       "      <td>여</td>\n",
       "      <td>76.0</td>\n",
       "      <td>미신청</td>\n",
       "      <td>미수신</td>\n",
       "      <td>normal</td>\n",
       "      <td>70대</td>\n",
       "    </tr>\n",
       "    <tr>\n",
       "      <th>214525</th>\n",
       "      <td>2022-01-22</td>\n",
       "      <td>18764160</td>\n",
       "      <td>정상회원</td>\n",
       "      <td>생활용품</td>\n",
       "      <td>생활용품</td>\n",
       "      <td>치약/칫솔</td>\n",
       "      <td>물사랑치약(150g*2개)</td>\n",
       "      <td>1.0</td>\n",
       "      <td>8806</td>\n",
       "      <td>매장A</td>\n",
       "      <td>...</td>\n",
       "      <td>1</td>\n",
       "      <td>Saturday</td>\n",
       "      <td>주말</td>\n",
       "      <td>기타-기타</td>\n",
       "      <td>여</td>\n",
       "      <td>76.0</td>\n",
       "      <td>미신청</td>\n",
       "      <td>미수신</td>\n",
       "      <td>normal</td>\n",
       "      <td>70대</td>\n",
       "    </tr>\n",
       "    <tr>\n",
       "      <th>214526</th>\n",
       "      <td>2022-03-29</td>\n",
       "      <td>18764160</td>\n",
       "      <td>정상회원</td>\n",
       "      <td>생활용품</td>\n",
       "      <td>생활용품</td>\n",
       "      <td>위생용품</td>\n",
       "      <td>면생리대(팬티라이너/3개)</td>\n",
       "      <td>1.0</td>\n",
       "      <td>21059</td>\n",
       "      <td>매장A</td>\n",
       "      <td>...</td>\n",
       "      <td>3</td>\n",
       "      <td>Tuesday</td>\n",
       "      <td>주중</td>\n",
       "      <td>기타-기타</td>\n",
       "      <td>여</td>\n",
       "      <td>76.0</td>\n",
       "      <td>미신청</td>\n",
       "      <td>미수신</td>\n",
       "      <td>normal</td>\n",
       "      <td>70대</td>\n",
       "    </tr>\n",
       "  </tbody>\n",
       "</table>\n",
       "<p>10 rows × 26 columns</p>\n",
       "</div>"
      ],
      "text/plain": [
       "              공급일자      회원번호 조합원상태 물품대분류  물품중분류    물품소분류  \\\n",
       "214517  2022-04-27  18764160  정상회원  생활용품   생활용품     위생용품   \n",
       "214518  2022-05-02  18764160  정상회원    간식     과자       스낵   \n",
       "214519  2022-05-13  18764160  정상회원    건강   건강일반   추출/농축액   \n",
       "214520  2022-06-23  18764160  정상회원    간식   식사대용  식사대용/기타   \n",
       "214521  2022-07-12  18764160  정상회원    채소   과일채소       메론   \n",
       "214522  2022-08-22  18764160  정상회원    음료     음료       빙과   \n",
       "214523  2022-08-22  18764160  정상회원    간식      빵    앙금크림빵   \n",
       "214524  2022-01-22  18764160  정상회원  생활용품  세제/세안     세안비누   \n",
       "214525  2022-01-22  18764160  정상회원  생활용품   생활용품    치약/칫솔   \n",
       "214526  2022-03-29  18764160  정상회원  생활용품   생활용품     위생용품   \n",
       "\n",
       "                         물품명  구매수량    구매금액 구매매장  ...  월         요일 주말/주중  \\\n",
       "214517        면생리대(팬티라이너/3개)   1.0   21059  매장D  ...  4  Wednesday    주중   \n",
       "214518          오징어땅콩볼(100g)   1.0    4595  매장D  ...  5     Monday    주중   \n",
       "214519      흑염소진액(100ml*30봉)  -1.0 -166554  매장D  ...  5     Friday    주중   \n",
       "214520         소불고기볶음밥(300g)   1.0    9381  매장D  ...  6   Thursday    주중   \n",
       "214521  메론_머스크/중(1.5~2kg:1통)   1.0   14550  매장D  ...  7    Tuesday    주중   \n",
       "214522       딸기꽁꽁(120ml)/매장용   2.0    4020  매장D  ...  8     Monday    주중   \n",
       "214523           크림빵(75g)/매장   1.0    3063  매장D  ...  8     Monday    주중   \n",
       "214524         키토산비누(4장/1세트)  -1.0   -8806  매장A  ...  1   Saturday    주말   \n",
       "214525        물사랑치약(150g*2개)   1.0    8806  매장A  ...  1   Saturday    주말   \n",
       "214526        면생리대(팬티라이너/3개)   1.0   21059  매장A  ...  3    Tuesday    주중   \n",
       "\n",
       "           주소  성별    연령  배송서비스신청여부 모바일알람여부 Gold_member  연령대  \n",
       "214517  기타-기타   여  76.0        미신청     미수신      normal  70대  \n",
       "214518  기타-기타   여  76.0        미신청     미수신      normal  70대  \n",
       "214519  기타-기타   여  76.0        미신청     미수신      normal  70대  \n",
       "214520  기타-기타   여  76.0        미신청     미수신      normal  70대  \n",
       "214521  기타-기타   여  76.0        미신청     미수신      normal  70대  \n",
       "214522  기타-기타   여  76.0        미신청     미수신      normal  70대  \n",
       "214523  기타-기타   여  76.0        미신청     미수신      normal  70대  \n",
       "214524  기타-기타   여  76.0        미신청     미수신      normal  70대  \n",
       "214525  기타-기타   여  76.0        미신청     미수신      normal  70대  \n",
       "214526  기타-기타   여  76.0        미신청     미수신      normal  70대  \n",
       "\n",
       "[10 rows x 26 columns]"
      ]
     },
     "execution_count": 87,
     "metadata": {},
     "output_type": "execute_result"
    }
   ],
   "source": [
    "onemarket_df.loc[onemarket_df['회원번호']==18764160]"
   ]
  },
  {
   "cell_type": "code",
   "execution_count": 88,
   "id": "854b7f55",
   "metadata": {},
   "outputs": [
    {
     "data": {
      "text/html": [
       "<div>\n",
       "<style scoped>\n",
       "    .dataframe tbody tr th:only-of-type {\n",
       "        vertical-align: middle;\n",
       "    }\n",
       "\n",
       "    .dataframe tbody tr th {\n",
       "        vertical-align: top;\n",
       "    }\n",
       "\n",
       "    .dataframe thead th {\n",
       "        text-align: right;\n",
       "    }\n",
       "</style>\n",
       "<table border=\"1\" class=\"dataframe\">\n",
       "  <thead>\n",
       "    <tr style=\"text-align: right;\">\n",
       "      <th></th>\n",
       "      <th>공급일자</th>\n",
       "      <th>회원번호</th>\n",
       "      <th>조합원상태</th>\n",
       "      <th>물품대분류</th>\n",
       "      <th>물품중분류</th>\n",
       "      <th>물품소분류</th>\n",
       "      <th>물품명</th>\n",
       "      <th>구매수량</th>\n",
       "      <th>구매금액</th>\n",
       "      <th>구매매장</th>\n",
       "      <th>...</th>\n",
       "      <th>월</th>\n",
       "      <th>요일</th>\n",
       "      <th>주말/주중</th>\n",
       "      <th>주소</th>\n",
       "      <th>성별</th>\n",
       "      <th>연령</th>\n",
       "      <th>배송서비스신청여부</th>\n",
       "      <th>모바일알람여부</th>\n",
       "      <th>Gold_member</th>\n",
       "      <th>연령대</th>\n",
       "    </tr>\n",
       "  </thead>\n",
       "  <tbody>\n",
       "    <tr>\n",
       "      <th>137438</th>\n",
       "      <td>2022-02-27</td>\n",
       "      <td>399893760</td>\n",
       "      <td>정상회원</td>\n",
       "      <td>반찬</td>\n",
       "      <td>밑반찬</td>\n",
       "      <td>부각/튀각</td>\n",
       "      <td>고추부각(60g)</td>\n",
       "      <td>-1.0</td>\n",
       "      <td>-6126</td>\n",
       "      <td>매장B</td>\n",
       "      <td>...</td>\n",
       "      <td>2</td>\n",
       "      <td>Sunday</td>\n",
       "      <td>주말</td>\n",
       "      <td>기타-기타</td>\n",
       "      <td>남</td>\n",
       "      <td>51.0</td>\n",
       "      <td>미신청</td>\n",
       "      <td>미수신</td>\n",
       "      <td>normal</td>\n",
       "      <td>50대</td>\n",
       "    </tr>\n",
       "    <tr>\n",
       "      <th>137434</th>\n",
       "      <td>2022-02-21</td>\n",
       "      <td>399893760</td>\n",
       "      <td>정상회원</td>\n",
       "      <td>수산</td>\n",
       "      <td>냉동수산</td>\n",
       "      <td>냉동생선</td>\n",
       "      <td>대구포(400g)</td>\n",
       "      <td>-4.0</td>\n",
       "      <td>-104910</td>\n",
       "      <td>매장D</td>\n",
       "      <td>...</td>\n",
       "      <td>2</td>\n",
       "      <td>Monday</td>\n",
       "      <td>주중</td>\n",
       "      <td>기타-기타</td>\n",
       "      <td>남</td>\n",
       "      <td>51.0</td>\n",
       "      <td>미신청</td>\n",
       "      <td>미수신</td>\n",
       "      <td>normal</td>\n",
       "      <td>50대</td>\n",
       "    </tr>\n",
       "    <tr>\n",
       "      <th>137435</th>\n",
       "      <td>2022-02-21</td>\n",
       "      <td>399893760</td>\n",
       "      <td>정상회원</td>\n",
       "      <td>수산</td>\n",
       "      <td>냉동수산</td>\n",
       "      <td>냉동생선</td>\n",
       "      <td>대구포(400g)</td>\n",
       "      <td>4.0</td>\n",
       "      <td>104910</td>\n",
       "      <td>매장D</td>\n",
       "      <td>...</td>\n",
       "      <td>2</td>\n",
       "      <td>Monday</td>\n",
       "      <td>주중</td>\n",
       "      <td>기타-기타</td>\n",
       "      <td>남</td>\n",
       "      <td>51.0</td>\n",
       "      <td>미신청</td>\n",
       "      <td>미수신</td>\n",
       "      <td>normal</td>\n",
       "      <td>50대</td>\n",
       "    </tr>\n",
       "    <tr>\n",
       "      <th>137439</th>\n",
       "      <td>2022-02-21</td>\n",
       "      <td>399893760</td>\n",
       "      <td>정상회원</td>\n",
       "      <td>채소</td>\n",
       "      <td>뿌리채소</td>\n",
       "      <td>무</td>\n",
       "      <td>무(0.7~1kg미만)</td>\n",
       "      <td>-1.0</td>\n",
       "      <td>-1914</td>\n",
       "      <td>매장A</td>\n",
       "      <td>...</td>\n",
       "      <td>2</td>\n",
       "      <td>Monday</td>\n",
       "      <td>주중</td>\n",
       "      <td>기타-기타</td>\n",
       "      <td>남</td>\n",
       "      <td>51.0</td>\n",
       "      <td>미신청</td>\n",
       "      <td>미수신</td>\n",
       "      <td>normal</td>\n",
       "      <td>50대</td>\n",
       "    </tr>\n",
       "    <tr>\n",
       "      <th>137440</th>\n",
       "      <td>2022-02-21</td>\n",
       "      <td>399893760</td>\n",
       "      <td>정상회원</td>\n",
       "      <td>과실</td>\n",
       "      <td>견과</td>\n",
       "      <td>땅콩</td>\n",
       "      <td>볶은피땅콩(500g)</td>\n",
       "      <td>8.0</td>\n",
       "      <td>125586</td>\n",
       "      <td>매장A</td>\n",
       "      <td>...</td>\n",
       "      <td>2</td>\n",
       "      <td>Monday</td>\n",
       "      <td>주중</td>\n",
       "      <td>기타-기타</td>\n",
       "      <td>남</td>\n",
       "      <td>51.0</td>\n",
       "      <td>미신청</td>\n",
       "      <td>미수신</td>\n",
       "      <td>normal</td>\n",
       "      <td>50대</td>\n",
       "    </tr>\n",
       "    <tr>\n",
       "      <th>137436</th>\n",
       "      <td>2022-02-21</td>\n",
       "      <td>399893760</td>\n",
       "      <td>정상회원</td>\n",
       "      <td>생활용품</td>\n",
       "      <td>화장품</td>\n",
       "      <td>기초화장품</td>\n",
       "      <td>수피아 내츄럴 수분미스트토너</td>\n",
       "      <td>-8.0</td>\n",
       "      <td>-119459</td>\n",
       "      <td>매장D</td>\n",
       "      <td>...</td>\n",
       "      <td>2</td>\n",
       "      <td>Monday</td>\n",
       "      <td>주중</td>\n",
       "      <td>기타-기타</td>\n",
       "      <td>남</td>\n",
       "      <td>51.0</td>\n",
       "      <td>미신청</td>\n",
       "      <td>미수신</td>\n",
       "      <td>normal</td>\n",
       "      <td>50대</td>\n",
       "    </tr>\n",
       "    <tr>\n",
       "      <th>137431</th>\n",
       "      <td>2022-02-21</td>\n",
       "      <td>399893760</td>\n",
       "      <td>정상회원</td>\n",
       "      <td>생활용품</td>\n",
       "      <td>화장품</td>\n",
       "      <td>바디/핸드</td>\n",
       "      <td>수피아 누리봄 손크림(허브향/30g)</td>\n",
       "      <td>-17.0</td>\n",
       "      <td>-110653</td>\n",
       "      <td>매장C</td>\n",
       "      <td>...</td>\n",
       "      <td>2</td>\n",
       "      <td>Monday</td>\n",
       "      <td>주중</td>\n",
       "      <td>기타-기타</td>\n",
       "      <td>남</td>\n",
       "      <td>51.0</td>\n",
       "      <td>미신청</td>\n",
       "      <td>미수신</td>\n",
       "      <td>normal</td>\n",
       "      <td>50대</td>\n",
       "    </tr>\n",
       "    <tr>\n",
       "      <th>137437</th>\n",
       "      <td>2022-02-27</td>\n",
       "      <td>399893760</td>\n",
       "      <td>정상회원</td>\n",
       "      <td>음료</td>\n",
       "      <td>음료</td>\n",
       "      <td>건강차</td>\n",
       "      <td>양파즙(120ml*20봉)</td>\n",
       "      <td>4.0</td>\n",
       "      <td>111036</td>\n",
       "      <td>매장B</td>\n",
       "      <td>...</td>\n",
       "      <td>2</td>\n",
       "      <td>Sunday</td>\n",
       "      <td>주말</td>\n",
       "      <td>기타-기타</td>\n",
       "      <td>남</td>\n",
       "      <td>51.0</td>\n",
       "      <td>미신청</td>\n",
       "      <td>미수신</td>\n",
       "      <td>normal</td>\n",
       "      <td>50대</td>\n",
       "    </tr>\n",
       "    <tr>\n",
       "      <th>137432</th>\n",
       "      <td>2022-02-21</td>\n",
       "      <td>399893760</td>\n",
       "      <td>정상회원</td>\n",
       "      <td>축산물</td>\n",
       "      <td>소</td>\n",
       "      <td>한우(냉장)</td>\n",
       "      <td>우둔장조림(신선육/300g/국내산)</td>\n",
       "      <td>-2.0</td>\n",
       "      <td>-60113</td>\n",
       "      <td>매장C</td>\n",
       "      <td>...</td>\n",
       "      <td>2</td>\n",
       "      <td>Monday</td>\n",
       "      <td>주중</td>\n",
       "      <td>기타-기타</td>\n",
       "      <td>남</td>\n",
       "      <td>51.0</td>\n",
       "      <td>미신청</td>\n",
       "      <td>미수신</td>\n",
       "      <td>normal</td>\n",
       "      <td>50대</td>\n",
       "    </tr>\n",
       "    <tr>\n",
       "      <th>137433</th>\n",
       "      <td>2022-02-21</td>\n",
       "      <td>399893760</td>\n",
       "      <td>정상회원</td>\n",
       "      <td>간식</td>\n",
       "      <td>밀가공</td>\n",
       "      <td>간편조리면</td>\n",
       "      <td>우리밀우동(491g/2인분)</td>\n",
       "      <td>-4.0</td>\n",
       "      <td>-42883</td>\n",
       "      <td>매장C</td>\n",
       "      <td>...</td>\n",
       "      <td>2</td>\n",
       "      <td>Monday</td>\n",
       "      <td>주중</td>\n",
       "      <td>기타-기타</td>\n",
       "      <td>남</td>\n",
       "      <td>51.0</td>\n",
       "      <td>미신청</td>\n",
       "      <td>미수신</td>\n",
       "      <td>normal</td>\n",
       "      <td>50대</td>\n",
       "    </tr>\n",
       "  </tbody>\n",
       "</table>\n",
       "<p>10 rows × 26 columns</p>\n",
       "</div>"
      ],
      "text/plain": [
       "              공급일자       회원번호 조합원상태 물품대분류 물품중분류   물품소분류                   물품명  \\\n",
       "137438  2022-02-27  399893760  정상회원    반찬   밑반찬   부각/튀각             고추부각(60g)   \n",
       "137434  2022-02-21  399893760  정상회원    수산  냉동수산    냉동생선             대구포(400g)   \n",
       "137435  2022-02-21  399893760  정상회원    수산  냉동수산    냉동생선             대구포(400g)   \n",
       "137439  2022-02-21  399893760  정상회원    채소  뿌리채소       무          무(0.7~1kg미만)   \n",
       "137440  2022-02-21  399893760  정상회원    과실    견과      땅콩           볶은피땅콩(500g)   \n",
       "137436  2022-02-21  399893760  정상회원  생활용품   화장품   기초화장품       수피아 내츄럴 수분미스트토너   \n",
       "137431  2022-02-21  399893760  정상회원  생활용품   화장품   바디/핸드  수피아 누리봄 손크림(허브향/30g)   \n",
       "137437  2022-02-27  399893760  정상회원    음료    음료     건강차        양파즙(120ml*20봉)   \n",
       "137432  2022-02-21  399893760  정상회원   축산물     소  한우(냉장)   우둔장조림(신선육/300g/국내산)   \n",
       "137433  2022-02-21  399893760  정상회원    간식   밀가공   간편조리면       우리밀우동(491g/2인분)   \n",
       "\n",
       "        구매수량    구매금액 구매매장  ...  월      요일 주말/주중     주소  성별    연령  배송서비스신청여부  \\\n",
       "137438  -1.0   -6126  매장B  ...  2  Sunday    주말  기타-기타   남  51.0        미신청   \n",
       "137434  -4.0 -104910  매장D  ...  2  Monday    주중  기타-기타   남  51.0        미신청   \n",
       "137435   4.0  104910  매장D  ...  2  Monday    주중  기타-기타   남  51.0        미신청   \n",
       "137439  -1.0   -1914  매장A  ...  2  Monday    주중  기타-기타   남  51.0        미신청   \n",
       "137440   8.0  125586  매장A  ...  2  Monday    주중  기타-기타   남  51.0        미신청   \n",
       "137436  -8.0 -119459  매장D  ...  2  Monday    주중  기타-기타   남  51.0        미신청   \n",
       "137431 -17.0 -110653  매장C  ...  2  Monday    주중  기타-기타   남  51.0        미신청   \n",
       "137437   4.0  111036  매장B  ...  2  Sunday    주말  기타-기타   남  51.0        미신청   \n",
       "137432  -2.0  -60113  매장C  ...  2  Monday    주중  기타-기타   남  51.0        미신청   \n",
       "137433  -4.0  -42883  매장C  ...  2  Monday    주중  기타-기타   남  51.0        미신청   \n",
       "\n",
       "       모바일알람여부 Gold_member  연령대  \n",
       "137438     미수신      normal  50대  \n",
       "137434     미수신      normal  50대  \n",
       "137435     미수신      normal  50대  \n",
       "137439     미수신      normal  50대  \n",
       "137440     미수신      normal  50대  \n",
       "137436     미수신      normal  50대  \n",
       "137431     미수신      normal  50대  \n",
       "137437     미수신      normal  50대  \n",
       "137432     미수신      normal  50대  \n",
       "137433     미수신      normal  50대  \n",
       "\n",
       "[10 rows x 26 columns]"
      ]
     },
     "execution_count": 88,
     "metadata": {},
     "output_type": "execute_result"
    }
   ],
   "source": [
    "onemarket_df.loc[onemarket_df['회원번호']==399893760].sort_values(by='물품명')"
   ]
  },
  {
   "cell_type": "markdown",
   "id": "8bfc3b44",
   "metadata": {
    "jp-MarkdownHeadingCollapsed": true
   },
   "source": [
    "### 모바일 알람 여부에 따른 구매금액 대표값의 차이가 있다 vs 없다"
   ]
  },
  {
   "cell_type": "code",
   "execution_count": 89,
   "id": "17382e0f",
   "metadata": {},
   "outputs": [
    {
     "name": "stdout",
     "output_type": "stream",
     "text": [
      "NormaltestResult(statistic=175669.35314839988, pvalue=0.0)\n",
      "NormaltestResult(statistic=575072.2485612824, pvalue=0.0)\n"
     ]
    }
   ],
   "source": [
    "cond1 = onemarket_df['모바일알람여부'] == '수신'\n",
    "\n",
    "print(stats.normaltest(onemarket_df.loc[cond1]['구매금액']))\n",
    "print(stats.normaltest(onemarket_df.loc[~cond1]['구매금액']))\n",
    "# 정규성X"
   ]
  },
  {
   "cell_type": "code",
   "execution_count": 90,
   "id": "eddc09b9",
   "metadata": {},
   "outputs": [
    {
     "data": {
      "text/plain": [
       "RanksumsResult(statistic=-7.261468304893003, pvalue=3.829107351120792e-13)"
      ]
     },
     "execution_count": 90,
     "metadata": {},
     "output_type": "execute_result"
    }
   ],
   "source": [
    "stats.ranksums(onemarket_df.loc[cond1]['구매금액'],onemarket_df.loc[~cond1]['구매금액'])\n",
    "# 3.829107351120792e-13 < 0.05  ==> 귀무가설(대표값차이가없다) 기각 ==> 대표값의차이가 있다."
   ]
  },
  {
   "cell_type": "markdown",
   "id": "9d1abead",
   "metadata": {},
   "source": [
    "### 연령대 따른 구매금액 대표값의 차이가 있다 vs 없다"
   ]
  },
  {
   "cell_type": "code",
   "execution_count": 233,
   "id": "17777c52",
   "metadata": {},
   "outputs": [
    {
     "data": {
      "text/plain": [
       "연령대\n",
       "40대      111834\n",
       "50대       73701\n",
       "30대       42774\n",
       "60대       40191\n",
       "70대       21634\n",
       "80대        2943\n",
       "20대        1090\n",
       "90대이상       417\n",
       "10대          42\n",
       "Name: count, dtype: int64"
      ]
     },
     "execution_count": 233,
     "metadata": {},
     "output_type": "execute_result"
    }
   ],
   "source": [
    "onemarket_df['연령대'].value_counts()"
   ]
  },
  {
   "cell_type": "code",
   "execution_count": 93,
   "id": "bb42af6f",
   "metadata": {},
   "outputs": [],
   "source": [
    "# 여러 그룹을 비교하려면 Kruskal-Wallis H 검정을 사용하고, 사후검정으로 여러 그룹 간의 차이를 확인\n",
    "from scipy import stats"
   ]
  },
  {
   "cell_type": "code",
   "execution_count": 234,
   "id": "8cd52f3f",
   "metadata": {},
   "outputs": [
    {
     "name": "stdout",
     "output_type": "stream",
     "text": [
      "NormaltestResult(statistic=12.796932338901511, pvalue=0.0016641077759983881)\n",
      "NormaltestResult(statistic=2476.2197054499147, pvalue=0.0)\n",
      "NormaltestResult(statistic=66628.76671620019, pvalue=0.0)\n",
      "NormaltestResult(statistic=156967.5680970008, pvalue=0.0)\n",
      "NormaltestResult(statistic=219829.87513471124, pvalue=0.0)\n",
      "NormaltestResult(statistic=72683.02585017853, pvalue=0.0)\n",
      "NormaltestResult(statistic=25449.929805175496, pvalue=0.0)\n",
      "NormaltestResult(statistic=2429.4212765699067, pvalue=0.0)\n",
      "NormaltestResult(statistic=954.4314530113008, pvalue=5.5955567041618755e-208)\n"
     ]
    }
   ],
   "source": [
    "cond1 = onemarket_df['연령대'] == '10대'\n",
    "cond2 = onemarket_df['연령대'] == '20대'\n",
    "cond3 = onemarket_df['연령대'] == '30대'\n",
    "cond4 = onemarket_df['연령대'] == '40대'\n",
    "cond5 = onemarket_df['연령대'] == '50대'\n",
    "cond6 = onemarket_df['연령대'] == '60대'\n",
    "cond7 = onemarket_df['연령대'] == '70대'\n",
    "cond8 = onemarket_df['연령대'] == '80대'\n",
    "cond9 = onemarket_df['연령대'] == '90대이상'\n",
    "\n",
    "cond_age_list = [cond1,cond2,cond3,cond4,cond5,cond6,cond7,cond8,cond9]\n",
    "\n",
    "for cond in cond_age_list :\n",
    "    print(stats.normaltest(onemarket_df.loc[cond]['구매금액']))"
   ]
  },
  {
   "cell_type": "code",
   "execution_count": 94,
   "id": "2232c6a1",
   "metadata": {},
   "outputs": [
    {
     "data": {
      "text/plain": [
       "KruskalResult(statistic=705.3065882108048, pvalue=5.15480990507967e-147)"
      ]
     },
     "execution_count": 94,
     "metadata": {},
     "output_type": "execute_result"
    }
   ],
   "source": [
    "groups = onemarket_df.groupby('연령대')['구매금액'].apply(list)\n",
    "stats.kruskal(*groups)\n",
    "\n",
    "# 5.15480990507967e-147 < 0.05  ==> 귀무가설(대표값차이가없다) 기각 ==> 대표값의차이가 있다."
   ]
  },
  {
   "cell_type": "code",
   "execution_count": 258,
   "id": "ece1d7b1-f400-40be-933d-c2b790e68f36",
   "metadata": {},
   "outputs": [
    {
     "data": {
      "text/html": [
       "<div>\n",
       "<style scoped>\n",
       "    .dataframe tbody tr th:only-of-type {\n",
       "        vertical-align: middle;\n",
       "    }\n",
       "\n",
       "    .dataframe tbody tr th {\n",
       "        vertical-align: top;\n",
       "    }\n",
       "\n",
       "    .dataframe thead th {\n",
       "        text-align: right;\n",
       "    }\n",
       "</style>\n",
       "<table border=\"1\" class=\"dataframe\">\n",
       "  <thead>\n",
       "    <tr style=\"text-align: right;\">\n",
       "      <th></th>\n",
       "      <th>구매금액</th>\n",
       "    </tr>\n",
       "    <tr>\n",
       "      <th>물품중분류</th>\n",
       "      <th></th>\n",
       "    </tr>\n",
       "  </thead>\n",
       "  <tbody>\n",
       "    <tr>\n",
       "      <th>소</th>\n",
       "      <td>47478</td>\n",
       "    </tr>\n",
       "    <tr>\n",
       "      <th>돼지</th>\n",
       "      <td>42500</td>\n",
       "    </tr>\n",
       "    <tr>\n",
       "      <th>과일</th>\n",
       "      <td>37676</td>\n",
       "    </tr>\n",
       "  </tbody>\n",
       "</table>\n",
       "</div>"
      ],
      "text/plain": [
       "        구매금액\n",
       "물품중분류       \n",
       "소      47478\n",
       "돼지     42500\n",
       "과일     37676"
      ]
     },
     "execution_count": 258,
     "metadata": {},
     "output_type": "execute_result"
    }
   ],
   "source": [
    "onemarket_df.loc[cond1].pivot_table(index='물품중분류' , values='구매금액', aggfunc='sum').sort_values(by='구매금액', ascending=False).head(3)                                                                                 "
   ]
  },
  {
   "cell_type": "code",
   "execution_count": 249,
   "id": "7af9a371-5c67-413b-b642-0bbe69e81441",
   "metadata": {},
   "outputs": [
    {
     "data": {
      "text/html": [
       "<div>\n",
       "<style scoped>\n",
       "    .dataframe tbody tr th:only-of-type {\n",
       "        vertical-align: middle;\n",
       "    }\n",
       "\n",
       "    .dataframe tbody tr th {\n",
       "        vertical-align: top;\n",
       "    }\n",
       "\n",
       "    .dataframe thead th {\n",
       "        text-align: right;\n",
       "    }\n",
       "</style>\n",
       "<table border=\"1\" class=\"dataframe\">\n",
       "  <thead>\n",
       "    <tr style=\"text-align: right;\">\n",
       "      <th></th>\n",
       "      <th>구매금액</th>\n",
       "    </tr>\n",
       "    <tr>\n",
       "      <th>물품중분류</th>\n",
       "      <th></th>\n",
       "    </tr>\n",
       "  </thead>\n",
       "  <tbody>\n",
       "    <tr>\n",
       "      <th>소</th>\n",
       "      <td>628502</td>\n",
       "    </tr>\n",
       "    <tr>\n",
       "      <th>유제품</th>\n",
       "      <td>617871</td>\n",
       "    </tr>\n",
       "    <tr>\n",
       "      <th>알</th>\n",
       "      <td>508275</td>\n",
       "    </tr>\n",
       "  </tbody>\n",
       "</table>\n",
       "</div>"
      ],
      "text/plain": [
       "         구매금액\n",
       "물품중분류        \n",
       "소      628502\n",
       "유제품    617871\n",
       "알      508275"
      ]
     },
     "execution_count": 249,
     "metadata": {},
     "output_type": "execute_result"
    }
   ],
   "source": [
    "onemarket_df.loc[cond2].pivot_table(index='물품중분류' , values='구매금액', aggfunc='sum').sort_values(by='구매금액', ascending=False).head(3)\n"
   ]
  },
  {
   "cell_type": "code",
   "execution_count": 269,
   "id": "46777e83-1c2a-4179-b2c8-356ad9d1545d",
   "metadata": {},
   "outputs": [
    {
     "data": {
      "text/html": [
       "<div>\n",
       "<style scoped>\n",
       "    .dataframe tbody tr th:only-of-type {\n",
       "        vertical-align: middle;\n",
       "    }\n",
       "\n",
       "    .dataframe tbody tr th {\n",
       "        vertical-align: top;\n",
       "    }\n",
       "\n",
       "    .dataframe thead th {\n",
       "        text-align: right;\n",
       "    }\n",
       "</style>\n",
       "<table border=\"1\" class=\"dataframe\">\n",
       "  <thead>\n",
       "    <tr style=\"text-align: right;\">\n",
       "      <th></th>\n",
       "      <th>물품중분류</th>\n",
       "      <th>구매금액</th>\n",
       "    </tr>\n",
       "  </thead>\n",
       "  <tbody>\n",
       "    <tr>\n",
       "      <th>0</th>\n",
       "      <td>음료</td>\n",
       "      <td>23397862</td>\n",
       "    </tr>\n",
       "    <tr>\n",
       "      <th>1</th>\n",
       "      <td>알</td>\n",
       "      <td>20322516</td>\n",
       "    </tr>\n",
       "    <tr>\n",
       "      <th>2</th>\n",
       "      <td>소</td>\n",
       "      <td>18555175</td>\n",
       "    </tr>\n",
       "  </tbody>\n",
       "</table>\n",
       "</div>"
      ],
      "text/plain": [
       "  물품중분류      구매금액\n",
       "0    음료  23397862\n",
       "1     알  20322516\n",
       "2     소  18555175"
      ]
     },
     "execution_count": 269,
     "metadata": {},
     "output_type": "execute_result"
    }
   ],
   "source": [
    "p30 = onemarket_df.loc[cond3].pivot_table(index='물품중분류' , values='구매금액', aggfunc='sum').sort_values(by='구매금액', ascending=False).head(3).reset_index()\n",
    "p30"
   ]
  },
  {
   "cell_type": "code",
   "execution_count": 272,
   "id": "cd78781b-7e7b-42f4-8b71-2edfa2f2d5f7",
   "metadata": {
    "scrolled": true
   },
   "outputs": [
    {
     "data": {
      "text/html": [
       "<div>\n",
       "<style scoped>\n",
       "    .dataframe tbody tr th:only-of-type {\n",
       "        vertical-align: middle;\n",
       "    }\n",
       "\n",
       "    .dataframe tbody tr th {\n",
       "        vertical-align: top;\n",
       "    }\n",
       "\n",
       "    .dataframe thead th {\n",
       "        text-align: right;\n",
       "    }\n",
       "</style>\n",
       "<table border=\"1\" class=\"dataframe\">\n",
       "  <thead>\n",
       "    <tr style=\"text-align: right;\">\n",
       "      <th></th>\n",
       "      <th>물품중분류</th>\n",
       "      <th>구매금액</th>\n",
       "    </tr>\n",
       "  </thead>\n",
       "  <tbody>\n",
       "    <tr>\n",
       "      <th>0</th>\n",
       "      <td>알</td>\n",
       "      <td>67352343</td>\n",
       "    </tr>\n",
       "    <tr>\n",
       "      <th>1</th>\n",
       "      <td>육가공</td>\n",
       "      <td>60693224</td>\n",
       "    </tr>\n",
       "    <tr>\n",
       "      <th>2</th>\n",
       "      <td>중량(정육)</td>\n",
       "      <td>56386535</td>\n",
       "    </tr>\n",
       "  </tbody>\n",
       "</table>\n",
       "</div>"
      ],
      "text/plain": [
       "    물품중분류      구매금액\n",
       "0       알  67352343\n",
       "1     육가공  60693224\n",
       "2  중량(정육)  56386535"
      ]
     },
     "execution_count": 272,
     "metadata": {},
     "output_type": "execute_result"
    }
   ],
   "source": [
    "onemarket_df.loc[cond4].pivot_table(index='물품중분류' , values='구매금액', aggfunc='sum').sort_values(by='구매금액', ascending=False).head(3).reset_index()"
   ]
  },
  {
   "cell_type": "code",
   "execution_count": 273,
   "id": "fe1b934b-b602-405b-84ce-7d45e80b3da7",
   "metadata": {},
   "outputs": [
    {
     "data": {
      "text/html": [
       "<div>\n",
       "<style scoped>\n",
       "    .dataframe tbody tr th:only-of-type {\n",
       "        vertical-align: middle;\n",
       "    }\n",
       "\n",
       "    .dataframe tbody tr th {\n",
       "        vertical-align: top;\n",
       "    }\n",
       "\n",
       "    .dataframe thead th {\n",
       "        text-align: right;\n",
       "    }\n",
       "</style>\n",
       "<table border=\"1\" class=\"dataframe\">\n",
       "  <thead>\n",
       "    <tr style=\"text-align: right;\">\n",
       "      <th></th>\n",
       "      <th>물품중분류</th>\n",
       "      <th>구매금액</th>\n",
       "    </tr>\n",
       "  </thead>\n",
       "  <tbody>\n",
       "    <tr>\n",
       "      <th>0</th>\n",
       "      <td>과일</td>\n",
       "      <td>46525758</td>\n",
       "    </tr>\n",
       "    <tr>\n",
       "      <th>1</th>\n",
       "      <td>알</td>\n",
       "      <td>45616468</td>\n",
       "    </tr>\n",
       "    <tr>\n",
       "      <th>2</th>\n",
       "      <td>소</td>\n",
       "      <td>42792742</td>\n",
       "    </tr>\n",
       "  </tbody>\n",
       "</table>\n",
       "</div>"
      ],
      "text/plain": [
       "  물품중분류      구매금액\n",
       "0    과일  46525758\n",
       "1     알  45616468\n",
       "2     소  42792742"
      ]
     },
     "execution_count": 273,
     "metadata": {},
     "output_type": "execute_result"
    }
   ],
   "source": [
    "onemarket_df.loc[cond5].pivot_table(index='물품중분류' , values='구매금액', aggfunc='sum').sort_values(by='구매금액', ascending=False).head(3).reset_index()"
   ]
  },
  {
   "cell_type": "code",
   "execution_count": 274,
   "id": "370a0f57-05c2-4cfc-8ba6-8843678739e3",
   "metadata": {},
   "outputs": [
    {
     "data": {
      "text/html": [
       "<div>\n",
       "<style scoped>\n",
       "    .dataframe tbody tr th:only-of-type {\n",
       "        vertical-align: middle;\n",
       "    }\n",
       "\n",
       "    .dataframe tbody tr th {\n",
       "        vertical-align: top;\n",
       "    }\n",
       "\n",
       "    .dataframe thead th {\n",
       "        text-align: right;\n",
       "    }\n",
       "</style>\n",
       "<table border=\"1\" class=\"dataframe\">\n",
       "  <thead>\n",
       "    <tr style=\"text-align: right;\">\n",
       "      <th></th>\n",
       "      <th>물품중분류</th>\n",
       "      <th>구매금액</th>\n",
       "    </tr>\n",
       "  </thead>\n",
       "  <tbody>\n",
       "    <tr>\n",
       "      <th>0</th>\n",
       "      <td>소</td>\n",
       "      <td>30578006</td>\n",
       "    </tr>\n",
       "    <tr>\n",
       "      <th>1</th>\n",
       "      <td>과일</td>\n",
       "      <td>26822543</td>\n",
       "    </tr>\n",
       "    <tr>\n",
       "      <th>2</th>\n",
       "      <td>알</td>\n",
       "      <td>25257177</td>\n",
       "    </tr>\n",
       "  </tbody>\n",
       "</table>\n",
       "</div>"
      ],
      "text/plain": [
       "  물품중분류      구매금액\n",
       "0     소  30578006\n",
       "1    과일  26822543\n",
       "2     알  25257177"
      ]
     },
     "execution_count": 274,
     "metadata": {},
     "output_type": "execute_result"
    }
   ],
   "source": [
    "onemarket_df.loc[cond6].pivot_table(index='물품중분류' , values='구매금액', aggfunc='sum').sort_values(by='구매금액', ascending=False).head(3).reset_index()"
   ]
  },
  {
   "cell_type": "code",
   "execution_count": 275,
   "id": "82cc48f1-3fda-4e68-892b-bb0f7b1aa0ae",
   "metadata": {},
   "outputs": [
    {
     "data": {
      "text/html": [
       "<div>\n",
       "<style scoped>\n",
       "    .dataframe tbody tr th:only-of-type {\n",
       "        vertical-align: middle;\n",
       "    }\n",
       "\n",
       "    .dataframe tbody tr th {\n",
       "        vertical-align: top;\n",
       "    }\n",
       "\n",
       "    .dataframe thead th {\n",
       "        text-align: right;\n",
       "    }\n",
       "</style>\n",
       "<table border=\"1\" class=\"dataframe\">\n",
       "  <thead>\n",
       "    <tr style=\"text-align: right;\">\n",
       "      <th></th>\n",
       "      <th>물품중분류</th>\n",
       "      <th>구매금액</th>\n",
       "    </tr>\n",
       "  </thead>\n",
       "  <tbody>\n",
       "    <tr>\n",
       "      <th>0</th>\n",
       "      <td>소</td>\n",
       "      <td>18786737</td>\n",
       "    </tr>\n",
       "    <tr>\n",
       "      <th>1</th>\n",
       "      <td>알</td>\n",
       "      <td>16834067</td>\n",
       "    </tr>\n",
       "    <tr>\n",
       "      <th>2</th>\n",
       "      <td>과일</td>\n",
       "      <td>16492354</td>\n",
       "    </tr>\n",
       "  </tbody>\n",
       "</table>\n",
       "</div>"
      ],
      "text/plain": [
       "  물품중분류      구매금액\n",
       "0     소  18786737\n",
       "1     알  16834067\n",
       "2    과일  16492354"
      ]
     },
     "execution_count": 275,
     "metadata": {},
     "output_type": "execute_result"
    }
   ],
   "source": [
    "onemarket_df.loc[cond7].pivot_table(index='물품중분류' , values='구매금액', aggfunc='sum').sort_values(by='구매금액', ascending=False).head(3).reset_index()"
   ]
  },
  {
   "cell_type": "code",
   "execution_count": 256,
   "id": "cb5a93b2-fb8e-4265-b499-4733fd03f0f2",
   "metadata": {},
   "outputs": [
    {
     "data": {
      "text/html": [
       "<div>\n",
       "<style scoped>\n",
       "    .dataframe tbody tr th:only-of-type {\n",
       "        vertical-align: middle;\n",
       "    }\n",
       "\n",
       "    .dataframe tbody tr th {\n",
       "        vertical-align: top;\n",
       "    }\n",
       "\n",
       "    .dataframe thead th {\n",
       "        text-align: right;\n",
       "    }\n",
       "</style>\n",
       "<table border=\"1\" class=\"dataframe\">\n",
       "  <thead>\n",
       "    <tr style=\"text-align: right;\">\n",
       "      <th></th>\n",
       "      <th>구매금액</th>\n",
       "    </tr>\n",
       "    <tr>\n",
       "      <th>물품중분류</th>\n",
       "      <th></th>\n",
       "    </tr>\n",
       "  </thead>\n",
       "  <tbody>\n",
       "    <tr>\n",
       "      <th>과일</th>\n",
       "      <td>2238891</td>\n",
       "    </tr>\n",
       "    <tr>\n",
       "      <th>알</th>\n",
       "      <td>2115621</td>\n",
       "    </tr>\n",
       "    <tr>\n",
       "      <th>멥쌀</th>\n",
       "      <td>1783276</td>\n",
       "    </tr>\n",
       "  </tbody>\n",
       "</table>\n",
       "</div>"
      ],
      "text/plain": [
       "          구매금액\n",
       "물품중분류         \n",
       "과일     2238891\n",
       "알      2115621\n",
       "멥쌀     1783276"
      ]
     },
     "execution_count": 256,
     "metadata": {},
     "output_type": "execute_result"
    }
   ],
   "source": [
    "onemarket_df.loc[cond8].pivot_table(index='물품중분류' , values='구매금액', aggfunc='sum').sort_values(by='구매금액', ascending=False).head(3)"
   ]
  },
  {
   "cell_type": "code",
   "execution_count": 257,
   "id": "19da0feb-60bc-4b5c-8b83-e4ef21ee4ce7",
   "metadata": {},
   "outputs": [
    {
     "data": {
      "text/html": [
       "<div>\n",
       "<style scoped>\n",
       "    .dataframe tbody tr th:only-of-type {\n",
       "        vertical-align: middle;\n",
       "    }\n",
       "\n",
       "    .dataframe tbody tr th {\n",
       "        vertical-align: top;\n",
       "    }\n",
       "\n",
       "    .dataframe thead th {\n",
       "        text-align: right;\n",
       "    }\n",
       "</style>\n",
       "<table border=\"1\" class=\"dataframe\">\n",
       "  <thead>\n",
       "    <tr style=\"text-align: right;\">\n",
       "      <th></th>\n",
       "      <th>구매금액</th>\n",
       "    </tr>\n",
       "    <tr>\n",
       "      <th>물품중분류</th>\n",
       "      <th></th>\n",
       "    </tr>\n",
       "  </thead>\n",
       "  <tbody>\n",
       "    <tr>\n",
       "      <th>장</th>\n",
       "      <td>1713976</td>\n",
       "    </tr>\n",
       "    <tr>\n",
       "      <th>소</th>\n",
       "      <td>778018</td>\n",
       "    </tr>\n",
       "    <tr>\n",
       "      <th>과일</th>\n",
       "      <td>706229</td>\n",
       "    </tr>\n",
       "  </tbody>\n",
       "</table>\n",
       "</div>"
      ],
      "text/plain": [
       "          구매금액\n",
       "물품중분류         \n",
       "장      1713976\n",
       "소       778018\n",
       "과일      706229"
      ]
     },
     "execution_count": 257,
     "metadata": {},
     "output_type": "execute_result"
    }
   ],
   "source": [
    "onemarket_df.loc[cond9].pivot_table(index='물품중분류' , values='구매금액', aggfunc='sum').sort_values(by='구매금액', ascending=False).head(3)"
   ]
  },
  {
   "cell_type": "markdown",
   "id": "0c16e23a-2532-4b8b-8661-2d346efe7d65",
   "metadata": {
    "jp-MarkdownHeadingCollapsed": true
   },
   "source": [
    "### 시간대에 따른 구매품목 조회"
   ]
  },
  {
   "cell_type": "code",
   "execution_count": 276,
   "id": "a1cd6d3d-c5be-498f-833d-e2a68ca6fe66",
   "metadata": {},
   "outputs": [
    {
     "name": "stdout",
     "output_type": "stream",
     "text": [
      "<class 'pandas.core.frame.DataFrame'>\n",
      "RangeIndex: 294645 entries, 0 to 294644\n",
      "Data columns (total 26 columns):\n",
      " #   Column       Non-Null Count   Dtype         \n",
      "---  ------       --------------   -----         \n",
      " 0   공급일자         294645 non-null  object        \n",
      " 1   회원번호         294645 non-null  int64         \n",
      " 2   조합원상태        294645 non-null  object        \n",
      " 3   물품대분류        294645 non-null  object        \n",
      " 4   물품중분류        294645 non-null  object        \n",
      " 5   물품소분류        294645 non-null  object        \n",
      " 6   물품명          294645 non-null  object        \n",
      " 7   구매수량         294645 non-null  float64       \n",
      " 8   구매금액         294645 non-null  int64         \n",
      " 9   구매매장         294645 non-null  object        \n",
      " 10  반품_원거래일자     4960 non-null    object        \n",
      " 11  구매시각         294645 non-null  object        \n",
      " 12  구매시각_dt      294645 non-null  datetime64[ns]\n",
      " 13  시간대          294645 non-null  object        \n",
      " 14  구매시각_시       294645 non-null  int32         \n",
      " 15  공급일자_dt      294645 non-null  datetime64[ns]\n",
      " 16  월            294645 non-null  int32         \n",
      " 17  요일           294645 non-null  object        \n",
      " 18  주말/주중        294645 non-null  object        \n",
      " 19  주소           294645 non-null  object        \n",
      " 20  성별           294642 non-null  object        \n",
      " 21  연령           294626 non-null  float64       \n",
      " 22  배송서비스신청여부    294645 non-null  object        \n",
      " 23  모바일알람여부      294645 non-null  object        \n",
      " 24  Gold_member  294645 non-null  object        \n",
      " 25  연령대          294626 non-null  object        \n",
      "dtypes: datetime64[ns](2), float64(2), int32(2), int64(2), object(18)\n",
      "memory usage: 56.2+ MB\n"
     ]
    }
   ],
   "source": [
    "onemarket_df.info()"
   ]
  },
  {
   "cell_type": "code",
   "execution_count": 280,
   "id": "e022c9d5-6cc1-456a-9eec-8e64eb3f2f93",
   "metadata": {},
   "outputs": [
    {
     "data": {
      "text/plain": [
       "count    294645.000000\n",
       "mean         14.023964\n",
       "std           2.823293\n",
       "min           8.000000\n",
       "25%          11.000000\n",
       "50%          14.000000\n",
       "75%          16.000000\n",
       "max          20.000000\n",
       "Name: 구매시각_시, dtype: float64"
      ]
     },
     "execution_count": 280,
     "metadata": {},
     "output_type": "execute_result"
    }
   ],
   "source": [
    "onemarket_df['구매시각_시'].describe()"
   ]
  },
  {
   "cell_type": "code",
   "execution_count": 282,
   "id": "e1e371ca-2715-4fa5-ae7a-0fd3e8062f10",
   "metadata": {},
   "outputs": [
    {
     "name": "stdout",
     "output_type": "stream",
     "text": [
      "NormaltestResult(statistic=30.34230215843594, pvalue=2.577821266297932e-07)\n",
      "NormaltestResult(statistic=293.7280803337429, pvalue=1.6510406478058112e-64)\n",
      "NormaltestResult(statistic=61515.74880046551, pvalue=0.0)\n",
      "NormaltestResult(statistic=85448.28285440673, pvalue=0.0)\n",
      "NormaltestResult(statistic=57383.417921484404, pvalue=0.0)\n",
      "NormaltestResult(statistic=36713.10759638228, pvalue=0.0)\n",
      "NormaltestResult(statistic=46481.47973217833, pvalue=0.0)\n",
      "NormaltestResult(statistic=43166.329964848934, pvalue=0.0)\n",
      "NormaltestResult(statistic=87154.75919672592, pvalue=0.0)\n",
      "NormaltestResult(statistic=38167.98956714377, pvalue=0.0)\n",
      "NormaltestResult(statistic=39694.03439060699, pvalue=0.0)\n",
      "NormaltestResult(statistic=60716.42631136917, pvalue=0.0)\n",
      "NormaltestResult(statistic=1102.4413546303304, pvalue=4.054166036494387e-240)\n"
     ]
    }
   ],
   "source": [
    "cond1 = onemarket_df['구매시각_시'] == 8\n",
    "cond2 = onemarket_df['구매시각_시'] == 9\n",
    "cond3 = onemarket_df['구매시각_시'] == 10\n",
    "cond4 = onemarket_df['구매시각_시'] == 11\n",
    "cond5 = onemarket_df['구매시각_시'] == 12\n",
    "cond6 = onemarket_df['구매시각_시'] == 13\n",
    "cond7 = onemarket_df['구매시각_시'] == 14\n",
    "cond8 = onemarket_df['구매시각_시'] == 15\n",
    "cond9 = onemarket_df['구매시각_시'] == 16\n",
    "cond10 = onemarket_df['구매시각_시'] == 17\n",
    "cond11 = onemarket_df['구매시각_시'] == 18\n",
    "cond12 = onemarket_df['구매시각_시'] == 19\n",
    "cond13 = onemarket_df['구매시각_시'] == 20\n",
    "#cond_14 = onemarket_df['구매시각_시'] == 21\n",
    "\n",
    "cond_age_list = [cond1,cond2,cond3,cond4,cond5,cond6,cond7,cond8,cond9,cond10,cond11,cond12,cond13]\n",
    "\n",
    "for cond in cond_age_list :\n",
    "    print(stats.normaltest(onemarket_df.loc[cond]['구매금액']))"
   ]
  },
  {
   "cell_type": "code",
   "execution_count": 283,
   "id": "ce0936d4-2999-4fd5-913e-d370c893aa26",
   "metadata": {},
   "outputs": [
    {
     "data": {
      "text/html": [
       "<div>\n",
       "<style scoped>\n",
       "    .dataframe tbody tr th:only-of-type {\n",
       "        vertical-align: middle;\n",
       "    }\n",
       "\n",
       "    .dataframe tbody tr th {\n",
       "        vertical-align: top;\n",
       "    }\n",
       "\n",
       "    .dataframe thead th {\n",
       "        text-align: right;\n",
       "    }\n",
       "</style>\n",
       "<table border=\"1\" class=\"dataframe\">\n",
       "  <thead>\n",
       "    <tr style=\"text-align: right;\">\n",
       "      <th></th>\n",
       "      <th>구매금액</th>\n",
       "    </tr>\n",
       "    <tr>\n",
       "      <th>물품중분류</th>\n",
       "      <th></th>\n",
       "    </tr>\n",
       "  </thead>\n",
       "  <tbody>\n",
       "    <tr>\n",
       "      <th>떡</th>\n",
       "      <td>36374</td>\n",
       "    </tr>\n",
       "    <tr>\n",
       "      <th>과자</th>\n",
       "      <td>18953</td>\n",
       "    </tr>\n",
       "    <tr>\n",
       "      <th>유제품</th>\n",
       "      <td>17038</td>\n",
       "    </tr>\n",
       "  </tbody>\n",
       "</table>\n",
       "</div>"
      ],
      "text/plain": [
       "        구매금액\n",
       "물품중분류       \n",
       "떡      36374\n",
       "과자     18953\n",
       "유제품    17038"
      ]
     },
     "execution_count": 283,
     "metadata": {},
     "output_type": "execute_result"
    }
   ],
   "source": [
    "onemarket_df.loc[cond1].pivot_table(index='물품중분류' , values='구매금액', aggfunc='sum').sort_values(by='구매금액', ascending=False).head(3)"
   ]
  },
  {
   "cell_type": "code",
   "execution_count": 284,
   "id": "0060afb0-afd2-496c-89b1-7b8c4ee8fd6b",
   "metadata": {},
   "outputs": [
    {
     "data": {
      "text/html": [
       "<div>\n",
       "<style scoped>\n",
       "    .dataframe tbody tr th:only-of-type {\n",
       "        vertical-align: middle;\n",
       "    }\n",
       "\n",
       "    .dataframe tbody tr th {\n",
       "        vertical-align: top;\n",
       "    }\n",
       "\n",
       "    .dataframe thead th {\n",
       "        text-align: right;\n",
       "    }\n",
       "</style>\n",
       "<table border=\"1\" class=\"dataframe\">\n",
       "  <thead>\n",
       "    <tr style=\"text-align: right;\">\n",
       "      <th></th>\n",
       "      <th>구매금액</th>\n",
       "    </tr>\n",
       "    <tr>\n",
       "      <th>물품중분류</th>\n",
       "      <th></th>\n",
       "    </tr>\n",
       "  </thead>\n",
       "  <tbody>\n",
       "    <tr>\n",
       "      <th>음료</th>\n",
       "      <td>408421</td>\n",
       "    </tr>\n",
       "    <tr>\n",
       "      <th>멥쌀</th>\n",
       "      <td>315495</td>\n",
       "    </tr>\n",
       "    <tr>\n",
       "      <th>육가공</th>\n",
       "      <td>206947</td>\n",
       "    </tr>\n",
       "  </tbody>\n",
       "</table>\n",
       "</div>"
      ],
      "text/plain": [
       "         구매금액\n",
       "물품중분류        \n",
       "음료     408421\n",
       "멥쌀     315495\n",
       "육가공    206947"
      ]
     },
     "execution_count": 284,
     "metadata": {},
     "output_type": "execute_result"
    }
   ],
   "source": [
    "onemarket_df.loc[cond2].pivot_table(index='물품중분류' , values='구매금액', aggfunc='sum').sort_values(by='구매금액', ascending=False).head(3)"
   ]
  },
  {
   "cell_type": "code",
   "execution_count": 285,
   "id": "7316c359-1bad-4b86-abcc-5aaabb849e3d",
   "metadata": {},
   "outputs": [
    {
     "data": {
      "text/html": [
       "<div>\n",
       "<style scoped>\n",
       "    .dataframe tbody tr th:only-of-type {\n",
       "        vertical-align: middle;\n",
       "    }\n",
       "\n",
       "    .dataframe tbody tr th {\n",
       "        vertical-align: top;\n",
       "    }\n",
       "\n",
       "    .dataframe thead th {\n",
       "        text-align: right;\n",
       "    }\n",
       "</style>\n",
       "<table border=\"1\" class=\"dataframe\">\n",
       "  <thead>\n",
       "    <tr style=\"text-align: right;\">\n",
       "      <th></th>\n",
       "      <th>구매금액</th>\n",
       "    </tr>\n",
       "    <tr>\n",
       "      <th>물품중분류</th>\n",
       "      <th></th>\n",
       "    </tr>\n",
       "  </thead>\n",
       "  <tbody>\n",
       "    <tr>\n",
       "      <th>과일</th>\n",
       "      <td>31721987</td>\n",
       "    </tr>\n",
       "    <tr>\n",
       "      <th>소</th>\n",
       "      <td>24364925</td>\n",
       "    </tr>\n",
       "    <tr>\n",
       "      <th>알</th>\n",
       "      <td>24230712</td>\n",
       "    </tr>\n",
       "  </tbody>\n",
       "</table>\n",
       "</div>"
      ],
      "text/plain": [
       "           구매금액\n",
       "물품중분류          \n",
       "과일     31721987\n",
       "소      24364925\n",
       "알      24230712"
      ]
     },
     "execution_count": 285,
     "metadata": {},
     "output_type": "execute_result"
    }
   ],
   "source": [
    "onemarket_df.loc[cond3].pivot_table(index='물품중분류' , values='구매금액', aggfunc='sum').sort_values(by='구매금액', ascending=False).head(3)"
   ]
  },
  {
   "cell_type": "code",
   "execution_count": 286,
   "id": "2cd731cb-1555-4521-8dc7-43acc8ba2471",
   "metadata": {},
   "outputs": [
    {
     "data": {
      "text/html": [
       "<div>\n",
       "<style scoped>\n",
       "    .dataframe tbody tr th:only-of-type {\n",
       "        vertical-align: middle;\n",
       "    }\n",
       "\n",
       "    .dataframe tbody tr th {\n",
       "        vertical-align: top;\n",
       "    }\n",
       "\n",
       "    .dataframe thead th {\n",
       "        text-align: right;\n",
       "    }\n",
       "</style>\n",
       "<table border=\"1\" class=\"dataframe\">\n",
       "  <thead>\n",
       "    <tr style=\"text-align: right;\">\n",
       "      <th></th>\n",
       "      <th>구매금액</th>\n",
       "    </tr>\n",
       "    <tr>\n",
       "      <th>물품중분류</th>\n",
       "      <th></th>\n",
       "    </tr>\n",
       "  </thead>\n",
       "  <tbody>\n",
       "    <tr>\n",
       "      <th>알</th>\n",
       "      <td>20674235</td>\n",
       "    </tr>\n",
       "    <tr>\n",
       "      <th>과일</th>\n",
       "      <td>20658845</td>\n",
       "    </tr>\n",
       "    <tr>\n",
       "      <th>소</th>\n",
       "      <td>18457264</td>\n",
       "    </tr>\n",
       "  </tbody>\n",
       "</table>\n",
       "</div>"
      ],
      "text/plain": [
       "           구매금액\n",
       "물품중분류          \n",
       "알      20674235\n",
       "과일     20658845\n",
       "소      18457264"
      ]
     },
     "execution_count": 286,
     "metadata": {},
     "output_type": "execute_result"
    }
   ],
   "source": [
    "onemarket_df.loc[cond4].pivot_table(index='물품중분류' , values='구매금액', aggfunc='sum').sort_values(by='구매금액', ascending=False).head(3)"
   ]
  },
  {
   "cell_type": "code",
   "execution_count": 287,
   "id": "12132e94-7954-47fe-9407-7706fb3859cf",
   "metadata": {},
   "outputs": [
    {
     "data": {
      "text/html": [
       "<div>\n",
       "<style scoped>\n",
       "    .dataframe tbody tr th:only-of-type {\n",
       "        vertical-align: middle;\n",
       "    }\n",
       "\n",
       "    .dataframe tbody tr th {\n",
       "        vertical-align: top;\n",
       "    }\n",
       "\n",
       "    .dataframe thead th {\n",
       "        text-align: right;\n",
       "    }\n",
       "</style>\n",
       "<table border=\"1\" class=\"dataframe\">\n",
       "  <thead>\n",
       "    <tr style=\"text-align: right;\">\n",
       "      <th></th>\n",
       "      <th>구매금액</th>\n",
       "    </tr>\n",
       "    <tr>\n",
       "      <th>물품중분류</th>\n",
       "      <th></th>\n",
       "    </tr>\n",
       "  </thead>\n",
       "  <tbody>\n",
       "    <tr>\n",
       "      <th>과일</th>\n",
       "      <td>18140927</td>\n",
       "    </tr>\n",
       "    <tr>\n",
       "      <th>알</th>\n",
       "      <td>17571791</td>\n",
       "    </tr>\n",
       "    <tr>\n",
       "      <th>소</th>\n",
       "      <td>16160337</td>\n",
       "    </tr>\n",
       "  </tbody>\n",
       "</table>\n",
       "</div>"
      ],
      "text/plain": [
       "           구매금액\n",
       "물품중분류          \n",
       "과일     18140927\n",
       "알      17571791\n",
       "소      16160337"
      ]
     },
     "execution_count": 287,
     "metadata": {},
     "output_type": "execute_result"
    }
   ],
   "source": [
    "onemarket_df.loc[cond5].pivot_table(index='물품중분류' , values='구매금액', aggfunc='sum').sort_values(by='구매금액', ascending=False).head(3)"
   ]
  },
  {
   "cell_type": "code",
   "execution_count": 288,
   "id": "98963fe1-f041-4f12-8f70-0aacb6702a08",
   "metadata": {},
   "outputs": [
    {
     "data": {
      "text/html": [
       "<div>\n",
       "<style scoped>\n",
       "    .dataframe tbody tr th:only-of-type {\n",
       "        vertical-align: middle;\n",
       "    }\n",
       "\n",
       "    .dataframe tbody tr th {\n",
       "        vertical-align: top;\n",
       "    }\n",
       "\n",
       "    .dataframe thead th {\n",
       "        text-align: right;\n",
       "    }\n",
       "</style>\n",
       "<table border=\"1\" class=\"dataframe\">\n",
       "  <thead>\n",
       "    <tr style=\"text-align: right;\">\n",
       "      <th></th>\n",
       "      <th>구매금액</th>\n",
       "    </tr>\n",
       "    <tr>\n",
       "      <th>물품중분류</th>\n",
       "      <th></th>\n",
       "    </tr>\n",
       "  </thead>\n",
       "  <tbody>\n",
       "    <tr>\n",
       "      <th>알</th>\n",
       "      <td>17273097</td>\n",
       "    </tr>\n",
       "    <tr>\n",
       "      <th>과일</th>\n",
       "      <td>16373478</td>\n",
       "    </tr>\n",
       "    <tr>\n",
       "      <th>소</th>\n",
       "      <td>15268627</td>\n",
       "    </tr>\n",
       "  </tbody>\n",
       "</table>\n",
       "</div>"
      ],
      "text/plain": [
       "           구매금액\n",
       "물품중분류          \n",
       "알      17273097\n",
       "과일     16373478\n",
       "소      15268627"
      ]
     },
     "execution_count": 288,
     "metadata": {},
     "output_type": "execute_result"
    }
   ],
   "source": [
    "onemarket_df.loc[cond6].pivot_table(index='물품중분류' , values='구매금액', aggfunc='sum').sort_values(by='구매금액', ascending=False).head(3)"
   ]
  },
  {
   "cell_type": "code",
   "execution_count": 289,
   "id": "0e401e30-980a-40e0-9a7d-a6a9c3b9b367",
   "metadata": {},
   "outputs": [
    {
     "data": {
      "text/html": [
       "<div>\n",
       "<style scoped>\n",
       "    .dataframe tbody tr th:only-of-type {\n",
       "        vertical-align: middle;\n",
       "    }\n",
       "\n",
       "    .dataframe tbody tr th {\n",
       "        vertical-align: top;\n",
       "    }\n",
       "\n",
       "    .dataframe thead th {\n",
       "        text-align: right;\n",
       "    }\n",
       "</style>\n",
       "<table border=\"1\" class=\"dataframe\">\n",
       "  <thead>\n",
       "    <tr style=\"text-align: right;\">\n",
       "      <th></th>\n",
       "      <th>구매금액</th>\n",
       "    </tr>\n",
       "    <tr>\n",
       "      <th>물품중분류</th>\n",
       "      <th></th>\n",
       "    </tr>\n",
       "  </thead>\n",
       "  <tbody>\n",
       "    <tr>\n",
       "      <th>알</th>\n",
       "      <td>16840459</td>\n",
       "    </tr>\n",
       "    <tr>\n",
       "      <th>소</th>\n",
       "      <td>15485713</td>\n",
       "    </tr>\n",
       "    <tr>\n",
       "      <th>음료</th>\n",
       "      <td>14424839</td>\n",
       "    </tr>\n",
       "  </tbody>\n",
       "</table>\n",
       "</div>"
      ],
      "text/plain": [
       "           구매금액\n",
       "물품중분류          \n",
       "알      16840459\n",
       "소      15485713\n",
       "음료     14424839"
      ]
     },
     "execution_count": 289,
     "metadata": {},
     "output_type": "execute_result"
    }
   ],
   "source": [
    "onemarket_df.loc[cond7].pivot_table(index='물품중분류' , values='구매금액', aggfunc='sum').sort_values(by='구매금액', ascending=False).head(3)"
   ]
  },
  {
   "cell_type": "code",
   "execution_count": 290,
   "id": "127eb2b4-0b91-4fcb-b246-63ee70e14d0d",
   "metadata": {},
   "outputs": [
    {
     "data": {
      "text/html": [
       "<div>\n",
       "<style scoped>\n",
       "    .dataframe tbody tr th:only-of-type {\n",
       "        vertical-align: middle;\n",
       "    }\n",
       "\n",
       "    .dataframe tbody tr th {\n",
       "        vertical-align: top;\n",
       "    }\n",
       "\n",
       "    .dataframe thead th {\n",
       "        text-align: right;\n",
       "    }\n",
       "</style>\n",
       "<table border=\"1\" class=\"dataframe\">\n",
       "  <thead>\n",
       "    <tr style=\"text-align: right;\">\n",
       "      <th></th>\n",
       "      <th>구매금액</th>\n",
       "    </tr>\n",
       "    <tr>\n",
       "      <th>물품중분류</th>\n",
       "      <th></th>\n",
       "    </tr>\n",
       "  </thead>\n",
       "  <tbody>\n",
       "    <tr>\n",
       "      <th>알</th>\n",
       "      <td>18431825</td>\n",
       "    </tr>\n",
       "    <tr>\n",
       "      <th>소</th>\n",
       "      <td>17759276</td>\n",
       "    </tr>\n",
       "    <tr>\n",
       "      <th>육가공</th>\n",
       "      <td>14591571</td>\n",
       "    </tr>\n",
       "  </tbody>\n",
       "</table>\n",
       "</div>"
      ],
      "text/plain": [
       "           구매금액\n",
       "물품중분류          \n",
       "알      18431825\n",
       "소      17759276\n",
       "육가공    14591571"
      ]
     },
     "execution_count": 290,
     "metadata": {},
     "output_type": "execute_result"
    }
   ],
   "source": [
    "onemarket_df.loc[cond8].pivot_table(index='물품중분류' , values='구매금액', aggfunc='sum').sort_values(by='구매금액', ascending=False).head(3)"
   ]
  },
  {
   "cell_type": "code",
   "execution_count": 291,
   "id": "79627b9e-eae3-4978-ab75-4a9365be4247",
   "metadata": {},
   "outputs": [
    {
     "data": {
      "text/html": [
       "<div>\n",
       "<style scoped>\n",
       "    .dataframe tbody tr th:only-of-type {\n",
       "        vertical-align: middle;\n",
       "    }\n",
       "\n",
       "    .dataframe tbody tr th {\n",
       "        vertical-align: top;\n",
       "    }\n",
       "\n",
       "    .dataframe thead th {\n",
       "        text-align: right;\n",
       "    }\n",
       "</style>\n",
       "<table border=\"1\" class=\"dataframe\">\n",
       "  <thead>\n",
       "    <tr style=\"text-align: right;\">\n",
       "      <th></th>\n",
       "      <th>구매금액</th>\n",
       "    </tr>\n",
       "    <tr>\n",
       "      <th>물품중분류</th>\n",
       "      <th></th>\n",
       "    </tr>\n",
       "  </thead>\n",
       "  <tbody>\n",
       "    <tr>\n",
       "      <th>알</th>\n",
       "      <td>20796853</td>\n",
       "    </tr>\n",
       "    <tr>\n",
       "      <th>소</th>\n",
       "      <td>18305176</td>\n",
       "    </tr>\n",
       "    <tr>\n",
       "      <th>육가공</th>\n",
       "      <td>16091438</td>\n",
       "    </tr>\n",
       "  </tbody>\n",
       "</table>\n",
       "</div>"
      ],
      "text/plain": [
       "           구매금액\n",
       "물품중분류          \n",
       "알      20796853\n",
       "소      18305176\n",
       "육가공    16091438"
      ]
     },
     "execution_count": 291,
     "metadata": {},
     "output_type": "execute_result"
    }
   ],
   "source": [
    "onemarket_df.loc[cond9].pivot_table(index='물품중분류' , values='구매금액', aggfunc='sum').sort_values(by='구매금액', ascending=False).head(3)"
   ]
  },
  {
   "cell_type": "code",
   "execution_count": 292,
   "id": "e3aa3b07-2d7c-4470-9840-17ce5402f535",
   "metadata": {},
   "outputs": [
    {
     "data": {
      "text/html": [
       "<div>\n",
       "<style scoped>\n",
       "    .dataframe tbody tr th:only-of-type {\n",
       "        vertical-align: middle;\n",
       "    }\n",
       "\n",
       "    .dataframe tbody tr th {\n",
       "        vertical-align: top;\n",
       "    }\n",
       "\n",
       "    .dataframe thead th {\n",
       "        text-align: right;\n",
       "    }\n",
       "</style>\n",
       "<table border=\"1\" class=\"dataframe\">\n",
       "  <thead>\n",
       "    <tr style=\"text-align: right;\">\n",
       "      <th></th>\n",
       "      <th>구매금액</th>\n",
       "    </tr>\n",
       "    <tr>\n",
       "      <th>물품중분류</th>\n",
       "      <th></th>\n",
       "    </tr>\n",
       "  </thead>\n",
       "  <tbody>\n",
       "    <tr>\n",
       "      <th>알</th>\n",
       "      <td>17988900</td>\n",
       "    </tr>\n",
       "    <tr>\n",
       "      <th>중량(정육)</th>\n",
       "      <td>16170258</td>\n",
       "    </tr>\n",
       "    <tr>\n",
       "      <th>육가공</th>\n",
       "      <td>15224311</td>\n",
       "    </tr>\n",
       "  </tbody>\n",
       "</table>\n",
       "</div>"
      ],
      "text/plain": [
       "            구매금액\n",
       "물품중분류           \n",
       "알       17988900\n",
       "중량(정육)  16170258\n",
       "육가공     15224311"
      ]
     },
     "execution_count": 292,
     "metadata": {},
     "output_type": "execute_result"
    }
   ],
   "source": [
    "onemarket_df.loc[cond10].pivot_table(index='물품중분류' , values='구매금액', aggfunc='sum').sort_values(by='구매금액', ascending=False).head(3)"
   ]
  },
  {
   "cell_type": "code",
   "execution_count": 293,
   "id": "0ae43d7f-9911-4aba-a31b-7703130616ed",
   "metadata": {},
   "outputs": [
    {
     "data": {
      "text/html": [
       "<div>\n",
       "<style scoped>\n",
       "    .dataframe tbody tr th:only-of-type {\n",
       "        vertical-align: middle;\n",
       "    }\n",
       "\n",
       "    .dataframe tbody tr th {\n",
       "        vertical-align: top;\n",
       "    }\n",
       "\n",
       "    .dataframe thead th {\n",
       "        text-align: right;\n",
       "    }\n",
       "</style>\n",
       "<table border=\"1\" class=\"dataframe\">\n",
       "  <thead>\n",
       "    <tr style=\"text-align: right;\">\n",
       "      <th></th>\n",
       "      <th>구매금액</th>\n",
       "    </tr>\n",
       "    <tr>\n",
       "      <th>물품중분류</th>\n",
       "      <th></th>\n",
       "    </tr>\n",
       "  </thead>\n",
       "  <tbody>\n",
       "    <tr>\n",
       "      <th>알</th>\n",
       "      <td>13939144</td>\n",
       "    </tr>\n",
       "    <tr>\n",
       "      <th>육가공</th>\n",
       "      <td>12902390</td>\n",
       "    </tr>\n",
       "    <tr>\n",
       "      <th>소</th>\n",
       "      <td>12290167</td>\n",
       "    </tr>\n",
       "  </tbody>\n",
       "</table>\n",
       "</div>"
      ],
      "text/plain": [
       "           구매금액\n",
       "물품중분류          \n",
       "알      13939144\n",
       "육가공    12902390\n",
       "소      12290167"
      ]
     },
     "execution_count": 293,
     "metadata": {},
     "output_type": "execute_result"
    }
   ],
   "source": [
    "onemarket_df.loc[cond11].pivot_table(index='물품중분류' , values='구매금액', aggfunc='sum').sort_values(by='구매금액', ascending=False).head(3)"
   ]
  },
  {
   "cell_type": "code",
   "execution_count": 294,
   "id": "a863c366-c148-4b73-87e5-77bb4413cedb",
   "metadata": {},
   "outputs": [
    {
     "data": {
      "text/html": [
       "<div>\n",
       "<style scoped>\n",
       "    .dataframe tbody tr th:only-of-type {\n",
       "        vertical-align: middle;\n",
       "    }\n",
       "\n",
       "    .dataframe tbody tr th {\n",
       "        vertical-align: top;\n",
       "    }\n",
       "\n",
       "    .dataframe thead th {\n",
       "        text-align: right;\n",
       "    }\n",
       "</style>\n",
       "<table border=\"1\" class=\"dataframe\">\n",
       "  <thead>\n",
       "    <tr style=\"text-align: right;\">\n",
       "      <th></th>\n",
       "      <th>구매금액</th>\n",
       "    </tr>\n",
       "    <tr>\n",
       "      <th>물품중분류</th>\n",
       "      <th></th>\n",
       "    </tr>\n",
       "  </thead>\n",
       "  <tbody>\n",
       "    <tr>\n",
       "      <th>알</th>\n",
       "      <td>10232461</td>\n",
       "    </tr>\n",
       "    <tr>\n",
       "      <th>육가공</th>\n",
       "      <td>9179389</td>\n",
       "    </tr>\n",
       "    <tr>\n",
       "      <th>소</th>\n",
       "      <td>8732458</td>\n",
       "    </tr>\n",
       "  </tbody>\n",
       "</table>\n",
       "</div>"
      ],
      "text/plain": [
       "           구매금액\n",
       "물품중분류          \n",
       "알      10232461\n",
       "육가공     9179389\n",
       "소       8732458"
      ]
     },
     "execution_count": 294,
     "metadata": {},
     "output_type": "execute_result"
    }
   ],
   "source": [
    "onemarket_df.loc[cond12].pivot_table(index='물품중분류' , values='구매금액', aggfunc='sum').sort_values(by='구매금액', ascending=False).head(3)"
   ]
  },
  {
   "cell_type": "code",
   "execution_count": null,
   "id": "dd316491-85da-41bc-8def-7829a7b64744",
   "metadata": {},
   "outputs": [],
   "source": []
  },
  {
   "cell_type": "code",
   "execution_count": null,
   "id": "fdbdde2c-6d9c-442b-9d45-8b2bb85cfa20",
   "metadata": {},
   "outputs": [],
   "source": []
  },
  {
   "cell_type": "code",
   "execution_count": null,
   "id": "c7ec59df-265d-4b9c-ae43-f02855512430",
   "metadata": {},
   "outputs": [],
   "source": []
  },
  {
   "cell_type": "markdown",
   "id": "305ff6f2-ec00-42c2-ac94-e3e5ce6e9f46",
   "metadata": {},
   "source": [
    "## RFM"
   ]
  },
  {
   "cell_type": "code",
   "execution_count": 19,
   "id": "c78b9dd4-9e7e-410f-833a-1a9a84c7f89d",
   "metadata": {},
   "outputs": [],
   "source": [
    "# 최근성\n",
    "onemarket_df['Rencency'] = max(onemarket_df['공급일자_dt']) - onemarket_df['공급일자_dt']"
   ]
  },
  {
   "cell_type": "code",
   "execution_count": 20,
   "id": "0513d46b",
   "metadata": {},
   "outputs": [],
   "source": [
    "p1 = onemarket_df.pivot_table(index='회원번호', values = 'Rencency' , aggfunc = 'min').reset_index()\n",
    "def fun1(row) :\n",
    "    a = str(row).split(' ')[0]\n",
    "    return int(a)\n",
    "\n",
    "p1['R'] = p1['Rencency'].apply(fun1)"
   ]
  },
  {
   "cell_type": "code",
   "execution_count": 21,
   "id": "836ee833",
   "metadata": {
    "scrolled": true
   },
   "outputs": [],
   "source": [
    "# 빈도수\n",
    "onemarket_df['count'] = 1\n",
    "p0 = onemarket_df.pivot_table(index=['회원번호','공급일자'], values='count', aggfunc='min').reset_index() # 고객이 결제를 했으면 1, 아니면 넘어감\n",
    "p2 = p0.pivot_table(index='회원번호', values='count', aggfunc='sum').reset_index()"
   ]
  },
  {
   "cell_type": "code",
   "execution_count": 22,
   "id": "e2f7a9a4-04f2-494e-96f7-467f49b5216a",
   "metadata": {},
   "outputs": [],
   "source": [
    "p2 = p2.rename(columns = {'count' : 'F'})"
   ]
  },
  {
   "cell_type": "code",
   "execution_count": 23,
   "id": "37abcc25",
   "metadata": {},
   "outputs": [],
   "source": [
    "# 금액\n",
    "p3 = onemarket_df.pivot_table(index=['회원번호'] , values = '구매금액' , aggfunc='sum').reset_index()"
   ]
  },
  {
   "cell_type": "code",
   "execution_count": 24,
   "id": "9d26b2ae-f559-4f41-93b6-8f9f6ef55fcf",
   "metadata": {},
   "outputs": [],
   "source": [
    "m1 = pd.merge(p1,p2, on='회원번호', how='inner')\n",
    "m2 = pd.merge(m1,p3, on='회원번호', how='inner')"
   ]
  },
  {
   "cell_type": "code",
   "execution_count": 31,
   "id": "1b318bb2-a3c2-4a4c-9c92-2689112e0272",
   "metadata": {},
   "outputs": [
    {
     "data": {
      "text/plain": [
       "고객등급\n",
       "Normal    0.300043\n",
       "VIP       0.200000\n",
       "Gold      0.200000\n",
       "Silver    0.199913\n",
       "VVIP      0.100043\n",
       "Name: count, dtype: float64"
      ]
     },
     "execution_count": 31,
     "metadata": {},
     "output_type": "execute_result"
    }
   ],
   "source": [
    "m2['Score'] = (m2['구매금액']*0.4) + (m2['F']*0.3) - (m2['R']*0.3)\n",
    "\n",
    "cond1 = m2['Score'] >= m2['Score'].quantile(0.9)\n",
    "cond2 = m2['Score'] >= m2['Score'].quantile(0.7)\n",
    "cond3 = m2['Score'] >= m2['Score'].quantile(0.5)\n",
    "cond4 = m2['Score'] >= m2['Score'].quantile(0.3)\n",
    "\n",
    "m2['고객등급'] = 'Normal'\n",
    "m2.loc[cond4, '고객등급'] = 'Silver'\n",
    "m2.loc[cond3, '고객등급'] = 'Gold'\n",
    "m2.loc[cond2, '고객등급'] = 'VIP'\n",
    "m2.loc[cond1, '고객등급'] = 'VVIP'\n",
    "\n",
    "m2['고객등급'].value_counts() / m2['고객등급'].value_counts().sum()\n"
   ]
  },
  {
   "cell_type": "code",
   "execution_count": 102,
   "id": "00c2dc60-3c02-4ea9-a2a2-475ec89a4239",
   "metadata": {},
   "outputs": [
    {
     "data": {
      "text/html": [
       "<div>\n",
       "<style scoped>\n",
       "    .dataframe tbody tr th:only-of-type {\n",
       "        vertical-align: middle;\n",
       "    }\n",
       "\n",
       "    .dataframe tbody tr th {\n",
       "        vertical-align: top;\n",
       "    }\n",
       "\n",
       "    .dataframe thead th {\n",
       "        text-align: right;\n",
       "    }\n",
       "</style>\n",
       "<table border=\"1\" class=\"dataframe\">\n",
       "  <thead>\n",
       "    <tr style=\"text-align: right;\">\n",
       "      <th></th>\n",
       "      <th>회원번호</th>\n",
       "      <th>조합원상태</th>\n",
       "      <th>주소</th>\n",
       "      <th>성별</th>\n",
       "      <th>연령</th>\n",
       "      <th>배송서비스신청여부</th>\n",
       "      <th>모바일알람여부</th>\n",
       "      <th>Gold_member</th>\n",
       "      <th>연령대</th>\n",
       "    </tr>\n",
       "  </thead>\n",
       "  <tbody>\n",
       "    <tr>\n",
       "      <th>0</th>\n",
       "      <td>1000012800</td>\n",
       "      <td>정상회원</td>\n",
       "      <td>수지구-풍덕천동</td>\n",
       "      <td>여</td>\n",
       "      <td>58.0</td>\n",
       "      <td>미신청</td>\n",
       "      <td>미수신</td>\n",
       "      <td>normal</td>\n",
       "      <td>50대</td>\n",
       "    </tr>\n",
       "    <tr>\n",
       "      <th>1</th>\n",
       "      <td>1000103744</td>\n",
       "      <td>정상회원</td>\n",
       "      <td>처인구-고림동</td>\n",
       "      <td>여</td>\n",
       "      <td>34.0</td>\n",
       "      <td>미신청</td>\n",
       "      <td>미수신</td>\n",
       "      <td>normal</td>\n",
       "      <td>30대</td>\n",
       "    </tr>\n",
       "    <tr>\n",
       "      <th>2</th>\n",
       "      <td>1000122304</td>\n",
       "      <td>정상회원</td>\n",
       "      <td>광주-기타</td>\n",
       "      <td>여</td>\n",
       "      <td>38.0</td>\n",
       "      <td>미신청</td>\n",
       "      <td>미수신</td>\n",
       "      <td>normal</td>\n",
       "      <td>30대</td>\n",
       "    </tr>\n",
       "    <tr>\n",
       "      <th>3</th>\n",
       "      <td>1000163136</td>\n",
       "      <td>정상회원</td>\n",
       "      <td>수지구-동천동</td>\n",
       "      <td>여</td>\n",
       "      <td>73.0</td>\n",
       "      <td>미신청</td>\n",
       "      <td>미수신</td>\n",
       "      <td>normal</td>\n",
       "      <td>70대</td>\n",
       "    </tr>\n",
       "    <tr>\n",
       "      <th>4</th>\n",
       "      <td>1000281920</td>\n",
       "      <td>정상회원</td>\n",
       "      <td>수지구-풍덕천동</td>\n",
       "      <td>여</td>\n",
       "      <td>42.0</td>\n",
       "      <td>신청</td>\n",
       "      <td>미수신</td>\n",
       "      <td>normal</td>\n",
       "      <td>40대</td>\n",
       "    </tr>\n",
       "    <tr>\n",
       "      <th>...</th>\n",
       "      <td>...</td>\n",
       "      <td>...</td>\n",
       "      <td>...</td>\n",
       "      <td>...</td>\n",
       "      <td>...</td>\n",
       "      <td>...</td>\n",
       "      <td>...</td>\n",
       "      <td>...</td>\n",
       "      <td>...</td>\n",
       "    </tr>\n",
       "    <tr>\n",
       "      <th>11550</th>\n",
       "      <td>999682432</td>\n",
       "      <td>탈퇴</td>\n",
       "      <td>수지구-동천동</td>\n",
       "      <td>여</td>\n",
       "      <td>47.0</td>\n",
       "      <td>미신청</td>\n",
       "      <td>미수신</td>\n",
       "      <td>normal</td>\n",
       "      <td>40대</td>\n",
       "    </tr>\n",
       "    <tr>\n",
       "      <th>11551</th>\n",
       "      <td>999721408</td>\n",
       "      <td>정상회원</td>\n",
       "      <td>수지구-동천동</td>\n",
       "      <td>여</td>\n",
       "      <td>43.0</td>\n",
       "      <td>미신청</td>\n",
       "      <td>미수신</td>\n",
       "      <td>normal</td>\n",
       "      <td>40대</td>\n",
       "    </tr>\n",
       "    <tr>\n",
       "      <th>11552</th>\n",
       "      <td>999738112</td>\n",
       "      <td>정상회원</td>\n",
       "      <td>수지구-성복동</td>\n",
       "      <td>여</td>\n",
       "      <td>67.0</td>\n",
       "      <td>미신청</td>\n",
       "      <td>미수신</td>\n",
       "      <td>normal</td>\n",
       "      <td>60대</td>\n",
       "    </tr>\n",
       "    <tr>\n",
       "      <th>11553</th>\n",
       "      <td>999754816</td>\n",
       "      <td>정상회원</td>\n",
       "      <td>수지구-상현동</td>\n",
       "      <td>여</td>\n",
       "      <td>44.0</td>\n",
       "      <td>신청</td>\n",
       "      <td>미수신</td>\n",
       "      <td>normal</td>\n",
       "      <td>40대</td>\n",
       "    </tr>\n",
       "    <tr>\n",
       "      <th>11554</th>\n",
       "      <td>99995712</td>\n",
       "      <td>정상회원</td>\n",
       "      <td>수지구-상현동</td>\n",
       "      <td>여</td>\n",
       "      <td>66.0</td>\n",
       "      <td>미신청</td>\n",
       "      <td>미수신</td>\n",
       "      <td>normal</td>\n",
       "      <td>60대</td>\n",
       "    </tr>\n",
       "  </tbody>\n",
       "</table>\n",
       "<p>11555 rows × 9 columns</p>\n",
       "</div>"
      ],
      "text/plain": [
       "             회원번호 조합원상태        주소 성별    연령 배송서비스신청여부 모바일알람여부 Gold_member  연령대\n",
       "0      1000012800  정상회원  수지구-풍덕천동  여  58.0       미신청     미수신      normal  50대\n",
       "1      1000103744  정상회원   처인구-고림동  여  34.0       미신청     미수신      normal  30대\n",
       "2      1000122304  정상회원     광주-기타  여  38.0       미신청     미수신      normal  30대\n",
       "3      1000163136  정상회원   수지구-동천동  여  73.0       미신청     미수신      normal  70대\n",
       "4      1000281920  정상회원  수지구-풍덕천동  여  42.0        신청     미수신      normal  40대\n",
       "...           ...   ...       ... ..   ...       ...     ...         ...  ...\n",
       "11550   999682432    탈퇴   수지구-동천동  여  47.0       미신청     미수신      normal  40대\n",
       "11551   999721408  정상회원   수지구-동천동  여  43.0       미신청     미수신      normal  40대\n",
       "11552   999738112  정상회원   수지구-성복동  여  67.0       미신청     미수신      normal  60대\n",
       "11553   999754816  정상회원   수지구-상현동  여  44.0        신청     미수신      normal  40대\n",
       "11554    99995712  정상회원   수지구-상현동  여  66.0       미신청     미수신      normal  60대\n",
       "\n",
       "[11555 rows x 9 columns]"
      ]
     },
     "execution_count": 102,
     "metadata": {},
     "output_type": "execute_result"
    }
   ],
   "source": [
    "member_df"
   ]
  },
  {
   "cell_type": "code",
   "execution_count": 32,
   "id": "6c1b07a7-2e4e-4caa-ae21-1cc7da2aa186",
   "metadata": {},
   "outputs": [
    {
     "data": {
      "text/html": [
       "<div>\n",
       "<style scoped>\n",
       "    .dataframe tbody tr th:only-of-type {\n",
       "        vertical-align: middle;\n",
       "    }\n",
       "\n",
       "    .dataframe tbody tr th {\n",
       "        vertical-align: top;\n",
       "    }\n",
       "\n",
       "    .dataframe thead th {\n",
       "        text-align: right;\n",
       "    }\n",
       "</style>\n",
       "<table border=\"1\" class=\"dataframe\">\n",
       "  <thead>\n",
       "    <tr style=\"text-align: right;\">\n",
       "      <th></th>\n",
       "      <th>회원번호</th>\n",
       "      <th>Rencency</th>\n",
       "      <th>R</th>\n",
       "      <th>F</th>\n",
       "      <th>구매금액</th>\n",
       "      <th>Score</th>\n",
       "      <th>고객등급</th>\n",
       "    </tr>\n",
       "  </thead>\n",
       "  <tbody>\n",
       "    <tr>\n",
       "      <th>0</th>\n",
       "      <td>18613824</td>\n",
       "      <td>119 days</td>\n",
       "      <td>119</td>\n",
       "      <td>1</td>\n",
       "      <td>21059</td>\n",
       "      <td>8388.2</td>\n",
       "      <td>Normal</td>\n",
       "    </tr>\n",
       "    <tr>\n",
       "      <th>1</th>\n",
       "      <td>18764160</td>\n",
       "      <td>69 days</td>\n",
       "      <td>69</td>\n",
       "      <td>8</td>\n",
       "      <td>-88827</td>\n",
       "      <td>-35549.1</td>\n",
       "      <td>Normal</td>\n",
       "    </tr>\n",
       "    <tr>\n",
       "      <th>2</th>\n",
       "      <td>18792000</td>\n",
       "      <td>209 days</td>\n",
       "      <td>209</td>\n",
       "      <td>1</td>\n",
       "      <td>33311</td>\n",
       "      <td>13262.0</td>\n",
       "      <td>Normal</td>\n",
       "    </tr>\n",
       "    <tr>\n",
       "      <th>3</th>\n",
       "      <td>18942336</td>\n",
       "      <td>11 days</td>\n",
       "      <td>11</td>\n",
       "      <td>12</td>\n",
       "      <td>560920</td>\n",
       "      <td>224368.3</td>\n",
       "      <td>VIP</td>\n",
       "    </tr>\n",
       "    <tr>\n",
       "      <th>4</th>\n",
       "      <td>18949760</td>\n",
       "      <td>31 days</td>\n",
       "      <td>31</td>\n",
       "      <td>1</td>\n",
       "      <td>2776</td>\n",
       "      <td>1101.4</td>\n",
       "      <td>Normal</td>\n",
       "    </tr>\n",
       "    <tr>\n",
       "      <th>...</th>\n",
       "      <td>...</td>\n",
       "      <td>...</td>\n",
       "      <td>...</td>\n",
       "      <td>...</td>\n",
       "      <td>...</td>\n",
       "      <td>...</td>\n",
       "      <td>...</td>\n",
       "    </tr>\n",
       "    <tr>\n",
       "      <th>11550</th>\n",
       "      <td>1644772352</td>\n",
       "      <td>1 days</td>\n",
       "      <td>1</td>\n",
       "      <td>1</td>\n",
       "      <td>85000</td>\n",
       "      <td>34000.0</td>\n",
       "      <td>Silver</td>\n",
       "    </tr>\n",
       "    <tr>\n",
       "      <th>11551</th>\n",
       "      <td>1644957952</td>\n",
       "      <td>1 days</td>\n",
       "      <td>1</td>\n",
       "      <td>1</td>\n",
       "      <td>25079</td>\n",
       "      <td>10031.6</td>\n",
       "      <td>Normal</td>\n",
       "    </tr>\n",
       "    <tr>\n",
       "      <th>11552</th>\n",
       "      <td>1670400000</td>\n",
       "      <td>0 days</td>\n",
       "      <td>0</td>\n",
       "      <td>281</td>\n",
       "      <td>13060734</td>\n",
       "      <td>5224377.9</td>\n",
       "      <td>VVIP</td>\n",
       "    </tr>\n",
       "    <tr>\n",
       "      <th>11553</th>\n",
       "      <td>1670606016</td>\n",
       "      <td>19 days</td>\n",
       "      <td>19</td>\n",
       "      <td>6</td>\n",
       "      <td>129223</td>\n",
       "      <td>51685.3</td>\n",
       "      <td>Gold</td>\n",
       "    </tr>\n",
       "    <tr>\n",
       "      <th>11554</th>\n",
       "      <td>1670620864</td>\n",
       "      <td>147 days</td>\n",
       "      <td>147</td>\n",
       "      <td>10</td>\n",
       "      <td>273762</td>\n",
       "      <td>109463.7</td>\n",
       "      <td>VIP</td>\n",
       "    </tr>\n",
       "  </tbody>\n",
       "</table>\n",
       "<p>11555 rows × 7 columns</p>\n",
       "</div>"
      ],
      "text/plain": [
       "             회원번호 Rencency    R    F      구매금액      Score    고객등급\n",
       "0        18613824 119 days  119    1     21059     8388.2  Normal\n",
       "1        18764160  69 days   69    8    -88827   -35549.1  Normal\n",
       "2        18792000 209 days  209    1     33311    13262.0  Normal\n",
       "3        18942336  11 days   11   12    560920   224368.3     VIP\n",
       "4        18949760  31 days   31    1      2776     1101.4  Normal\n",
       "...           ...      ...  ...  ...       ...        ...     ...\n",
       "11550  1644772352   1 days    1    1     85000    34000.0  Silver\n",
       "11551  1644957952   1 days    1    1     25079    10031.6  Normal\n",
       "11552  1670400000   0 days    0  281  13060734  5224377.9    VVIP\n",
       "11553  1670606016  19 days   19    6    129223    51685.3    Gold\n",
       "11554  1670620864 147 days  147   10    273762   109463.7     VIP\n",
       "\n",
       "[11555 rows x 7 columns]"
      ]
     },
     "execution_count": 32,
     "metadata": {},
     "output_type": "execute_result"
    }
   ],
   "source": [
    "m2"
   ]
  },
  {
   "cell_type": "code",
   "execution_count": 104,
   "id": "76561f89-3bf5-43c6-9924-278b3e0f7c00",
   "metadata": {},
   "outputs": [],
   "source": [
    "cond1 = m2['구매금액'] >= m2['구매금액'].quantile(0.1)\n",
    "cond2 = m2['F'] >= m2['F'].quantile(0.1)\n",
    "cond3 = m2['R'] >= m2['R'].quantile(0.8) # 150일"
   ]
  },
  {
   "cell_type": "code",
   "execution_count": 105,
   "id": "009e230b-f1b4-492d-8611-f349870f051e",
   "metadata": {},
   "outputs": [],
   "source": [
    "m2.loc[cond1&cond2&cond3, '이탈가능성'] = '이탈고객'"
   ]
  },
  {
   "cell_type": "code",
   "execution_count": 106,
   "id": "56ec82ab-4721-4f35-8491-5973374946d2",
   "metadata": {},
   "outputs": [],
   "source": [
    "m2['이탈가능성'] = m2['이탈가능성'].replace('nan','잔여고객')"
   ]
  },
  {
   "cell_type": "code",
   "execution_count": 107,
   "id": "f2e533b8-9a66-499a-8e02-0fc6d1e805f2",
   "metadata": {},
   "outputs": [
    {
     "data": {
      "text/plain": [
       "이탈가능성\n",
       "잔여고객    9832\n",
       "이탈고객    1723\n",
       "Name: count, dtype: int64"
      ]
     },
     "execution_count": 107,
     "metadata": {},
     "output_type": "execute_result"
    }
   ],
   "source": [
    "m2['이탈가능성'].value_counts()"
   ]
  },
  {
   "cell_type": "code",
   "execution_count": 108,
   "id": "079f8791",
   "metadata": {},
   "outputs": [],
   "source": [
    "df1 = m2[['회원번호','R','F','Score','고객등급']]\n",
    "df = pd.merge(onemarket_df, df1, on='회원번호', how='inner')\n",
    "member_df = pd.merge(member_df, df1, on='회원번호', how='inner')"
   ]
  },
  {
   "cell_type": "code",
   "execution_count": 109,
   "id": "cf1c523e-3400-4033-96bc-17e71de38990",
   "metadata": {},
   "outputs": [],
   "source": [
    "member_df.to_csv('C:/Users/UserK/Desktop/Ranee/SW_CAMP/member_df.csv', encoding='cp949')"
   ]
  },
  {
   "cell_type": "markdown",
   "id": "293e994d-dddb-4fee-bd2a-dec2a1c23f80",
   "metadata": {},
   "source": [
    "### 모바일 알람여부 별 고객등급 확인"
   ]
  },
  {
   "cell_type": "code",
   "execution_count": 110,
   "id": "caeb851a-f49f-4db6-bff8-ac2bbdab1f2e",
   "metadata": {},
   "outputs": [
    {
     "data": {
      "text/html": [
       "<div>\n",
       "<style scoped>\n",
       "    .dataframe tbody tr th:only-of-type {\n",
       "        vertical-align: middle;\n",
       "    }\n",
       "\n",
       "    .dataframe tbody tr th {\n",
       "        vertical-align: top;\n",
       "    }\n",
       "\n",
       "    .dataframe thead th {\n",
       "        text-align: right;\n",
       "    }\n",
       "</style>\n",
       "<table border=\"1\" class=\"dataframe\">\n",
       "  <thead>\n",
       "    <tr style=\"text-align: right;\">\n",
       "      <th>고객등급</th>\n",
       "      <th>1</th>\n",
       "      <th>2</th>\n",
       "      <th>3</th>\n",
       "      <th>4</th>\n",
       "      <th>5</th>\n",
       "      <th>All</th>\n",
       "    </tr>\n",
       "    <tr>\n",
       "      <th>모바일알람여부</th>\n",
       "      <th></th>\n",
       "      <th></th>\n",
       "      <th></th>\n",
       "      <th></th>\n",
       "      <th></th>\n",
       "      <th></th>\n",
       "    </tr>\n",
       "  </thead>\n",
       "  <tbody>\n",
       "    <tr>\n",
       "      <th>미수신</th>\n",
       "      <td>1069</td>\n",
       "      <td>1826</td>\n",
       "      <td>2255</td>\n",
       "      <td>3327</td>\n",
       "      <td>2176</td>\n",
       "      <td>10653</td>\n",
       "    </tr>\n",
       "    <tr>\n",
       "      <th>수신</th>\n",
       "      <td>87</td>\n",
       "      <td>485</td>\n",
       "      <td>56</td>\n",
       "      <td>139</td>\n",
       "      <td>135</td>\n",
       "      <td>902</td>\n",
       "    </tr>\n",
       "    <tr>\n",
       "      <th>All</th>\n",
       "      <td>1156</td>\n",
       "      <td>2311</td>\n",
       "      <td>2311</td>\n",
       "      <td>3466</td>\n",
       "      <td>2311</td>\n",
       "      <td>11555</td>\n",
       "    </tr>\n",
       "  </tbody>\n",
       "</table>\n",
       "</div>"
      ],
      "text/plain": [
       "고객등급        1     2     3     4     5    All\n",
       "모바일알람여부                                     \n",
       "미수신      1069  1826  2255  3327  2176  10653\n",
       "수신         87   485    56   139   135    902\n",
       "All      1156  2311  2311  3466  2311  11555"
      ]
     },
     "execution_count": 110,
     "metadata": {},
     "output_type": "execute_result"
    }
   ],
   "source": [
    "c1 = pd.crosstab(member_df['고객등급'], member_df['모바일알람여부'],margins=True).T\n",
    "c1"
   ]
  },
  {
   "cell_type": "code",
   "execution_count": 112,
   "id": "77668969-dde4-48d6-aef3-3bbc9c2fae5d",
   "metadata": {},
   "outputs": [
    {
     "data": {
      "text/html": [
       "<div>\n",
       "<style scoped>\n",
       "    .dataframe tbody tr th:only-of-type {\n",
       "        vertical-align: middle;\n",
       "    }\n",
       "\n",
       "    .dataframe tbody tr th {\n",
       "        vertical-align: top;\n",
       "    }\n",
       "\n",
       "    .dataframe thead th {\n",
       "        text-align: right;\n",
       "    }\n",
       "</style>\n",
       "<table border=\"1\" class=\"dataframe\">\n",
       "  <thead>\n",
       "    <tr style=\"text-align: right;\">\n",
       "      <th>고객등급</th>\n",
       "      <th>5_ratio</th>\n",
       "      <th>4_ratio</th>\n",
       "      <th>3_ratio</th>\n",
       "      <th>2_ratio</th>\n",
       "      <th>1_ratio</th>\n",
       "    </tr>\n",
       "    <tr>\n",
       "      <th>모바일알람여부</th>\n",
       "      <th></th>\n",
       "      <th></th>\n",
       "      <th></th>\n",
       "      <th></th>\n",
       "      <th></th>\n",
       "    </tr>\n",
       "  </thead>\n",
       "  <tbody>\n",
       "    <tr>\n",
       "      <th>미수신</th>\n",
       "      <td>20.426171</td>\n",
       "      <td>31.230639</td>\n",
       "      <td>21.167746</td>\n",
       "      <td>17.140712</td>\n",
       "      <td>10.034732</td>\n",
       "    </tr>\n",
       "    <tr>\n",
       "      <th>수신</th>\n",
       "      <td>14.966741</td>\n",
       "      <td>15.410200</td>\n",
       "      <td>6.208426</td>\n",
       "      <td>53.769401</td>\n",
       "      <td>9.645233</td>\n",
       "    </tr>\n",
       "    <tr>\n",
       "      <th>All</th>\n",
       "      <td>20.000000</td>\n",
       "      <td>29.995673</td>\n",
       "      <td>20.000000</td>\n",
       "      <td>20.000000</td>\n",
       "      <td>10.004327</td>\n",
       "    </tr>\n",
       "  </tbody>\n",
       "</table>\n",
       "</div>"
      ],
      "text/plain": [
       "고객등급       5_ratio    4_ratio    3_ratio    2_ratio    1_ratio\n",
       "모바일알람여부                                                       \n",
       "미수신      20.426171  31.230639  21.167746  17.140712  10.034732\n",
       "수신       14.966741  15.410200   6.208426  53.769401   9.645233\n",
       "All      20.000000  29.995673  20.000000  20.000000  10.004327"
      ]
     },
     "execution_count": 112,
     "metadata": {},
     "output_type": "execute_result"
    }
   ],
   "source": [
    "c1['5_ratio'] = (c1['5'] / c1['All']) * 100\n",
    "c1['4_ratio'] = (c1['4'] / c1['All']) * 100\n",
    "c1['3_ratio'] = (c1['3'] / c1['All']) * 100\n",
    "c1['2_ratio'] = (c1['2'] / c1['All']) * 100\n",
    "c1['1_ratio'] = (c1['1'] / c1['All']) * 100\n",
    "c1[[x for x in c1.columns if 'ratio' in x]]"
   ]
  },
  {
   "cell_type": "code",
   "execution_count": 114,
   "id": "1087befc-12c0-4fde-b0b8-e358590feedb",
   "metadata": {},
   "outputs": [
    {
     "data": {
      "text/html": [
       "<div>\n",
       "<style scoped>\n",
       "    .dataframe tbody tr th:only-of-type {\n",
       "        vertical-align: middle;\n",
       "    }\n",
       "\n",
       "    .dataframe tbody tr th {\n",
       "        vertical-align: top;\n",
       "    }\n",
       "\n",
       "    .dataframe thead th {\n",
       "        text-align: right;\n",
       "    }\n",
       "</style>\n",
       "<table border=\"1\" class=\"dataframe\">\n",
       "  <thead>\n",
       "    <tr style=\"text-align: right;\">\n",
       "      <th>고객등급</th>\n",
       "      <th>1</th>\n",
       "      <th>2</th>\n",
       "      <th>3</th>\n",
       "      <th>4</th>\n",
       "      <th>5</th>\n",
       "      <th>All</th>\n",
       "    </tr>\n",
       "    <tr>\n",
       "      <th>연령대</th>\n",
       "      <th></th>\n",
       "      <th></th>\n",
       "      <th></th>\n",
       "      <th></th>\n",
       "      <th></th>\n",
       "      <th></th>\n",
       "    </tr>\n",
       "  </thead>\n",
       "  <tbody>\n",
       "    <tr>\n",
       "      <th>10대</th>\n",
       "      <td>0</td>\n",
       "      <td>0</td>\n",
       "      <td>1</td>\n",
       "      <td>0</td>\n",
       "      <td>0</td>\n",
       "      <td>1</td>\n",
       "    </tr>\n",
       "    <tr>\n",
       "      <th>20대</th>\n",
       "      <td>6</td>\n",
       "      <td>11</td>\n",
       "      <td>6</td>\n",
       "      <td>14</td>\n",
       "      <td>15</td>\n",
       "      <td>52</td>\n",
       "    </tr>\n",
       "    <tr>\n",
       "      <th>30대</th>\n",
       "      <td>249</td>\n",
       "      <td>291</td>\n",
       "      <td>390</td>\n",
       "      <td>703</td>\n",
       "      <td>504</td>\n",
       "      <td>2137</td>\n",
       "    </tr>\n",
       "    <tr>\n",
       "      <th>40대</th>\n",
       "      <td>438</td>\n",
       "      <td>867</td>\n",
       "      <td>900</td>\n",
       "      <td>1391</td>\n",
       "      <td>884</td>\n",
       "      <td>4480</td>\n",
       "    </tr>\n",
       "    <tr>\n",
       "      <th>50대</th>\n",
       "      <td>257</td>\n",
       "      <td>595</td>\n",
       "      <td>494</td>\n",
       "      <td>724</td>\n",
       "      <td>476</td>\n",
       "      <td>2546</td>\n",
       "    </tr>\n",
       "    <tr>\n",
       "      <th>60대</th>\n",
       "      <td>134</td>\n",
       "      <td>348</td>\n",
       "      <td>303</td>\n",
       "      <td>400</td>\n",
       "      <td>270</td>\n",
       "      <td>1455</td>\n",
       "    </tr>\n",
       "    <tr>\n",
       "      <th>70대</th>\n",
       "      <td>58</td>\n",
       "      <td>173</td>\n",
       "      <td>178</td>\n",
       "      <td>196</td>\n",
       "      <td>131</td>\n",
       "      <td>736</td>\n",
       "    </tr>\n",
       "    <tr>\n",
       "      <th>80대</th>\n",
       "      <td>13</td>\n",
       "      <td>23</td>\n",
       "      <td>37</td>\n",
       "      <td>35</td>\n",
       "      <td>28</td>\n",
       "      <td>136</td>\n",
       "    </tr>\n",
       "    <tr>\n",
       "      <th>90대이상</th>\n",
       "      <td>1</td>\n",
       "      <td>3</td>\n",
       "      <td>1</td>\n",
       "      <td>3</td>\n",
       "      <td>2</td>\n",
       "      <td>10</td>\n",
       "    </tr>\n",
       "    <tr>\n",
       "      <th>All</th>\n",
       "      <td>1156</td>\n",
       "      <td>2311</td>\n",
       "      <td>2310</td>\n",
       "      <td>3466</td>\n",
       "      <td>2310</td>\n",
       "      <td>11553</td>\n",
       "    </tr>\n",
       "  </tbody>\n",
       "</table>\n",
       "</div>"
      ],
      "text/plain": [
       "고객등급      1     2     3     4     5    All\n",
       "연령대                                       \n",
       "10대       0     0     1     0     0      1\n",
       "20대       6    11     6    14    15     52\n",
       "30대     249   291   390   703   504   2137\n",
       "40대     438   867   900  1391   884   4480\n",
       "50대     257   595   494   724   476   2546\n",
       "60대     134   348   303   400   270   1455\n",
       "70대      58   173   178   196   131    736\n",
       "80대      13    23    37    35    28    136\n",
       "90대이상     1     3     1     3     2     10\n",
       "All    1156  2311  2310  3466  2310  11553"
      ]
     },
     "execution_count": 114,
     "metadata": {},
     "output_type": "execute_result"
    }
   ],
   "source": [
    "c2 = pd.crosstab(member_df['고객등급'], member_df['연령대'],margins=True).T\n",
    "c2"
   ]
  },
  {
   "cell_type": "code",
   "execution_count": 115,
   "id": "ac7f929d-3a2b-4a10-a56a-9815db29aab8",
   "metadata": {},
   "outputs": [
    {
     "data": {
      "text/html": [
       "<div>\n",
       "<style scoped>\n",
       "    .dataframe tbody tr th:only-of-type {\n",
       "        vertical-align: middle;\n",
       "    }\n",
       "\n",
       "    .dataframe tbody tr th {\n",
       "        vertical-align: top;\n",
       "    }\n",
       "\n",
       "    .dataframe thead th {\n",
       "        text-align: right;\n",
       "    }\n",
       "</style>\n",
       "<table border=\"1\" class=\"dataframe\">\n",
       "  <thead>\n",
       "    <tr style=\"text-align: right;\">\n",
       "      <th>고객등급</th>\n",
       "      <th>5_ratio</th>\n",
       "      <th>4_ratio</th>\n",
       "      <th>3_ratio</th>\n",
       "      <th>2_ratio</th>\n",
       "      <th>1_ratio</th>\n",
       "    </tr>\n",
       "    <tr>\n",
       "      <th>연령대</th>\n",
       "      <th></th>\n",
       "      <th></th>\n",
       "      <th></th>\n",
       "      <th></th>\n",
       "      <th></th>\n",
       "    </tr>\n",
       "  </thead>\n",
       "  <tbody>\n",
       "    <tr>\n",
       "      <th>10대</th>\n",
       "      <td>0.000000</td>\n",
       "      <td>0.000000</td>\n",
       "      <td>100.000000</td>\n",
       "      <td>0.000000</td>\n",
       "      <td>0.000000</td>\n",
       "    </tr>\n",
       "    <tr>\n",
       "      <th>20대</th>\n",
       "      <td>28.846154</td>\n",
       "      <td>26.923077</td>\n",
       "      <td>11.538462</td>\n",
       "      <td>21.153846</td>\n",
       "      <td>11.538462</td>\n",
       "    </tr>\n",
       "    <tr>\n",
       "      <th>30대</th>\n",
       "      <td>23.584464</td>\n",
       "      <td>32.896584</td>\n",
       "      <td>18.249883</td>\n",
       "      <td>13.617220</td>\n",
       "      <td>11.651848</td>\n",
       "    </tr>\n",
       "    <tr>\n",
       "      <th>40대</th>\n",
       "      <td>19.732143</td>\n",
       "      <td>31.049107</td>\n",
       "      <td>20.089286</td>\n",
       "      <td>19.352679</td>\n",
       "      <td>9.776786</td>\n",
       "    </tr>\n",
       "    <tr>\n",
       "      <th>50대</th>\n",
       "      <td>18.695994</td>\n",
       "      <td>28.436764</td>\n",
       "      <td>19.402985</td>\n",
       "      <td>23.369992</td>\n",
       "      <td>10.094266</td>\n",
       "    </tr>\n",
       "    <tr>\n",
       "      <th>60대</th>\n",
       "      <td>18.556701</td>\n",
       "      <td>27.491409</td>\n",
       "      <td>20.824742</td>\n",
       "      <td>23.917526</td>\n",
       "      <td>9.209622</td>\n",
       "    </tr>\n",
       "    <tr>\n",
       "      <th>70대</th>\n",
       "      <td>17.798913</td>\n",
       "      <td>26.630435</td>\n",
       "      <td>24.184783</td>\n",
       "      <td>23.505435</td>\n",
       "      <td>7.880435</td>\n",
       "    </tr>\n",
       "    <tr>\n",
       "      <th>80대</th>\n",
       "      <td>20.588235</td>\n",
       "      <td>25.735294</td>\n",
       "      <td>27.205882</td>\n",
       "      <td>16.911765</td>\n",
       "      <td>9.558824</td>\n",
       "    </tr>\n",
       "    <tr>\n",
       "      <th>90대이상</th>\n",
       "      <td>20.000000</td>\n",
       "      <td>30.000000</td>\n",
       "      <td>10.000000</td>\n",
       "      <td>30.000000</td>\n",
       "      <td>10.000000</td>\n",
       "    </tr>\n",
       "    <tr>\n",
       "      <th>All</th>\n",
       "      <td>19.994807</td>\n",
       "      <td>30.000866</td>\n",
       "      <td>19.994807</td>\n",
       "      <td>20.003462</td>\n",
       "      <td>10.006059</td>\n",
       "    </tr>\n",
       "  </tbody>\n",
       "</table>\n",
       "</div>"
      ],
      "text/plain": [
       "고객등급     5_ratio    4_ratio     3_ratio    2_ratio    1_ratio\n",
       "연령대                                                          \n",
       "10대     0.000000   0.000000  100.000000   0.000000   0.000000\n",
       "20대    28.846154  26.923077   11.538462  21.153846  11.538462\n",
       "30대    23.584464  32.896584   18.249883  13.617220  11.651848\n",
       "40대    19.732143  31.049107   20.089286  19.352679   9.776786\n",
       "50대    18.695994  28.436764   19.402985  23.369992  10.094266\n",
       "60대    18.556701  27.491409   20.824742  23.917526   9.209622\n",
       "70대    17.798913  26.630435   24.184783  23.505435   7.880435\n",
       "80대    20.588235  25.735294   27.205882  16.911765   9.558824\n",
       "90대이상  20.000000  30.000000   10.000000  30.000000  10.000000\n",
       "All    19.994807  30.000866   19.994807  20.003462  10.006059"
      ]
     },
     "execution_count": 115,
     "metadata": {},
     "output_type": "execute_result"
    }
   ],
   "source": [
    "c2['5_ratio'] = (c2['5'] / c2['All']) * 100\n",
    "c2['4_ratio'] = (c2['4'] / c2['All']) * 100\n",
    "c2['3_ratio'] = (c2['3'] / c2['All']) * 100\n",
    "c2['2_ratio'] = (c2['2'] / c2['All']) * 100\n",
    "c2['1_ratio'] = (c2['1'] / c2['All']) * 100\n",
    "c2[[x for x in c2.columns if 'ratio' in x]]"
   ]
  },
  {
   "cell_type": "code",
   "execution_count": null,
   "id": "10abcd37-969b-40da-b5d7-bf78b88b3bc4",
   "metadata": {},
   "outputs": [],
   "source": [
    "df_90 = onemarket_df.loc[onemarket_df['연령대'] == '90대이상']\n",
    "df_90.pivot_table(index='회원번호', values ='구매금액' , aggfunc = 'mean')"
   ]
  },
  {
   "cell_type": "markdown",
   "id": "4a64c129-18a9-421d-9151-01648c2ee003",
   "metadata": {},
   "source": [
    "### RFM별 구매상품목록"
   ]
  },
  {
   "cell_type": "code",
   "execution_count": null,
   "id": "18fcc1eb-1da2-4b18-acb5-6320f225dfb9",
   "metadata": {},
   "outputs": [],
   "source": [
    "df.head()"
   ]
  },
  {
   "cell_type": "code",
   "execution_count": null,
   "id": "301e68b2-9cc7-4f91-a805-a70a7a8638ed",
   "metadata": {},
   "outputs": [],
   "source": [
    "p3 = df.pivot_table(index = ['고객등급','물품소분류'], values = '구매수량' , aggfunc='sum').reset_index()\n",
    "p3.info()"
   ]
  },
  {
   "cell_type": "code",
   "execution_count": null,
   "id": "b93c741d-5301-4941-925a-181021092e9a",
   "metadata": {},
   "outputs": [],
   "source": [
    "p3.loc[p3['고객등급'] == 'VVIP'].sort_values(by='구매수량', ascending=False)"
   ]
  },
  {
   "cell_type": "code",
   "execution_count": null,
   "id": "a850f403-f8f5-490c-ac15-5950cef8dda1",
   "metadata": {},
   "outputs": [],
   "source": [
    "p3.loc[p3['고객등급'] == 'VIP'].sort_values(by='구매수량', ascending=False)"
   ]
  },
  {
   "cell_type": "code",
   "execution_count": null,
   "id": "abbfb083-0333-4861-92fe-65075d156767",
   "metadata": {},
   "outputs": [],
   "source": [
    "p3.loc[p3['고객등급'] == '일반'].sort_values(by='구매수량', ascending=False)"
   ]
  },
  {
   "cell_type": "code",
   "execution_count": null,
   "id": "ea72e9a7-157c-46fe-935c-f9d283f5ba8c",
   "metadata": {},
   "outputs": [],
   "source": [
    "p3.loc[p3['고객등급'] == 'S'].sort_values(by='구매수량', ascending=False)"
   ]
  },
  {
   "cell_type": "code",
   "execution_count": null,
   "id": "fdcae023-5dc0-4dfb-9dcc-090579c19998",
   "metadata": {},
   "outputs": [],
   "source": [
    "df['지불가격'] = df['구매수량'] * df['구매금액']"
   ]
  },
  {
   "cell_type": "code",
   "execution_count": null,
   "id": "f457a6cb-ca57-4446-ab85-605e2898daaa",
   "metadata": {},
   "outputs": [],
   "source": [
    "df.pivot_table(index='물품소분류' , values = '지불가격' , aggfunc = 'sum').sort_values(by='지불가격', ascending=False)"
   ]
  },
  {
   "cell_type": "code",
   "execution_count": null,
   "id": "31e9b90b-f240-41c9-a8ce-98402772cf2f",
   "metadata": {},
   "outputs": [],
   "source": [
    "print(df.loc[df['물품소분류'] == '두부']['구매금액'].mean())\n",
    "print(df.loc[df['물품소분류'] == '유정란']['구매금액'].mean())\n",
    "print(df.loc[df['물품소분류'] == '추출/농축액']['구매금액'].mean())"
   ]
  },
  {
   "cell_type": "code",
   "execution_count": null,
   "id": "84c5bed0-e715-4b9a-a4c5-df8b38fe3460",
   "metadata": {},
   "outputs": [],
   "source": [
    "cond1 = member_df['이탈가능성'] == '이탈고객'"
   ]
  },
  {
   "cell_type": "code",
   "execution_count": null,
   "id": "8183900e-eff3-40e2-9c0f-0209929ed00b",
   "metadata": {
    "scrolled": true
   },
   "outputs": [],
   "source": [
    "runrun = member_df[cond1]\n",
    "runrun['연령대'].value_counts()"
   ]
  },
  {
   "cell_type": "code",
   "execution_count": null,
   "id": "138ad3f5-ea35-4d9a-b41c-165d8aab7096",
   "metadata": {},
   "outputs": [],
   "source": [
    "member_df['연령대'].value_counts()"
   ]
  },
  {
   "cell_type": "code",
   "execution_count": null,
   "id": "88b71d6e-a9f8-4258-8113-4e6fe76ae798",
   "metadata": {},
   "outputs": [],
   "source": [
    "runrun['연령대'].value_counts() / member_df['연령대'].value_counts()"
   ]
  },
  {
   "cell_type": "code",
   "execution_count": null,
   "id": "afc9a74d-1570-4cf1-89a4-487f5f13f25a",
   "metadata": {},
   "outputs": [],
   "source": [
    "p4 = df.pivot_table(index = ['연령대','물품소분류'], values = '구매수량' , aggfunc='sum').reset_index()\n",
    "p4.info()"
   ]
  },
  {
   "cell_type": "code",
   "execution_count": null,
   "id": "5fd50c52-8586-4bee-a5b1-4b1252539e21",
   "metadata": {},
   "outputs": [],
   "source": [
    "p4.loc[p4['연령대'] == '20대'].sort_values(by='구매수량', ascending=False).head(10)"
   ]
  },
  {
   "cell_type": "code",
   "execution_count": null,
   "id": "7be582a0-bcfc-4ae3-a622-080143d5e9ad",
   "metadata": {},
   "outputs": [],
   "source": [
    "p5 = df.loc[df['연령대']=='20대'].pivot_table(index = '시간대', values = 'count' , aggfunc='sum').reset_index()\n",
    "p5"
   ]
  },
  {
   "cell_type": "code",
   "execution_count": null,
   "id": "bc1e042f-d67c-4b3c-bce5-71f3c82cd95f",
   "metadata": {},
   "outputs": [],
   "source": [
    "p6 = df.loc[df['연령대']=='20대'].pivot_table(index = '구매시각_dt', values = 'count' , aggfunc='sum').reset_index()"
   ]
  },
  {
   "cell_type": "code",
   "execution_count": null,
   "id": "71c1a080-b681-487e-bbf9-fd49baa58268",
   "metadata": {},
   "outputs": [],
   "source": [
    "member_df"
   ]
  },
  {
   "cell_type": "code",
   "execution_count": null,
   "id": "fbad6922-1978-445e-973e-05b3a5564210",
   "metadata": {},
   "outputs": [],
   "source": [
    "product_df"
   ]
  },
  {
   "cell_type": "code",
   "execution_count": null,
   "id": "813c3235-1a49-40ea-98c8-0ce9f919dfbe",
   "metadata": {},
   "outputs": [],
   "source": [
    "df = pd.merge(product_df,member_df,on='회원번호')\n",
    "df = df.drop(columns='조합원상태_y')\n",
    "df = df.rename(columns={'조합원상태_x':'조합원상태'})"
   ]
  },
  {
   "cell_type": "code",
   "execution_count": null,
   "id": "7150f8ca-a73f-4a60-9d85-aa81709a4992",
   "metadata": {},
   "outputs": [],
   "source": [
    "df.info()"
   ]
  },
  {
   "cell_type": "markdown",
   "id": "6f6c4d46-b7d5-4f39-ba57-a9d9c80bdb50",
   "metadata": {
    "jp-MarkdownHeadingCollapsed": true
   },
   "source": [
    "### 구매시각에 따른 현황"
   ]
  },
  {
   "cell_type": "code",
   "execution_count": 195,
   "id": "51feb2a6-27fe-4f7e-814a-0139e89090f0",
   "metadata": {},
   "outputs": [],
   "source": [
    "df['구매시각_시'] = df['구매시각_dt'].dt.hour\n",
    "df['count'] = 1"
   ]
  },
  {
   "cell_type": "code",
   "execution_count": 201,
   "id": "42a2bc9b-242a-4cc6-a024-0f151c86e51f",
   "metadata": {},
   "outputs": [
    {
     "data": {
      "text/html": [
       "<div>\n",
       "<style scoped>\n",
       "    .dataframe tbody tr th:only-of-type {\n",
       "        vertical-align: middle;\n",
       "    }\n",
       "\n",
       "    .dataframe tbody tr th {\n",
       "        vertical-align: top;\n",
       "    }\n",
       "\n",
       "    .dataframe thead th {\n",
       "        text-align: right;\n",
       "    }\n",
       "</style>\n",
       "<table border=\"1\" class=\"dataframe\">\n",
       "  <thead>\n",
       "    <tr style=\"text-align: right;\">\n",
       "      <th></th>\n",
       "      <th>구매금액</th>\n",
       "    </tr>\n",
       "    <tr>\n",
       "      <th>구매시각_시</th>\n",
       "      <th></th>\n",
       "    </tr>\n",
       "  </thead>\n",
       "  <tbody>\n",
       "    <tr>\n",
       "      <th>8</th>\n",
       "      <td>-6352.272727</td>\n",
       "    </tr>\n",
       "    <tr>\n",
       "      <th>9</th>\n",
       "      <td>14771.841085</td>\n",
       "    </tr>\n",
       "    <tr>\n",
       "      <th>10</th>\n",
       "      <td>10820.485634</td>\n",
       "    </tr>\n",
       "    <tr>\n",
       "      <th>11</th>\n",
       "      <td>10891.747869</td>\n",
       "    </tr>\n",
       "    <tr>\n",
       "      <th>12</th>\n",
       "      <td>11027.381851</td>\n",
       "    </tr>\n",
       "    <tr>\n",
       "      <th>13</th>\n",
       "      <td>11106.942654</td>\n",
       "    </tr>\n",
       "    <tr>\n",
       "      <th>14</th>\n",
       "      <td>11217.443990</td>\n",
       "    </tr>\n",
       "    <tr>\n",
       "      <th>15</th>\n",
       "      <td>10958.250932</td>\n",
       "    </tr>\n",
       "    <tr>\n",
       "      <th>16</th>\n",
       "      <td>10979.937609</td>\n",
       "    </tr>\n",
       "    <tr>\n",
       "      <th>17</th>\n",
       "      <td>11038.799079</td>\n",
       "    </tr>\n",
       "    <tr>\n",
       "      <th>18</th>\n",
       "      <td>11333.481731</td>\n",
       "    </tr>\n",
       "    <tr>\n",
       "      <th>19</th>\n",
       "      <td>11358.890212</td>\n",
       "    </tr>\n",
       "    <tr>\n",
       "      <th>20</th>\n",
       "      <td>12931.472385</td>\n",
       "    </tr>\n",
       "  </tbody>\n",
       "</table>\n",
       "</div>"
      ],
      "text/plain": [
       "                구매금액\n",
       "구매시각_시              \n",
       "8       -6352.272727\n",
       "9       14771.841085\n",
       "10      10820.485634\n",
       "11      10891.747869\n",
       "12      11027.381851\n",
       "13      11106.942654\n",
       "14      11217.443990\n",
       "15      10958.250932\n",
       "16      10979.937609\n",
       "17      11038.799079\n",
       "18      11333.481731\n",
       "19      11358.890212\n",
       "20      12931.472385"
      ]
     },
     "execution_count": 201,
     "metadata": {},
     "output_type": "execute_result"
    }
   ],
   "source": [
    "df.pivot_table(index='구매시각_시', values='구매금액' , aggfunc='mean')"
   ]
  },
  {
   "cell_type": "code",
   "execution_count": 197,
   "id": "1a077114-59e0-49b0-abac-bbc0cc3efc39",
   "metadata": {},
   "outputs": [
    {
     "data": {
      "text/html": [
       "<div>\n",
       "<style scoped>\n",
       "    .dataframe tbody tr th:only-of-type {\n",
       "        vertical-align: middle;\n",
       "    }\n",
       "\n",
       "    .dataframe tbody tr th {\n",
       "        vertical-align: top;\n",
       "    }\n",
       "\n",
       "    .dataframe thead th {\n",
       "        text-align: right;\n",
       "    }\n",
       "</style>\n",
       "<table border=\"1\" class=\"dataframe\">\n",
       "  <thead>\n",
       "    <tr style=\"text-align: right;\">\n",
       "      <th></th>\n",
       "      <th>공급일자_dt</th>\n",
       "      <th>회원번호</th>\n",
       "      <th>구매시각_시</th>\n",
       "      <th>count</th>\n",
       "    </tr>\n",
       "  </thead>\n",
       "  <tbody>\n",
       "    <tr>\n",
       "      <th>0</th>\n",
       "      <td>2022-01-01</td>\n",
       "      <td>22270144</td>\n",
       "      <td>11</td>\n",
       "      <td>1</td>\n",
       "    </tr>\n",
       "    <tr>\n",
       "      <th>1</th>\n",
       "      <td>2022-01-01</td>\n",
       "      <td>37584000</td>\n",
       "      <td>16</td>\n",
       "      <td>1</td>\n",
       "    </tr>\n",
       "    <tr>\n",
       "      <th>2</th>\n",
       "      <td>2022-01-01</td>\n",
       "      <td>39382464</td>\n",
       "      <td>10</td>\n",
       "      <td>1</td>\n",
       "    </tr>\n",
       "    <tr>\n",
       "      <th>3</th>\n",
       "      <td>2022-01-01</td>\n",
       "      <td>42474560</td>\n",
       "      <td>16</td>\n",
       "      <td>1</td>\n",
       "    </tr>\n",
       "    <tr>\n",
       "      <th>4</th>\n",
       "      <td>2022-01-01</td>\n",
       "      <td>46487232</td>\n",
       "      <td>18</td>\n",
       "      <td>1</td>\n",
       "    </tr>\n",
       "    <tr>\n",
       "      <th>...</th>\n",
       "      <td>...</td>\n",
       "      <td>...</td>\n",
       "      <td>...</td>\n",
       "      <td>...</td>\n",
       "    </tr>\n",
       "    <tr>\n",
       "      <th>151834</th>\n",
       "      <td>2022-10-30</td>\n",
       "      <td>1622565312</td>\n",
       "      <td>17</td>\n",
       "      <td>1</td>\n",
       "    </tr>\n",
       "    <tr>\n",
       "      <th>151835</th>\n",
       "      <td>2022-10-30</td>\n",
       "      <td>1632578432</td>\n",
       "      <td>15</td>\n",
       "      <td>1</td>\n",
       "    </tr>\n",
       "    <tr>\n",
       "      <th>151836</th>\n",
       "      <td>2022-10-30</td>\n",
       "      <td>1633872064</td>\n",
       "      <td>13</td>\n",
       "      <td>1</td>\n",
       "    </tr>\n",
       "    <tr>\n",
       "      <th>151837</th>\n",
       "      <td>2022-10-30</td>\n",
       "      <td>1641643136</td>\n",
       "      <td>10</td>\n",
       "      <td>1</td>\n",
       "    </tr>\n",
       "    <tr>\n",
       "      <th>151838</th>\n",
       "      <td>2022-10-30</td>\n",
       "      <td>1670400000</td>\n",
       "      <td>12</td>\n",
       "      <td>1</td>\n",
       "    </tr>\n",
       "  </tbody>\n",
       "</table>\n",
       "<p>151839 rows × 4 columns</p>\n",
       "</div>"
      ],
      "text/plain": [
       "          공급일자_dt        회원번호  구매시각_시  count\n",
       "0      2022-01-01    22270144      11      1\n",
       "1      2022-01-01    37584000      16      1\n",
       "2      2022-01-01    39382464      10      1\n",
       "3      2022-01-01    42474560      16      1\n",
       "4      2022-01-01    46487232      18      1\n",
       "...           ...         ...     ...    ...\n",
       "151834 2022-10-30  1622565312      17      1\n",
       "151835 2022-10-30  1632578432      15      1\n",
       "151836 2022-10-30  1633872064      13      1\n",
       "151837 2022-10-30  1641643136      10      1\n",
       "151838 2022-10-30  1670400000      12      1\n",
       "\n",
       "[151839 rows x 4 columns]"
      ]
     },
     "execution_count": 197,
     "metadata": {},
     "output_type": "execute_result"
    }
   ],
   "source": [
    "p6 = df.pivot_table(index=['공급일자_dt', '회원번호' , '구매시각_시'], values='count', aggfunc='min').reset_index()\n",
    "p6"
   ]
  },
  {
   "cell_type": "code",
   "execution_count": 198,
   "id": "779debe9-df67-4700-a9c3-ed0fb4dd4dab",
   "metadata": {},
   "outputs": [
    {
     "data": {
      "text/html": [
       "<div>\n",
       "<style scoped>\n",
       "    .dataframe tbody tr th:only-of-type {\n",
       "        vertical-align: middle;\n",
       "    }\n",
       "\n",
       "    .dataframe tbody tr th {\n",
       "        vertical-align: top;\n",
       "    }\n",
       "\n",
       "    .dataframe thead th {\n",
       "        text-align: right;\n",
       "    }\n",
       "</style>\n",
       "<table border=\"1\" class=\"dataframe\">\n",
       "  <thead>\n",
       "    <tr style=\"text-align: right;\">\n",
       "      <th></th>\n",
       "      <th>count</th>\n",
       "    </tr>\n",
       "    <tr>\n",
       "      <th>구매시각_시</th>\n",
       "      <th></th>\n",
       "    </tr>\n",
       "  </thead>\n",
       "  <tbody>\n",
       "    <tr>\n",
       "      <th>8</th>\n",
       "      <td>10</td>\n",
       "    </tr>\n",
       "    <tr>\n",
       "      <th>9</th>\n",
       "      <td>158</td>\n",
       "    </tr>\n",
       "    <tr>\n",
       "      <th>10</th>\n",
       "      <td>18816</td>\n",
       "    </tr>\n",
       "    <tr>\n",
       "      <th>11</th>\n",
       "      <td>16137</td>\n",
       "    </tr>\n",
       "    <tr>\n",
       "      <th>12</th>\n",
       "      <td>15316</td>\n",
       "    </tr>\n",
       "    <tr>\n",
       "      <th>13</th>\n",
       "      <td>14795</td>\n",
       "    </tr>\n",
       "    <tr>\n",
       "      <th>14</th>\n",
       "      <td>14404</td>\n",
       "    </tr>\n",
       "    <tr>\n",
       "      <th>15</th>\n",
       "      <td>15959</td>\n",
       "    </tr>\n",
       "    <tr>\n",
       "      <th>16</th>\n",
       "      <td>17968</td>\n",
       "    </tr>\n",
       "    <tr>\n",
       "      <th>17</th>\n",
       "      <td>15817</td>\n",
       "    </tr>\n",
       "    <tr>\n",
       "      <th>18</th>\n",
       "      <td>12597</td>\n",
       "    </tr>\n",
       "    <tr>\n",
       "      <th>19</th>\n",
       "      <td>9412</td>\n",
       "    </tr>\n",
       "    <tr>\n",
       "      <th>20</th>\n",
       "      <td>450</td>\n",
       "    </tr>\n",
       "  </tbody>\n",
       "</table>\n",
       "</div>"
      ],
      "text/plain": [
       "        count\n",
       "구매시각_시       \n",
       "8          10\n",
       "9         158\n",
       "10      18816\n",
       "11      16137\n",
       "12      15316\n",
       "13      14795\n",
       "14      14404\n",
       "15      15959\n",
       "16      17968\n",
       "17      15817\n",
       "18      12597\n",
       "19       9412\n",
       "20        450"
      ]
     },
     "execution_count": 198,
     "metadata": {},
     "output_type": "execute_result"
    }
   ],
   "source": [
    "p6.pivot_table(index='구매시각_시' , values='count' , aggfunc='sum')"
   ]
  },
  {
   "cell_type": "code",
   "execution_count": 199,
   "id": "bca9be19-5cd4-4036-a643-6e428e4043f9",
   "metadata": {},
   "outputs": [
    {
     "data": {
      "text/html": [
       "<div>\n",
       "<style scoped>\n",
       "    .dataframe tbody tr th:only-of-type {\n",
       "        vertical-align: middle;\n",
       "    }\n",
       "\n",
       "    .dataframe tbody tr th {\n",
       "        vertical-align: top;\n",
       "    }\n",
       "\n",
       "    .dataframe thead th {\n",
       "        text-align: right;\n",
       "    }\n",
       "</style>\n",
       "<table border=\"1\" class=\"dataframe\">\n",
       "  <thead>\n",
       "    <tr style=\"text-align: right;\">\n",
       "      <th></th>\n",
       "      <th>공급일자</th>\n",
       "      <th>회원번호</th>\n",
       "      <th>조합원상태</th>\n",
       "      <th>물품대분류</th>\n",
       "      <th>물품중분류</th>\n",
       "      <th>물품소분류</th>\n",
       "      <th>물품명</th>\n",
       "      <th>구매수량</th>\n",
       "      <th>구매금액</th>\n",
       "      <th>구매매장</th>\n",
       "      <th>...</th>\n",
       "      <th>배송서비스신청여부</th>\n",
       "      <th>모바일알람여부</th>\n",
       "      <th>Gold_member</th>\n",
       "      <th>연령대</th>\n",
       "      <th>Rencency</th>\n",
       "      <th>count</th>\n",
       "      <th>R</th>\n",
       "      <th>F</th>\n",
       "      <th>Score</th>\n",
       "      <th>고객등급</th>\n",
       "    </tr>\n",
       "  </thead>\n",
       "  <tbody>\n",
       "    <tr>\n",
       "      <th>0</th>\n",
       "      <td>2022-01-01</td>\n",
       "      <td>272369856</td>\n",
       "      <td>정상회원</td>\n",
       "      <td>과실</td>\n",
       "      <td>과일</td>\n",
       "      <td>사과</td>\n",
       "      <td>사과/유(1.5kg)</td>\n",
       "      <td>1.0</td>\n",
       "      <td>22207</td>\n",
       "      <td>매장C</td>\n",
       "      <td>...</td>\n",
       "      <td>미신청</td>\n",
       "      <td>수신</td>\n",
       "      <td>VIP</td>\n",
       "      <td>40대</td>\n",
       "      <td>302 days</td>\n",
       "      <td>1</td>\n",
       "      <td>11</td>\n",
       "      <td>75</td>\n",
       "      <td>599535.6</td>\n",
       "      <td>2</td>\n",
       "    </tr>\n",
       "    <tr>\n",
       "      <th>1</th>\n",
       "      <td>2022-01-01</td>\n",
       "      <td>272369856</td>\n",
       "      <td>정상회원</td>\n",
       "      <td>간식</td>\n",
       "      <td>떡</td>\n",
       "      <td>가래떡</td>\n",
       "      <td>떡국떡(유기:800g)</td>\n",
       "      <td>1.0</td>\n",
       "      <td>11295</td>\n",
       "      <td>매장C</td>\n",
       "      <td>...</td>\n",
       "      <td>미신청</td>\n",
       "      <td>수신</td>\n",
       "      <td>VIP</td>\n",
       "      <td>40대</td>\n",
       "      <td>302 days</td>\n",
       "      <td>1</td>\n",
       "      <td>11</td>\n",
       "      <td>75</td>\n",
       "      <td>599535.6</td>\n",
       "      <td>2</td>\n",
       "    </tr>\n",
       "    <tr>\n",
       "      <th>2</th>\n",
       "      <td>2022-01-01</td>\n",
       "      <td>272369856</td>\n",
       "      <td>정상회원</td>\n",
       "      <td>채소</td>\n",
       "      <td>뿌리채소</td>\n",
       "      <td>우엉/손질</td>\n",
       "      <td>우엉채(200g)</td>\n",
       "      <td>1.0</td>\n",
       "      <td>5169</td>\n",
       "      <td>매장C</td>\n",
       "      <td>...</td>\n",
       "      <td>미신청</td>\n",
       "      <td>수신</td>\n",
       "      <td>VIP</td>\n",
       "      <td>40대</td>\n",
       "      <td>302 days</td>\n",
       "      <td>1</td>\n",
       "      <td>11</td>\n",
       "      <td>75</td>\n",
       "      <td>599535.6</td>\n",
       "      <td>2</td>\n",
       "    </tr>\n",
       "    <tr>\n",
       "      <th>3</th>\n",
       "      <td>2022-01-01</td>\n",
       "      <td>272369856</td>\n",
       "      <td>정상회원</td>\n",
       "      <td>축산물</td>\n",
       "      <td>알</td>\n",
       "      <td>유정란</td>\n",
       "      <td>유정란/매장용(10알/국내산)</td>\n",
       "      <td>1.0</td>\n",
       "      <td>7083</td>\n",
       "      <td>매장C</td>\n",
       "      <td>...</td>\n",
       "      <td>미신청</td>\n",
       "      <td>수신</td>\n",
       "      <td>VIP</td>\n",
       "      <td>40대</td>\n",
       "      <td>302 days</td>\n",
       "      <td>1</td>\n",
       "      <td>11</td>\n",
       "      <td>75</td>\n",
       "      <td>599535.6</td>\n",
       "      <td>2</td>\n",
       "    </tr>\n",
       "    <tr>\n",
       "      <th>4</th>\n",
       "      <td>2022-01-01</td>\n",
       "      <td>272369856</td>\n",
       "      <td>정상회원</td>\n",
       "      <td>반찬</td>\n",
       "      <td>절임/장아찌</td>\n",
       "      <td>절임</td>\n",
       "      <td>단무지(김밥용:400g)</td>\n",
       "      <td>1.0</td>\n",
       "      <td>4977</td>\n",
       "      <td>매장C</td>\n",
       "      <td>...</td>\n",
       "      <td>미신청</td>\n",
       "      <td>수신</td>\n",
       "      <td>VIP</td>\n",
       "      <td>40대</td>\n",
       "      <td>302 days</td>\n",
       "      <td>1</td>\n",
       "      <td>11</td>\n",
       "      <td>75</td>\n",
       "      <td>599535.6</td>\n",
       "      <td>2</td>\n",
       "    </tr>\n",
       "  </tbody>\n",
       "</table>\n",
       "<p>5 rows × 32 columns</p>\n",
       "</div>"
      ],
      "text/plain": [
       "         공급일자       회원번호 조합원상태 물품대분류   물품중분류  물품소분류               물품명  구매수량  \\\n",
       "0  2022-01-01  272369856  정상회원    과실      과일     사과       사과/유(1.5kg)   1.0   \n",
       "1  2022-01-01  272369856  정상회원    간식       떡    가래떡      떡국떡(유기:800g)   1.0   \n",
       "2  2022-01-01  272369856  정상회원    채소    뿌리채소  우엉/손질         우엉채(200g)   1.0   \n",
       "3  2022-01-01  272369856  정상회원   축산물       알    유정란  유정란/매장용(10알/국내산)   1.0   \n",
       "4  2022-01-01  272369856  정상회원    반찬  절임/장아찌     절임     단무지(김밥용:400g)   1.0   \n",
       "\n",
       "    구매금액 구매매장  ... 배송서비스신청여부 모바일알람여부 Gold_member  연령대  Rencency count   R   F  \\\n",
       "0  22207  매장C  ...       미신청      수신         VIP  40대  302 days     1  11  75   \n",
       "1  11295  매장C  ...       미신청      수신         VIP  40대  302 days     1  11  75   \n",
       "2   5169  매장C  ...       미신청      수신         VIP  40대  302 days     1  11  75   \n",
       "3   7083  매장C  ...       미신청      수신         VIP  40대  302 days     1  11  75   \n",
       "4   4977  매장C  ...       미신청      수신         VIP  40대  302 days     1  11  75   \n",
       "\n",
       "      Score 고객등급  \n",
       "0  599535.6    2  \n",
       "1  599535.6    2  \n",
       "2  599535.6    2  \n",
       "3  599535.6    2  \n",
       "4  599535.6    2  \n",
       "\n",
       "[5 rows x 32 columns]"
      ]
     },
     "execution_count": 199,
     "metadata": {},
     "output_type": "execute_result"
    }
   ],
   "source": [
    "df.head()"
   ]
  },
  {
   "cell_type": "code",
   "execution_count": null,
   "id": "671e707e-0cd3-4a21-b366-71c1ac6896cf",
   "metadata": {},
   "outputs": [],
   "source": [
    "p7 = df.pivot_table(index=['회원번호','모바일알람여부'] , values = '구매금액' , aggfunc='sum').reset_index()\n",
    "p7"
   ]
  },
  {
   "cell_type": "code",
   "execution_count": null,
   "id": "e53bbf57-c56f-43d6-bea6-80cbd78ee5b0",
   "metadata": {},
   "outputs": [],
   "source": [
    "p7.loc[p7['모바일알람여부'] == '미수신']['구매금액'].median()"
   ]
  },
  {
   "cell_type": "code",
   "execution_count": null,
   "id": "207063eb-acc7-4c3b-a62e-7775d48edaad",
   "metadata": {
    "scrolled": true
   },
   "outputs": [],
   "source": [
    "p7.loc[p7['모바일알람여부'] == '수신']['구매금액'].median()"
   ]
  },
  {
   "cell_type": "markdown",
   "id": "c35d20be-5fa0-40b0-b189-23ff81074b6b",
   "metadata": {},
   "source": [
    "### 매출차이가 나는 (4,5,6월 VS 7,8월) 주요 품목 비교"
   ]
  },
  {
   "cell_type": "code",
   "execution_count": 119,
   "id": "550d46d9-79cc-425b-a580-f1645c93b5ac",
   "metadata": {},
   "outputs": [
    {
     "name": "stdout",
     "output_type": "stream",
     "text": [
      "<class 'pandas.core.frame.DataFrame'>\n",
      "RangeIndex: 294645 entries, 0 to 294644\n",
      "Data columns (total 32 columns):\n",
      " #   Column       Non-Null Count   Dtype          \n",
      "---  ------       --------------   -----          \n",
      " 0   공급일자         294645 non-null  object         \n",
      " 1   회원번호         294645 non-null  int64          \n",
      " 2   조합원상태        294645 non-null  object         \n",
      " 3   물품대분류        294645 non-null  object         \n",
      " 4   물품중분류        294645 non-null  object         \n",
      " 5   물품소분류        294645 non-null  object         \n",
      " 6   물품명          294645 non-null  object         \n",
      " 7   구매수량         294645 non-null  float64        \n",
      " 8   구매금액         294645 non-null  int64          \n",
      " 9   구매매장         294645 non-null  object         \n",
      " 10  반품_원거래일자     4960 non-null    object         \n",
      " 11  구매시각         294645 non-null  object         \n",
      " 12  구매시각_dt      294645 non-null  datetime64[ns] \n",
      " 13  시간대          294645 non-null  object         \n",
      " 14  구매시각_시       294645 non-null  int32          \n",
      " 15  공급일자_dt      294645 non-null  datetime64[ns] \n",
      " 16  월            294645 non-null  int32          \n",
      " 17  요일           294645 non-null  object         \n",
      " 18  주말/주중        294645 non-null  object         \n",
      " 19  주소           294645 non-null  object         \n",
      " 20  성별           294642 non-null  object         \n",
      " 21  연령           294626 non-null  float64        \n",
      " 22  배송서비스신청여부    294645 non-null  object         \n",
      " 23  모바일알람여부      294645 non-null  object         \n",
      " 24  Gold_member  294645 non-null  object         \n",
      " 25  연령대          294626 non-null  object         \n",
      " 26  Rencency     294645 non-null  timedelta64[ns]\n",
      " 27  count        294645 non-null  int64          \n",
      " 28  R            294645 non-null  int64          \n",
      " 29  F            294645 non-null  int64          \n",
      " 30  Score        294645 non-null  float64        \n",
      " 31  고객등급         294645 non-null  object         \n",
      "dtypes: datetime64[ns](2), float64(3), int32(2), int64(5), object(19), timedelta64[ns](1)\n",
      "memory usage: 69.7+ MB\n"
     ]
    }
   ],
   "source": [
    "df.info()"
   ]
  },
  {
   "cell_type": "code",
   "execution_count": 127,
   "id": "fb2345b9-e06d-41e8-9835-254e8c43b4ba",
   "metadata": {},
   "outputs": [
    {
     "data": {
      "text/html": [
       "<div>\n",
       "<style scoped>\n",
       "    .dataframe tbody tr th:only-of-type {\n",
       "        vertical-align: middle;\n",
       "    }\n",
       "\n",
       "    .dataframe tbody tr th {\n",
       "        vertical-align: top;\n",
       "    }\n",
       "\n",
       "    .dataframe thead th {\n",
       "        text-align: right;\n",
       "    }\n",
       "</style>\n",
       "<table border=\"1\" class=\"dataframe\">\n",
       "  <thead>\n",
       "    <tr style=\"text-align: right;\">\n",
       "      <th></th>\n",
       "      <th>월</th>\n",
       "      <th>구매금액</th>\n",
       "    </tr>\n",
       "  </thead>\n",
       "  <tbody>\n",
       "    <tr>\n",
       "      <th>0</th>\n",
       "      <td>1</td>\n",
       "      <td>340854710</td>\n",
       "    </tr>\n",
       "    <tr>\n",
       "      <th>1</th>\n",
       "      <td>2</td>\n",
       "      <td>335517655</td>\n",
       "    </tr>\n",
       "    <tr>\n",
       "      <th>2</th>\n",
       "      <td>3</td>\n",
       "      <td>318701266</td>\n",
       "    </tr>\n",
       "    <tr>\n",
       "      <th>3</th>\n",
       "      <td>4</td>\n",
       "      <td>307300967</td>\n",
       "    </tr>\n",
       "    <tr>\n",
       "      <th>4</th>\n",
       "      <td>5</td>\n",
       "      <td>319699543</td>\n",
       "    </tr>\n",
       "    <tr>\n",
       "      <th>5</th>\n",
       "      <td>6</td>\n",
       "      <td>307472697</td>\n",
       "    </tr>\n",
       "    <tr>\n",
       "      <th>6</th>\n",
       "      <td>7</td>\n",
       "      <td>359811419</td>\n",
       "    </tr>\n",
       "    <tr>\n",
       "      <th>7</th>\n",
       "      <td>8</td>\n",
       "      <td>333950632</td>\n",
       "    </tr>\n",
       "    <tr>\n",
       "      <th>8</th>\n",
       "      <td>9</td>\n",
       "      <td>336870046</td>\n",
       "    </tr>\n",
       "    <tr>\n",
       "      <th>9</th>\n",
       "      <td>10</td>\n",
       "      <td>294977488</td>\n",
       "    </tr>\n",
       "  </tbody>\n",
       "</table>\n",
       "</div>"
      ],
      "text/plain": [
       "    월       구매금액\n",
       "0   1  340854710\n",
       "1   2  335517655\n",
       "2   3  318701266\n",
       "3   4  307300967\n",
       "4   5  319699543\n",
       "5   6  307472697\n",
       "6   7  359811419\n",
       "7   8  333950632\n",
       "8   9  336870046\n",
       "9  10  294977488"
      ]
     },
     "execution_count": 127,
     "metadata": {},
     "output_type": "execute_result"
    }
   ],
   "source": [
    "p8 = df.pivot_table(index='월', values='구매금액' , aggfunc='sum').reset_index()\n",
    "p8"
   ]
  },
  {
   "cell_type": "code",
   "execution_count": 129,
   "id": "16c51941-aed7-4431-8185-556ab1955aa2",
   "metadata": {},
   "outputs": [
    {
     "data": {
      "application/vnd.plotly.v1+json": {
       "config": {
        "plotlyServerURL": "https://plot.ly"
       },
       "data": [
        {
         "hovertemplate": "월=%{x}<br>구매금액=%{y}<extra></extra>",
         "legendgroup": "",
         "line": {
          "color": "#636efa",
          "dash": "solid"
         },
         "marker": {
          "symbol": "circle"
         },
         "mode": "lines",
         "name": "",
         "orientation": "v",
         "showlegend": false,
         "type": "scatter",
         "x": [
          1,
          2,
          3,
          4,
          5,
          6,
          7,
          8,
          9,
          10
         ],
         "xaxis": "x",
         "y": [
          340854710,
          335517655,
          318701266,
          307300967,
          319699543,
          307472697,
          359811419,
          333950632,
          336870046,
          294977488
         ],
         "yaxis": "y"
        }
       ],
       "layout": {
        "autosize": true,
        "legend": {
         "tracegroupgap": 0
        },
        "margin": {
         "t": 60
        },
        "template": {
         "data": {
          "bar": [
           {
            "error_x": {
             "color": "#2a3f5f"
            },
            "error_y": {
             "color": "#2a3f5f"
            },
            "marker": {
             "line": {
              "color": "#E5ECF6",
              "width": 0.5
             },
             "pattern": {
              "fillmode": "overlay",
              "size": 10,
              "solidity": 0.2
             }
            },
            "type": "bar"
           }
          ],
          "barpolar": [
           {
            "marker": {
             "line": {
              "color": "#E5ECF6",
              "width": 0.5
             },
             "pattern": {
              "fillmode": "overlay",
              "size": 10,
              "solidity": 0.2
             }
            },
            "type": "barpolar"
           }
          ],
          "carpet": [
           {
            "aaxis": {
             "endlinecolor": "#2a3f5f",
             "gridcolor": "white",
             "linecolor": "white",
             "minorgridcolor": "white",
             "startlinecolor": "#2a3f5f"
            },
            "baxis": {
             "endlinecolor": "#2a3f5f",
             "gridcolor": "white",
             "linecolor": "white",
             "minorgridcolor": "white",
             "startlinecolor": "#2a3f5f"
            },
            "type": "carpet"
           }
          ],
          "choropleth": [
           {
            "colorbar": {
             "outlinewidth": 0,
             "ticks": ""
            },
            "type": "choropleth"
           }
          ],
          "contour": [
           {
            "colorbar": {
             "outlinewidth": 0,
             "ticks": ""
            },
            "colorscale": [
             [
              0,
              "#0d0887"
             ],
             [
              0.1111111111111111,
              "#46039f"
             ],
             [
              0.2222222222222222,
              "#7201a8"
             ],
             [
              0.3333333333333333,
              "#9c179e"
             ],
             [
              0.4444444444444444,
              "#bd3786"
             ],
             [
              0.5555555555555556,
              "#d8576b"
             ],
             [
              0.6666666666666666,
              "#ed7953"
             ],
             [
              0.7777777777777778,
              "#fb9f3a"
             ],
             [
              0.8888888888888888,
              "#fdca26"
             ],
             [
              1,
              "#f0f921"
             ]
            ],
            "type": "contour"
           }
          ],
          "contourcarpet": [
           {
            "colorbar": {
             "outlinewidth": 0,
             "ticks": ""
            },
            "type": "contourcarpet"
           }
          ],
          "heatmap": [
           {
            "colorbar": {
             "outlinewidth": 0,
             "ticks": ""
            },
            "colorscale": [
             [
              0,
              "#0d0887"
             ],
             [
              0.1111111111111111,
              "#46039f"
             ],
             [
              0.2222222222222222,
              "#7201a8"
             ],
             [
              0.3333333333333333,
              "#9c179e"
             ],
             [
              0.4444444444444444,
              "#bd3786"
             ],
             [
              0.5555555555555556,
              "#d8576b"
             ],
             [
              0.6666666666666666,
              "#ed7953"
             ],
             [
              0.7777777777777778,
              "#fb9f3a"
             ],
             [
              0.8888888888888888,
              "#fdca26"
             ],
             [
              1,
              "#f0f921"
             ]
            ],
            "type": "heatmap"
           }
          ],
          "heatmapgl": [
           {
            "colorbar": {
             "outlinewidth": 0,
             "ticks": ""
            },
            "colorscale": [
             [
              0,
              "#0d0887"
             ],
             [
              0.1111111111111111,
              "#46039f"
             ],
             [
              0.2222222222222222,
              "#7201a8"
             ],
             [
              0.3333333333333333,
              "#9c179e"
             ],
             [
              0.4444444444444444,
              "#bd3786"
             ],
             [
              0.5555555555555556,
              "#d8576b"
             ],
             [
              0.6666666666666666,
              "#ed7953"
             ],
             [
              0.7777777777777778,
              "#fb9f3a"
             ],
             [
              0.8888888888888888,
              "#fdca26"
             ],
             [
              1,
              "#f0f921"
             ]
            ],
            "type": "heatmapgl"
           }
          ],
          "histogram": [
           {
            "marker": {
             "pattern": {
              "fillmode": "overlay",
              "size": 10,
              "solidity": 0.2
             }
            },
            "type": "histogram"
           }
          ],
          "histogram2d": [
           {
            "colorbar": {
             "outlinewidth": 0,
             "ticks": ""
            },
            "colorscale": [
             [
              0,
              "#0d0887"
             ],
             [
              0.1111111111111111,
              "#46039f"
             ],
             [
              0.2222222222222222,
              "#7201a8"
             ],
             [
              0.3333333333333333,
              "#9c179e"
             ],
             [
              0.4444444444444444,
              "#bd3786"
             ],
             [
              0.5555555555555556,
              "#d8576b"
             ],
             [
              0.6666666666666666,
              "#ed7953"
             ],
             [
              0.7777777777777778,
              "#fb9f3a"
             ],
             [
              0.8888888888888888,
              "#fdca26"
             ],
             [
              1,
              "#f0f921"
             ]
            ],
            "type": "histogram2d"
           }
          ],
          "histogram2dcontour": [
           {
            "colorbar": {
             "outlinewidth": 0,
             "ticks": ""
            },
            "colorscale": [
             [
              0,
              "#0d0887"
             ],
             [
              0.1111111111111111,
              "#46039f"
             ],
             [
              0.2222222222222222,
              "#7201a8"
             ],
             [
              0.3333333333333333,
              "#9c179e"
             ],
             [
              0.4444444444444444,
              "#bd3786"
             ],
             [
              0.5555555555555556,
              "#d8576b"
             ],
             [
              0.6666666666666666,
              "#ed7953"
             ],
             [
              0.7777777777777778,
              "#fb9f3a"
             ],
             [
              0.8888888888888888,
              "#fdca26"
             ],
             [
              1,
              "#f0f921"
             ]
            ],
            "type": "histogram2dcontour"
           }
          ],
          "mesh3d": [
           {
            "colorbar": {
             "outlinewidth": 0,
             "ticks": ""
            },
            "type": "mesh3d"
           }
          ],
          "parcoords": [
           {
            "line": {
             "colorbar": {
              "outlinewidth": 0,
              "ticks": ""
             }
            },
            "type": "parcoords"
           }
          ],
          "pie": [
           {
            "automargin": true,
            "type": "pie"
           }
          ],
          "scatter": [
           {
            "fillpattern": {
             "fillmode": "overlay",
             "size": 10,
             "solidity": 0.2
            },
            "type": "scatter"
           }
          ],
          "scatter3d": [
           {
            "line": {
             "colorbar": {
              "outlinewidth": 0,
              "ticks": ""
             }
            },
            "marker": {
             "colorbar": {
              "outlinewidth": 0,
              "ticks": ""
             }
            },
            "type": "scatter3d"
           }
          ],
          "scattercarpet": [
           {
            "marker": {
             "colorbar": {
              "outlinewidth": 0,
              "ticks": ""
             }
            },
            "type": "scattercarpet"
           }
          ],
          "scattergeo": [
           {
            "marker": {
             "colorbar": {
              "outlinewidth": 0,
              "ticks": ""
             }
            },
            "type": "scattergeo"
           }
          ],
          "scattergl": [
           {
            "marker": {
             "colorbar": {
              "outlinewidth": 0,
              "ticks": ""
             }
            },
            "type": "scattergl"
           }
          ],
          "scattermapbox": [
           {
            "marker": {
             "colorbar": {
              "outlinewidth": 0,
              "ticks": ""
             }
            },
            "type": "scattermapbox"
           }
          ],
          "scatterpolar": [
           {
            "marker": {
             "colorbar": {
              "outlinewidth": 0,
              "ticks": ""
             }
            },
            "type": "scatterpolar"
           }
          ],
          "scatterpolargl": [
           {
            "marker": {
             "colorbar": {
              "outlinewidth": 0,
              "ticks": ""
             }
            },
            "type": "scatterpolargl"
           }
          ],
          "scatterternary": [
           {
            "marker": {
             "colorbar": {
              "outlinewidth": 0,
              "ticks": ""
             }
            },
            "type": "scatterternary"
           }
          ],
          "surface": [
           {
            "colorbar": {
             "outlinewidth": 0,
             "ticks": ""
            },
            "colorscale": [
             [
              0,
              "#0d0887"
             ],
             [
              0.1111111111111111,
              "#46039f"
             ],
             [
              0.2222222222222222,
              "#7201a8"
             ],
             [
              0.3333333333333333,
              "#9c179e"
             ],
             [
              0.4444444444444444,
              "#bd3786"
             ],
             [
              0.5555555555555556,
              "#d8576b"
             ],
             [
              0.6666666666666666,
              "#ed7953"
             ],
             [
              0.7777777777777778,
              "#fb9f3a"
             ],
             [
              0.8888888888888888,
              "#fdca26"
             ],
             [
              1,
              "#f0f921"
             ]
            ],
            "type": "surface"
           }
          ],
          "table": [
           {
            "cells": {
             "fill": {
              "color": "#EBF0F8"
             },
             "line": {
              "color": "white"
             }
            },
            "header": {
             "fill": {
              "color": "#C8D4E3"
             },
             "line": {
              "color": "white"
             }
            },
            "type": "table"
           }
          ]
         },
         "layout": {
          "annotationdefaults": {
           "arrowcolor": "#2a3f5f",
           "arrowhead": 0,
           "arrowwidth": 1
          },
          "autotypenumbers": "strict",
          "coloraxis": {
           "colorbar": {
            "outlinewidth": 0,
            "ticks": ""
           }
          },
          "colorscale": {
           "diverging": [
            [
             0,
             "#8e0152"
            ],
            [
             0.1,
             "#c51b7d"
            ],
            [
             0.2,
             "#de77ae"
            ],
            [
             0.3,
             "#f1b6da"
            ],
            [
             0.4,
             "#fde0ef"
            ],
            [
             0.5,
             "#f7f7f7"
            ],
            [
             0.6,
             "#e6f5d0"
            ],
            [
             0.7,
             "#b8e186"
            ],
            [
             0.8,
             "#7fbc41"
            ],
            [
             0.9,
             "#4d9221"
            ],
            [
             1,
             "#276419"
            ]
           ],
           "sequential": [
            [
             0,
             "#0d0887"
            ],
            [
             0.1111111111111111,
             "#46039f"
            ],
            [
             0.2222222222222222,
             "#7201a8"
            ],
            [
             0.3333333333333333,
             "#9c179e"
            ],
            [
             0.4444444444444444,
             "#bd3786"
            ],
            [
             0.5555555555555556,
             "#d8576b"
            ],
            [
             0.6666666666666666,
             "#ed7953"
            ],
            [
             0.7777777777777778,
             "#fb9f3a"
            ],
            [
             0.8888888888888888,
             "#fdca26"
            ],
            [
             1,
             "#f0f921"
            ]
           ],
           "sequentialminus": [
            [
             0,
             "#0d0887"
            ],
            [
             0.1111111111111111,
             "#46039f"
            ],
            [
             0.2222222222222222,
             "#7201a8"
            ],
            [
             0.3333333333333333,
             "#9c179e"
            ],
            [
             0.4444444444444444,
             "#bd3786"
            ],
            [
             0.5555555555555556,
             "#d8576b"
            ],
            [
             0.6666666666666666,
             "#ed7953"
            ],
            [
             0.7777777777777778,
             "#fb9f3a"
            ],
            [
             0.8888888888888888,
             "#fdca26"
            ],
            [
             1,
             "#f0f921"
            ]
           ]
          },
          "colorway": [
           "#636efa",
           "#EF553B",
           "#00cc96",
           "#ab63fa",
           "#FFA15A",
           "#19d3f3",
           "#FF6692",
           "#B6E880",
           "#FF97FF",
           "#FECB52"
          ],
          "font": {
           "color": "#2a3f5f"
          },
          "geo": {
           "bgcolor": "white",
           "lakecolor": "white",
           "landcolor": "#E5ECF6",
           "showlakes": true,
           "showland": true,
           "subunitcolor": "white"
          },
          "hoverlabel": {
           "align": "left"
          },
          "hovermode": "closest",
          "mapbox": {
           "style": "light"
          },
          "paper_bgcolor": "white",
          "plot_bgcolor": "#E5ECF6",
          "polar": {
           "angularaxis": {
            "gridcolor": "white",
            "linecolor": "white",
            "ticks": ""
           },
           "bgcolor": "#E5ECF6",
           "radialaxis": {
            "gridcolor": "white",
            "linecolor": "white",
            "ticks": ""
           }
          },
          "scene": {
           "xaxis": {
            "backgroundcolor": "#E5ECF6",
            "gridcolor": "white",
            "gridwidth": 2,
            "linecolor": "white",
            "showbackground": true,
            "ticks": "",
            "zerolinecolor": "white"
           },
           "yaxis": {
            "backgroundcolor": "#E5ECF6",
            "gridcolor": "white",
            "gridwidth": 2,
            "linecolor": "white",
            "showbackground": true,
            "ticks": "",
            "zerolinecolor": "white"
           },
           "zaxis": {
            "backgroundcolor": "#E5ECF6",
            "gridcolor": "white",
            "gridwidth": 2,
            "linecolor": "white",
            "showbackground": true,
            "ticks": "",
            "zerolinecolor": "white"
           }
          },
          "shapedefaults": {
           "line": {
            "color": "#2a3f5f"
           }
          },
          "ternary": {
           "aaxis": {
            "gridcolor": "white",
            "linecolor": "white",
            "ticks": ""
           },
           "baxis": {
            "gridcolor": "white",
            "linecolor": "white",
            "ticks": ""
           },
           "bgcolor": "#E5ECF6",
           "caxis": {
            "gridcolor": "white",
            "linecolor": "white",
            "ticks": ""
           }
          },
          "title": {
           "x": 0.05
          },
          "xaxis": {
           "automargin": true,
           "gridcolor": "white",
           "linecolor": "white",
           "ticks": "",
           "title": {
            "standoff": 15
           },
           "zerolinecolor": "white",
           "zerolinewidth": 2
          },
          "yaxis": {
           "automargin": true,
           "gridcolor": "white",
           "linecolor": "white",
           "ticks": "",
           "title": {
            "standoff": 15
           },
           "zerolinecolor": "white",
           "zerolinewidth": 2
          }
         }
        },
        "xaxis": {
         "anchor": "y",
         "autorange": true,
         "domain": [
          0,
          1
         ],
         "range": [
          1,
          10
         ],
         "title": {
          "text": "월"
         },
         "type": "linear"
        },
        "yaxis": {
         "anchor": "x",
         "autorange": true,
         "domain": [
          0,
          1
         ],
         "range": [
          291375602.9444444,
          363413304.0555556
         ],
         "title": {
          "text": "구매금액"
         },
         "type": "linear"
        }
       }
      },
      "image/png": "[encoded data removed]",
      "text/html": [
       "<div>                            <div id=\"3a5e99d4-5da5-4f34-829f-daebfc17fc11\" class=\"plotly-graph-div\" style=\"height:525px; width:100%;\"></div>            <script type=\"text/javascript\">                require([\"plotly\"], function(Plotly) {                    window.PLOTLYENV=window.PLOTLYENV || {};                                    if (document.getElementById(\"3a5e99d4-5da5-4f34-829f-daebfc17fc11\")) {                    Plotly.newPlot(                        \"3a5e99d4-5da5-4f34-829f-daebfc17fc11\",                        [{\"hovertemplate\":\"\\uc6d4=%{x}<br>\\uad6c\\ub9e4\\uae08\\uc561=%{y}<extra></extra>\",\"legendgroup\":\"\",\"line\":{\"color\":\"#636efa\",\"dash\":\"solid\"},\"marker\":{\"symbol\":\"circle\"},\"mode\":\"lines\",\"name\":\"\",\"orientation\":\"v\",\"showlegend\":false,\"x\":[1,2,3,4,5,6,7,8,9,10],\"xaxis\":\"x\",\"y\":[340854710,335517655,318701266,307300967,319699543,307472697,359811419,333950632,336870046,294977488],\"yaxis\":\"y\",\"type\":\"scatter\"}],                        {\"template\":{\"data\":{\"histogram2dcontour\":[{\"type\":\"histogram2dcontour\",\"colorbar\":{\"outlinewidth\":0,\"ticks\":\"\"},\"colorscale\":[[0.0,\"#0d0887\"],[0.1111111111111111,\"#46039f\"],[0.2222222222222222,\"#7201a8\"],[0.3333333333333333,\"#9c179e\"],[0.4444444444444444,\"#bd3786\"],[0.5555555555555556,\"#d8576b\"],[0.6666666666666666,\"#ed7953\"],[0.7777777777777778,\"#fb9f3a\"],[0.8888888888888888,\"#fdca26\"],[1.0,\"#f0f921\"]]}],\"choropleth\":[{\"type\":\"choropleth\",\"colorbar\":{\"outlinewidth\":0,\"ticks\":\"\"}}],\"histogram2d\":[{\"type\":\"histogram2d\",\"colorbar\":{\"outlinewidth\":0,\"ticks\":\"\"},\"colorscale\":[[0.0,\"#0d0887\"],[0.1111111111111111,\"#46039f\"],[0.2222222222222222,\"#7201a8\"],[0.3333333333333333,\"#9c179e\"],[0.4444444444444444,\"#bd3786\"],[0.5555555555555556,\"#d8576b\"],[0.6666666666666666,\"#ed7953\"],[0.7777777777777778,\"#fb9f3a\"],[0.8888888888888888,\"#fdca26\"],[1.0,\"#f0f921\"]]}],\"heatmap\":[{\"type\":\"heatmap\",\"colorbar\":{\"outlinewidth\":0,\"ticks\":\"\"},\"colorscale\":[[0.0,\"#0d0887\"],[0.1111111111111111,\"#46039f\"],[0.2222222222222222,\"#7201a8\"],[0.3333333333333333,\"#9c179e\"],[0.4444444444444444,\"#bd3786\"],[0.5555555555555556,\"#d8576b\"],[0.6666666666666666,\"#ed7953\"],[0.7777777777777778,\"#fb9f3a\"],[0.8888888888888888,\"#fdca26\"],[1.0,\"#f0f921\"]]}],\"heatmapgl\":[{\"type\":\"heatmapgl\",\"colorbar\":{\"outlinewidth\":0,\"ticks\":\"\"},\"colorscale\":[[0.0,\"#0d0887\"],[0.1111111111111111,\"#46039f\"],[0.2222222222222222,\"#7201a8\"],[0.3333333333333333,\"#9c179e\"],[0.4444444444444444,\"#bd3786\"],[0.5555555555555556,\"#d8576b\"],[0.6666666666666666,\"#ed7953\"],[0.7777777777777778,\"#fb9f3a\"],[0.8888888888888888,\"#fdca26\"],[1.0,\"#f0f921\"]]}],\"contourcarpet\":[{\"type\":\"contourcarpet\",\"colorbar\":{\"outlinewidth\":0,\"ticks\":\"\"}}],\"contour\":[{\"type\":\"contour\",\"colorbar\":{\"outlinewidth\":0,\"ticks\":\"\"},\"colorscale\":[[0.0,\"#0d0887\"],[0.1111111111111111,\"#46039f\"],[0.2222222222222222,\"#7201a8\"],[0.3333333333333333,\"#9c179e\"],[0.4444444444444444,\"#bd3786\"],[0.5555555555555556,\"#d8576b\"],[0.6666666666666666,\"#ed7953\"],[0.7777777777777778,\"#fb9f3a\"],[0.8888888888888888,\"#fdca26\"],[1.0,\"#f0f921\"]]}],\"surface\":[{\"type\":\"surface\",\"colorbar\":{\"outlinewidth\":0,\"ticks\":\"\"},\"colorscale\":[[0.0,\"#0d0887\"],[0.1111111111111111,\"#46039f\"],[0.2222222222222222,\"#7201a8\"],[0.3333333333333333,\"#9c179e\"],[0.4444444444444444,\"#bd3786\"],[0.5555555555555556,\"#d8576b\"],[0.6666666666666666,\"#ed7953\"],[0.7777777777777778,\"#fb9f3a\"],[0.8888888888888888,\"#fdca26\"],[1.0,\"#f0f921\"]]}],\"mesh3d\":[{\"type\":\"mesh3d\",\"colorbar\":{\"outlinewidth\":0,\"ticks\":\"\"}}],\"scatter\":[{\"fillpattern\":{\"fillmode\":\"overlay\",\"size\":10,\"solidity\":0.2},\"type\":\"scatter\"}],\"parcoords\":[{\"type\":\"parcoords\",\"line\":{\"colorbar\":{\"outlinewidth\":0,\"ticks\":\"\"}}}],\"scatterpolargl\":[{\"type\":\"scatterpolargl\",\"marker\":{\"colorbar\":{\"outlinewidth\":0,\"ticks\":\"\"}}}],\"bar\":[{\"error_x\":{\"color\":\"#2a3f5f\"},\"error_y\":{\"color\":\"#2a3f5f\"},\"marker\":{\"line\":{\"color\":\"#E5ECF6\",\"width\":0.5},\"pattern\":{\"fillmode\":\"overlay\",\"size\":10,\"solidity\":0.2}},\"type\":\"bar\"}],\"scattergeo\":[{\"type\":\"scattergeo\",\"marker\":{\"colorbar\":{\"outlinewidth\":0,\"ticks\":\"\"}}}],\"scatterpolar\":[{\"type\":\"scatterpolar\",\"marker\":{\"colorbar\":{\"outlinewidth\":0,\"ticks\":\"\"}}}],\"histogram\":[{\"marker\":{\"pattern\":{\"fillmode\":\"overlay\",\"size\":10,\"solidity\":0.2}},\"type\":\"histogram\"}],\"scattergl\":[{\"type\":\"scattergl\",\"marker\":{\"colorbar\":{\"outlinewidth\":0,\"ticks\":\"\"}}}],\"scatter3d\":[{\"type\":\"scatter3d\",\"line\":{\"colorbar\":{\"outlinewidth\":0,\"ticks\":\"\"}},\"marker\":{\"colorbar\":{\"outlinewidth\":0,\"ticks\":\"\"}}}],\"scattermapbox\":[{\"type\":\"scattermapbox\",\"marker\":{\"colorbar\":{\"outlinewidth\":0,\"ticks\":\"\"}}}],\"scatterternary\":[{\"type\":\"scatterternary\",\"marker\":{\"colorbar\":{\"outlinewidth\":0,\"ticks\":\"\"}}}],\"scattercarpet\":[{\"type\":\"scattercarpet\",\"marker\":{\"colorbar\":{\"outlinewidth\":0,\"ticks\":\"\"}}}],\"carpet\":[{\"aaxis\":{\"endlinecolor\":\"#2a3f5f\",\"gridcolor\":\"white\",\"linecolor\":\"white\",\"minorgridcolor\":\"white\",\"startlinecolor\":\"#2a3f5f\"},\"baxis\":{\"endlinecolor\":\"#2a3f5f\",\"gridcolor\":\"white\",\"linecolor\":\"white\",\"minorgridcolor\":\"white\",\"startlinecolor\":\"#2a3f5f\"},\"type\":\"carpet\"}],\"table\":[{\"cells\":{\"fill\":{\"color\":\"#EBF0F8\"},\"line\":{\"color\":\"white\"}},\"header\":{\"fill\":{\"color\":\"#C8D4E3\"},\"line\":{\"color\":\"white\"}},\"type\":\"table\"}],\"barpolar\":[{\"marker\":{\"line\":{\"color\":\"#E5ECF6\",\"width\":0.5},\"pattern\":{\"fillmode\":\"overlay\",\"size\":10,\"solidity\":0.2}},\"type\":\"barpolar\"}],\"pie\":[{\"automargin\":true,\"type\":\"pie\"}]},\"layout\":{\"autotypenumbers\":\"strict\",\"colorway\":[\"#636efa\",\"#EF553B\",\"#00cc96\",\"#ab63fa\",\"#FFA15A\",\"#19d3f3\",\"#FF6692\",\"#B6E880\",\"#FF97FF\",\"#FECB52\"],\"font\":{\"color\":\"#2a3f5f\"},\"hovermode\":\"closest\",\"hoverlabel\":{\"align\":\"left\"},\"paper_bgcolor\":\"white\",\"plot_bgcolor\":\"#E5ECF6\",\"polar\":{\"bgcolor\":\"#E5ECF6\",\"angularaxis\":{\"gridcolor\":\"white\",\"linecolor\":\"white\",\"ticks\":\"\"},\"radialaxis\":{\"gridcolor\":\"white\",\"linecolor\":\"white\",\"ticks\":\"\"}},\"ternary\":{\"bgcolor\":\"#E5ECF6\",\"aaxis\":{\"gridcolor\":\"white\",\"linecolor\":\"white\",\"ticks\":\"\"},\"baxis\":{\"gridcolor\":\"white\",\"linecolor\":\"white\",\"ticks\":\"\"},\"caxis\":{\"gridcolor\":\"white\",\"linecolor\":\"white\",\"ticks\":\"\"}},\"coloraxis\":{\"colorbar\":{\"outlinewidth\":0,\"ticks\":\"\"}},\"colorscale\":{\"sequential\":[[0.0,\"#0d0887\"],[0.1111111111111111,\"#46039f\"],[0.2222222222222222,\"#7201a8\"],[0.3333333333333333,\"#9c179e\"],[0.4444444444444444,\"#bd3786\"],[0.5555555555555556,\"#d8576b\"],[0.6666666666666666,\"#ed7953\"],[0.7777777777777778,\"#fb9f3a\"],[0.8888888888888888,\"#fdca26\"],[1.0,\"#f0f921\"]],\"sequentialminus\":[[0.0,\"#0d0887\"],[0.1111111111111111,\"#46039f\"],[0.2222222222222222,\"#7201a8\"],[0.3333333333333333,\"#9c179e\"],[0.4444444444444444,\"#bd3786\"],[0.5555555555555556,\"#d8576b\"],[0.6666666666666666,\"#ed7953\"],[0.7777777777777778,\"#fb9f3a\"],[0.8888888888888888,\"#fdca26\"],[1.0,\"#f0f921\"]],\"diverging\":[[0,\"#8e0152\"],[0.1,\"#c51b7d\"],[0.2,\"#de77ae\"],[0.3,\"#f1b6da\"],[0.4,\"#fde0ef\"],[0.5,\"#f7f7f7\"],[0.6,\"#e6f5d0\"],[0.7,\"#b8e186\"],[0.8,\"#7fbc41\"],[0.9,\"#4d9221\"],[1,\"#276419\"]]},\"xaxis\":{\"gridcolor\":\"white\",\"linecolor\":\"white\",\"ticks\":\"\",\"title\":{\"standoff\":15},\"zerolinecolor\":\"white\",\"automargin\":true,\"zerolinewidth\":2},\"yaxis\":{\"gridcolor\":\"white\",\"linecolor\":\"white\",\"ticks\":\"\",\"title\":{\"standoff\":15},\"zerolinecolor\":\"white\",\"automargin\":true,\"zerolinewidth\":2},\"scene\":{\"xaxis\":{\"backgroundcolor\":\"#E5ECF6\",\"gridcolor\":\"white\",\"linecolor\":\"white\",\"showbackground\":true,\"ticks\":\"\",\"zerolinecolor\":\"white\",\"gridwidth\":2},\"yaxis\":{\"backgroundcolor\":\"#E5ECF6\",\"gridcolor\":\"white\",\"linecolor\":\"white\",\"showbackground\":true,\"ticks\":\"\",\"zerolinecolor\":\"white\",\"gridwidth\":2},\"zaxis\":{\"backgroundcolor\":\"#E5ECF6\",\"gridcolor\":\"white\",\"linecolor\":\"white\",\"showbackground\":true,\"ticks\":\"\",\"zerolinecolor\":\"white\",\"gridwidth\":2}},\"shapedefaults\":{\"line\":{\"color\":\"#2a3f5f\"}},\"annotationdefaults\":{\"arrowcolor\":\"#2a3f5f\",\"arrowhead\":0,\"arrowwidth\":1},\"geo\":{\"bgcolor\":\"white\",\"landcolor\":\"#E5ECF6\",\"subunitcolor\":\"white\",\"showland\":true,\"showlakes\":true,\"lakecolor\":\"white\"},\"title\":{\"x\":0.05},\"mapbox\":{\"style\":\"light\"}}},\"xaxis\":{\"anchor\":\"y\",\"domain\":[0.0,1.0],\"title\":{\"text\":\"\\uc6d4\"}},\"yaxis\":{\"anchor\":\"x\",\"domain\":[0.0,1.0],\"title\":{\"text\":\"\\uad6c\\ub9e4\\uae08\\uc561\"}},\"legend\":{\"tracegroupgap\":0},\"margin\":{\"t\":60}},                        {\"responsive\": true}                    ).then(function(){\n",
       "                            \n",
       "var gd = document.getElementById('3a5e99d4-5da5-4f34-829f-daebfc17fc11');\n",
       "var x = new MutationObserver(function (mutations, observer) {{\n",
       "        var display = window.getComputedStyle(gd).display;\n",
       "        if (!display || display === 'none') {{\n",
       "            console.log([gd, 'removed!']);\n",
       "            Plotly.purge(gd);\n",
       "            observer.disconnect();\n",
       "        }}\n",
       "}});\n",
       "\n",
       "// Listen for the removal of the full notebook cells\n",
       "var notebookContainer = gd.closest('#notebook-container');\n",
       "if (notebookContainer) {{\n",
       "    x.observe(notebookContainer, {childList: true});\n",
       "}}\n",
       "\n",
       "// Listen for the clearing of the current output cell\n",
       "var outputEl = gd.closest('.output');\n",
       "if (outputEl) {{\n",
       "    x.observe(outputEl, {childList: true});\n",
       "}}\n",
       "\n",
       "                        })                };                });            </script>        </div>"
      ]
     },
     "metadata": {},
     "output_type": "display_data"
    }
   ],
   "source": [
    "px.line(p8, x='월', y='구매금액')"
   ]
  },
  {
   "cell_type": "code",
   "execution_count": 135,
   "id": "863a2544-aaff-42a7-95cf-65947865dbb7",
   "metadata": {},
   "outputs": [
    {
     "name": "stdout",
     "output_type": "stream",
     "text": [
      "<class 'pandas.core.frame.DataFrame'>\n",
      "RangeIndex: 294645 entries, 0 to 294644\n",
      "Data columns (total 32 columns):\n",
      " #   Column       Non-Null Count   Dtype          \n",
      "---  ------       --------------   -----          \n",
      " 0   공급일자         294645 non-null  object         \n",
      " 1   회원번호         294645 non-null  int64          \n",
      " 2   조합원상태        294645 non-null  object         \n",
      " 3   물품대분류        294645 non-null  object         \n",
      " 4   물품중분류        294645 non-null  object         \n",
      " 5   물품소분류        294645 non-null  object         \n",
      " 6   물품명          294645 non-null  object         \n",
      " 7   구매수량         294645 non-null  float64        \n",
      " 8   구매금액         294645 non-null  int64          \n",
      " 9   구매매장         294645 non-null  object         \n",
      " 10  반품_원거래일자     4960 non-null    object         \n",
      " 11  구매시각         294645 non-null  object         \n",
      " 12  구매시각_dt      294645 non-null  datetime64[ns] \n",
      " 13  시간대          294645 non-null  object         \n",
      " 14  구매시각_시       294645 non-null  int32          \n",
      " 15  공급일자_dt      294645 non-null  datetime64[ns] \n",
      " 16  월            294645 non-null  int32          \n",
      " 17  요일           294645 non-null  object         \n",
      " 18  주말/주중        294645 non-null  object         \n",
      " 19  주소           294645 non-null  object         \n",
      " 20  성별           294642 non-null  object         \n",
      " 21  연령           294626 non-null  float64        \n",
      " 22  배송서비스신청여부    294645 non-null  object         \n",
      " 23  모바일알람여부      294645 non-null  object         \n",
      " 24  Gold_member  294645 non-null  object         \n",
      " 25  연령대          294626 non-null  object         \n",
      " 26  Rencency     294645 non-null  timedelta64[ns]\n",
      " 27  count        294645 non-null  int64          \n",
      " 28  R            294645 non-null  int64          \n",
      " 29  F            294645 non-null  int64          \n",
      " 30  Score        294645 non-null  float64        \n",
      " 31  고객등급         294645 non-null  object         \n",
      "dtypes: datetime64[ns](2), float64(3), int32(2), int64(5), object(19), timedelta64[ns](1)\n",
      "memory usage: 69.7+ MB\n"
     ]
    }
   ],
   "source": [
    "df.info()"
   ]
  },
  {
   "cell_type": "code",
   "execution_count": 173,
   "id": "5aef97d4-1aac-466c-9de6-8a46ae06fee9",
   "metadata": {},
   "outputs": [],
   "source": [
    "df_month3 = df.loc[df['월'] == 3]\n",
    "df_month4 = df.loc[df['월'] == 4]\n",
    "df_month5 = df.loc[df['월'] == 5]\n",
    "df_month6 = df.loc[df['월'] == 6]\n",
    "df_month7 = df.loc[df['월'] == 7]\n",
    "df_month8 = df.loc[df['월'] == 8]\n",
    "df_month9 = df.loc[df['월'] == 9]"
   ]
  },
  {
   "cell_type": "code",
   "execution_count": 133,
   "id": "a97326c5-0762-4af0-b92a-9346592840e0",
   "metadata": {},
   "outputs": [
    {
     "data": {
      "text/plain": [
       "array(['과일', '떡', '뿌리채소', '알', '절임/장아찌', '밀가공', '생활용품', '중량(정육)', '밑반찬',\n",
       "       '잎/줄기채소', '생물수산', '가루', '건어물', '수산가공', '두부/유부', '세제/세안', '소',\n",
       "       '육가공', '감자', '양념채소', '견과', '차', '쌈채소류', '버섯', '콩나물', '해조',\n",
       "       '유색미/발아미', '과일채소', '꿀', '열매채소', '음료', '돼지', '기름/식초', '장',\n",
       "       '말린나물/건재', '냉동수산', '빵', '고구마', '콩/화본/깨', '어묵/묵', '유제품', '식사대용',\n",
       "       '건강일반', '닭/오리', '멥쌀', '과자', '보리/혼합곡', '소스/기타양념', '소금', '화장품',\n",
       "       '즉석조리', '잼/병조림/기타', '홍삼/녹용', '전통주', '김치', '찹쌀', '비물품', '손질한채소',\n",
       "       '식기/편백', '과실주', '김장채소', '섬유', '도서', '축산물'], dtype=object)"
      ]
     },
     "execution_count": 133,
     "metadata": {},
     "output_type": "execute_result"
    }
   ],
   "source": [
    "df['물품중분류'].unique()"
   ]
  },
  {
   "cell_type": "code",
   "execution_count": 179,
   "id": "5f5d7a31-d755-447a-bdfe-0bf481e72153",
   "metadata": {},
   "outputs": [
    {
     "data": {
      "text/html": [
       "<div>\n",
       "<style scoped>\n",
       "    .dataframe tbody tr th:only-of-type {\n",
       "        vertical-align: middle;\n",
       "    }\n",
       "\n",
       "    .dataframe tbody tr th {\n",
       "        vertical-align: top;\n",
       "    }\n",
       "\n",
       "    .dataframe thead th {\n",
       "        text-align: right;\n",
       "    }\n",
       "</style>\n",
       "<table border=\"1\" class=\"dataframe\">\n",
       "  <thead>\n",
       "    <tr style=\"text-align: right;\">\n",
       "      <th></th>\n",
       "      <th>물품중분류</th>\n",
       "      <th>3월_구매금액</th>\n",
       "    </tr>\n",
       "  </thead>\n",
       "  <tbody>\n",
       "    <tr>\n",
       "      <th>0</th>\n",
       "      <td>알</td>\n",
       "      <td>18427158</td>\n",
       "    </tr>\n",
       "    <tr>\n",
       "      <th>1</th>\n",
       "      <td>과일</td>\n",
       "      <td>16128356</td>\n",
       "    </tr>\n",
       "    <tr>\n",
       "      <th>2</th>\n",
       "      <td>중량(정육)</td>\n",
       "      <td>14306690</td>\n",
       "    </tr>\n",
       "    <tr>\n",
       "      <th>3</th>\n",
       "      <td>소</td>\n",
       "      <td>14148107</td>\n",
       "    </tr>\n",
       "    <tr>\n",
       "      <th>4</th>\n",
       "      <td>육가공</td>\n",
       "      <td>13164972</td>\n",
       "    </tr>\n",
       "    <tr>\n",
       "      <th>5</th>\n",
       "      <td>잎/줄기채소</td>\n",
       "      <td>11983164</td>\n",
       "    </tr>\n",
       "    <tr>\n",
       "      <th>6</th>\n",
       "      <td>돼지</td>\n",
       "      <td>10930876</td>\n",
       "    </tr>\n",
       "    <tr>\n",
       "      <th>7</th>\n",
       "      <td>음료</td>\n",
       "      <td>10399450</td>\n",
       "    </tr>\n",
       "    <tr>\n",
       "      <th>8</th>\n",
       "      <td>두부/유부</td>\n",
       "      <td>9929994</td>\n",
       "    </tr>\n",
       "    <tr>\n",
       "      <th>9</th>\n",
       "      <td>냉동수산</td>\n",
       "      <td>9170204</td>\n",
       "    </tr>\n",
       "  </tbody>\n",
       "</table>\n",
       "</div>"
      ],
      "text/plain": [
       "    물품중분류   3월_구매금액\n",
       "0       알  18427158\n",
       "1      과일  16128356\n",
       "2  중량(정육)  14306690\n",
       "3       소  14148107\n",
       "4     육가공  13164972\n",
       "5  잎/줄기채소  11983164\n",
       "6      돼지  10930876\n",
       "7      음료  10399450\n",
       "8   두부/유부   9929994\n",
       "9    냉동수산   9170204"
      ]
     },
     "execution_count": 179,
     "metadata": {},
     "output_type": "execute_result"
    }
   ],
   "source": [
    "p_month3 = df_month3.pivot_table(index='물품중분류' , values='구매금액' , aggfunc='sum').sort_values(by='구매금액',ascending=False).head(10).reset_index()\n",
    "p_month3 = p_month3.rename(columns={'구매금액': '3월_구매금액'})\n",
    "p_month3"
   ]
  },
  {
   "cell_type": "code",
   "execution_count": 163,
   "id": "b9a69343-2ecd-4561-b4f7-9f67b97998ee",
   "metadata": {},
   "outputs": [
    {
     "data": {
      "text/html": [
       "<div>\n",
       "<style scoped>\n",
       "    .dataframe tbody tr th:only-of-type {\n",
       "        vertical-align: middle;\n",
       "    }\n",
       "\n",
       "    .dataframe tbody tr th {\n",
       "        vertical-align: top;\n",
       "    }\n",
       "\n",
       "    .dataframe thead th {\n",
       "        text-align: right;\n",
       "    }\n",
       "</style>\n",
       "<table border=\"1\" class=\"dataframe\">\n",
       "  <thead>\n",
       "    <tr style=\"text-align: right;\">\n",
       "      <th></th>\n",
       "      <th>물품중분류</th>\n",
       "      <th>4월_구매금액</th>\n",
       "    </tr>\n",
       "  </thead>\n",
       "  <tbody>\n",
       "    <tr>\n",
       "      <th>0</th>\n",
       "      <td>알</td>\n",
       "      <td>18550971</td>\n",
       "    </tr>\n",
       "    <tr>\n",
       "      <th>1</th>\n",
       "      <td>소</td>\n",
       "      <td>14954844</td>\n",
       "    </tr>\n",
       "    <tr>\n",
       "      <th>2</th>\n",
       "      <td>중량(정육)</td>\n",
       "      <td>14826489</td>\n",
       "    </tr>\n",
       "    <tr>\n",
       "      <th>3</th>\n",
       "      <td>잎/줄기채소</td>\n",
       "      <td>14487670</td>\n",
       "    </tr>\n",
       "    <tr>\n",
       "      <th>4</th>\n",
       "      <td>육가공</td>\n",
       "      <td>12321438</td>\n",
       "    </tr>\n",
       "    <tr>\n",
       "      <th>5</th>\n",
       "      <td>과일</td>\n",
       "      <td>11284604</td>\n",
       "    </tr>\n",
       "    <tr>\n",
       "      <th>6</th>\n",
       "      <td>음료</td>\n",
       "      <td>11050075</td>\n",
       "    </tr>\n",
       "    <tr>\n",
       "      <th>7</th>\n",
       "      <td>건강일반</td>\n",
       "      <td>9883095</td>\n",
       "    </tr>\n",
       "    <tr>\n",
       "      <th>8</th>\n",
       "      <td>멥쌀</td>\n",
       "      <td>9730757</td>\n",
       "    </tr>\n",
       "    <tr>\n",
       "      <th>9</th>\n",
       "      <td>두부/유부</td>\n",
       "      <td>9395764</td>\n",
       "    </tr>\n",
       "  </tbody>\n",
       "</table>\n",
       "</div>"
      ],
      "text/plain": [
       "    물품중분류   4월_구매금액\n",
       "0       알  18550971\n",
       "1       소  14954844\n",
       "2  중량(정육)  14826489\n",
       "3  잎/줄기채소  14487670\n",
       "4     육가공  12321438\n",
       "5      과일  11284604\n",
       "6      음료  11050075\n",
       "7    건강일반   9883095\n",
       "8      멥쌀   9730757\n",
       "9   두부/유부   9395764"
      ]
     },
     "execution_count": 163,
     "metadata": {},
     "output_type": "execute_result"
    }
   ],
   "source": [
    "p_month4 = df_month4.pivot_table(index='물품중분류' , values='구매금액' , aggfunc='sum').sort_values(by='구매금액',ascending=False).head(10).reset_index()\n",
    "p_month4 = p_month4.rename(columns={'구매금액': '4월_구매금액'})\n",
    "p_month4"
   ]
  },
  {
   "cell_type": "code",
   "execution_count": 164,
   "id": "9e7be538-cf12-4bf8-b814-d188be9e4c3d",
   "metadata": {},
   "outputs": [
    {
     "data": {
      "text/html": [
       "<div>\n",
       "<style scoped>\n",
       "    .dataframe tbody tr th:only-of-type {\n",
       "        vertical-align: middle;\n",
       "    }\n",
       "\n",
       "    .dataframe tbody tr th {\n",
       "        vertical-align: top;\n",
       "    }\n",
       "\n",
       "    .dataframe thead th {\n",
       "        text-align: right;\n",
       "    }\n",
       "</style>\n",
       "<table border=\"1\" class=\"dataframe\">\n",
       "  <thead>\n",
       "    <tr style=\"text-align: right;\">\n",
       "      <th></th>\n",
       "      <th>물품중분류</th>\n",
       "      <th>5월_구매금액</th>\n",
       "    </tr>\n",
       "  </thead>\n",
       "  <tbody>\n",
       "    <tr>\n",
       "      <th>0</th>\n",
       "      <td>알</td>\n",
       "      <td>18303115</td>\n",
       "    </tr>\n",
       "    <tr>\n",
       "      <th>1</th>\n",
       "      <td>소</td>\n",
       "      <td>16525813</td>\n",
       "    </tr>\n",
       "    <tr>\n",
       "      <th>2</th>\n",
       "      <td>중량(정육)</td>\n",
       "      <td>14795307</td>\n",
       "    </tr>\n",
       "    <tr>\n",
       "      <th>3</th>\n",
       "      <td>음료</td>\n",
       "      <td>13719321</td>\n",
       "    </tr>\n",
       "    <tr>\n",
       "      <th>4</th>\n",
       "      <td>육가공</td>\n",
       "      <td>12624210</td>\n",
       "    </tr>\n",
       "    <tr>\n",
       "      <th>5</th>\n",
       "      <td>과일채소</td>\n",
       "      <td>12421526</td>\n",
       "    </tr>\n",
       "    <tr>\n",
       "      <th>6</th>\n",
       "      <td>잎/줄기채소</td>\n",
       "      <td>11989363</td>\n",
       "    </tr>\n",
       "    <tr>\n",
       "      <th>7</th>\n",
       "      <td>멥쌀</td>\n",
       "      <td>9912065</td>\n",
       "    </tr>\n",
       "    <tr>\n",
       "      <th>8</th>\n",
       "      <td>돼지</td>\n",
       "      <td>9880290</td>\n",
       "    </tr>\n",
       "    <tr>\n",
       "      <th>9</th>\n",
       "      <td>과자</td>\n",
       "      <td>9790314</td>\n",
       "    </tr>\n",
       "  </tbody>\n",
       "</table>\n",
       "</div>"
      ],
      "text/plain": [
       "    물품중분류   5월_구매금액\n",
       "0       알  18303115\n",
       "1       소  16525813\n",
       "2  중량(정육)  14795307\n",
       "3      음료  13719321\n",
       "4     육가공  12624210\n",
       "5    과일채소  12421526\n",
       "6  잎/줄기채소  11989363\n",
       "7      멥쌀   9912065\n",
       "8      돼지   9880290\n",
       "9      과자   9790314"
      ]
     },
     "execution_count": 164,
     "metadata": {},
     "output_type": "execute_result"
    }
   ],
   "source": [
    "p_month5 = df_month5.pivot_table(index='물품중분류' , values='구매금액' , aggfunc='sum').sort_values(by='구매금액',ascending=False).head(10).reset_index()\n",
    "p_month5 = p_month5.rename(columns={'구매금액': '5월_구매금액'})\n",
    "p_month5"
   ]
  },
  {
   "cell_type": "code",
   "execution_count": 170,
   "id": "105455a4-25f5-40dd-b9f4-e0350db0f865",
   "metadata": {},
   "outputs": [
    {
     "data": {
      "text/html": [
       "<div>\n",
       "<style scoped>\n",
       "    .dataframe tbody tr th:only-of-type {\n",
       "        vertical-align: middle;\n",
       "    }\n",
       "\n",
       "    .dataframe tbody tr th {\n",
       "        vertical-align: top;\n",
       "    }\n",
       "\n",
       "    .dataframe thead th {\n",
       "        text-align: right;\n",
       "    }\n",
       "</style>\n",
       "<table border=\"1\" class=\"dataframe\">\n",
       "  <thead>\n",
       "    <tr style=\"text-align: right;\">\n",
       "      <th></th>\n",
       "      <th>물품중분류</th>\n",
       "      <th>6월_구매금액</th>\n",
       "    </tr>\n",
       "  </thead>\n",
       "  <tbody>\n",
       "    <tr>\n",
       "      <th>0</th>\n",
       "      <td>알</td>\n",
       "      <td>18160798</td>\n",
       "    </tr>\n",
       "    <tr>\n",
       "      <th>1</th>\n",
       "      <td>과일채소</td>\n",
       "      <td>13894416</td>\n",
       "    </tr>\n",
       "    <tr>\n",
       "      <th>2</th>\n",
       "      <td>음료</td>\n",
       "      <td>13712462</td>\n",
       "    </tr>\n",
       "    <tr>\n",
       "      <th>3</th>\n",
       "      <td>과일</td>\n",
       "      <td>13647945</td>\n",
       "    </tr>\n",
       "    <tr>\n",
       "      <th>4</th>\n",
       "      <td>소</td>\n",
       "      <td>13304995</td>\n",
       "    </tr>\n",
       "    <tr>\n",
       "      <th>5</th>\n",
       "      <td>중량(정육)</td>\n",
       "      <td>13016025</td>\n",
       "    </tr>\n",
       "    <tr>\n",
       "      <th>6</th>\n",
       "      <td>육가공</td>\n",
       "      <td>11544815</td>\n",
       "    </tr>\n",
       "    <tr>\n",
       "      <th>7</th>\n",
       "      <td>유제품</td>\n",
       "      <td>9925002</td>\n",
       "    </tr>\n",
       "    <tr>\n",
       "      <th>8</th>\n",
       "      <td>건강일반</td>\n",
       "      <td>9812606</td>\n",
       "    </tr>\n",
       "    <tr>\n",
       "      <th>9</th>\n",
       "      <td>잎/줄기채소</td>\n",
       "      <td>9710414</td>\n",
       "    </tr>\n",
       "  </tbody>\n",
       "</table>\n",
       "</div>"
      ],
      "text/plain": [
       "    물품중분류   6월_구매금액\n",
       "0       알  18160798\n",
       "1    과일채소  13894416\n",
       "2      음료  13712462\n",
       "3      과일  13647945\n",
       "4       소  13304995\n",
       "5  중량(정육)  13016025\n",
       "6     육가공  11544815\n",
       "7     유제품   9925002\n",
       "8    건강일반   9812606\n",
       "9  잎/줄기채소   9710414"
      ]
     },
     "execution_count": 170,
     "metadata": {},
     "output_type": "execute_result"
    }
   ],
   "source": [
    "p_month6 = df_month6.pivot_table(index='물품중분류' , values='구매금액' , aggfunc='sum').sort_values(by='구매금액',ascending=False).head(10).reset_index()\n",
    "p_month6 = p_month6.rename(columns={'구매금액': '6월_구매금액'})\n",
    "p_month6"
   ]
  },
  {
   "cell_type": "code",
   "execution_count": 166,
   "id": "81d2eae1-f345-4450-aae0-a8f5f1f4d7ea",
   "metadata": {},
   "outputs": [
    {
     "data": {
      "text/html": [
       "<div>\n",
       "<style scoped>\n",
       "    .dataframe tbody tr th:only-of-type {\n",
       "        vertical-align: middle;\n",
       "    }\n",
       "\n",
       "    .dataframe tbody tr th {\n",
       "        vertical-align: top;\n",
       "    }\n",
       "\n",
       "    .dataframe thead th {\n",
       "        text-align: right;\n",
       "    }\n",
       "</style>\n",
       "<table border=\"1\" class=\"dataframe\">\n",
       "  <thead>\n",
       "    <tr style=\"text-align: right;\">\n",
       "      <th></th>\n",
       "      <th>물품중분류</th>\n",
       "      <th>7월_구매금액</th>\n",
       "    </tr>\n",
       "  </thead>\n",
       "  <tbody>\n",
       "    <tr>\n",
       "      <th>0</th>\n",
       "      <td>음료</td>\n",
       "      <td>20818261</td>\n",
       "    </tr>\n",
       "    <tr>\n",
       "      <th>1</th>\n",
       "      <td>육가공</td>\n",
       "      <td>18094759</td>\n",
       "    </tr>\n",
       "    <tr>\n",
       "      <th>2</th>\n",
       "      <td>알</td>\n",
       "      <td>17397588</td>\n",
       "    </tr>\n",
       "    <tr>\n",
       "      <th>3</th>\n",
       "      <td>홍삼/녹용</td>\n",
       "      <td>16556045</td>\n",
       "    </tr>\n",
       "    <tr>\n",
       "      <th>4</th>\n",
       "      <td>과일</td>\n",
       "      <td>15327794</td>\n",
       "    </tr>\n",
       "    <tr>\n",
       "      <th>5</th>\n",
       "      <td>소</td>\n",
       "      <td>15196250</td>\n",
       "    </tr>\n",
       "    <tr>\n",
       "      <th>6</th>\n",
       "      <td>과일채소</td>\n",
       "      <td>12883118</td>\n",
       "    </tr>\n",
       "    <tr>\n",
       "      <th>7</th>\n",
       "      <td>열매채소</td>\n",
       "      <td>12766589</td>\n",
       "    </tr>\n",
       "    <tr>\n",
       "      <th>8</th>\n",
       "      <td>밀가공</td>\n",
       "      <td>12460892</td>\n",
       "    </tr>\n",
       "    <tr>\n",
       "      <th>9</th>\n",
       "      <td>중량(정육)</td>\n",
       "      <td>11248916</td>\n",
       "    </tr>\n",
       "  </tbody>\n",
       "</table>\n",
       "</div>"
      ],
      "text/plain": [
       "    물품중분류   7월_구매금액\n",
       "0      음료  20818261\n",
       "1     육가공  18094759\n",
       "2       알  17397588\n",
       "3   홍삼/녹용  16556045\n",
       "4      과일  15327794\n",
       "5       소  15196250\n",
       "6    과일채소  12883118\n",
       "7    열매채소  12766589\n",
       "8     밀가공  12460892\n",
       "9  중량(정육)  11248916"
      ]
     },
     "execution_count": 166,
     "metadata": {},
     "output_type": "execute_result"
    }
   ],
   "source": [
    "p_month7 = df_month7.pivot_table(index='물품중분류' , values='구매금액' , aggfunc='sum').sort_values(by='구매금액',ascending=False).head(10).reset_index()\n",
    "p_month7 = p_month7.rename(columns={'구매금액': '7월_구매금액'})\n",
    "p_month7"
   ]
  },
  {
   "cell_type": "code",
   "execution_count": 169,
   "id": "a995a551-be98-4d95-b97e-c785675b58dc",
   "metadata": {},
   "outputs": [
    {
     "data": {
      "text/html": [
       "<div>\n",
       "<style scoped>\n",
       "    .dataframe tbody tr th:only-of-type {\n",
       "        vertical-align: middle;\n",
       "    }\n",
       "\n",
       "    .dataframe tbody tr th {\n",
       "        vertical-align: top;\n",
       "    }\n",
       "\n",
       "    .dataframe thead th {\n",
       "        text-align: right;\n",
       "    }\n",
       "</style>\n",
       "<table border=\"1\" class=\"dataframe\">\n",
       "  <thead>\n",
       "    <tr style=\"text-align: right;\">\n",
       "      <th></th>\n",
       "      <th>물품중분류</th>\n",
       "      <th>8월_구매금액</th>\n",
       "    </tr>\n",
       "  </thead>\n",
       "  <tbody>\n",
       "    <tr>\n",
       "      <th>0</th>\n",
       "      <td>음료</td>\n",
       "      <td>18444916</td>\n",
       "    </tr>\n",
       "    <tr>\n",
       "      <th>1</th>\n",
       "      <td>과일</td>\n",
       "      <td>18060671</td>\n",
       "    </tr>\n",
       "    <tr>\n",
       "      <th>2</th>\n",
       "      <td>알</td>\n",
       "      <td>17483708</td>\n",
       "    </tr>\n",
       "    <tr>\n",
       "      <th>3</th>\n",
       "      <td>육가공</td>\n",
       "      <td>17380911</td>\n",
       "    </tr>\n",
       "    <tr>\n",
       "      <th>4</th>\n",
       "      <td>소</td>\n",
       "      <td>15337528</td>\n",
       "    </tr>\n",
       "    <tr>\n",
       "      <th>5</th>\n",
       "      <td>중량(정육)</td>\n",
       "      <td>12729036</td>\n",
       "    </tr>\n",
       "    <tr>\n",
       "      <th>6</th>\n",
       "      <td>냉동수산</td>\n",
       "      <td>12146746</td>\n",
       "    </tr>\n",
       "    <tr>\n",
       "      <th>7</th>\n",
       "      <td>멥쌀</td>\n",
       "      <td>11314937</td>\n",
       "    </tr>\n",
       "    <tr>\n",
       "      <th>8</th>\n",
       "      <td>열매채소</td>\n",
       "      <td>10795501</td>\n",
       "    </tr>\n",
       "    <tr>\n",
       "      <th>9</th>\n",
       "      <td>밀가공</td>\n",
       "      <td>10631484</td>\n",
       "    </tr>\n",
       "  </tbody>\n",
       "</table>\n",
       "</div>"
      ],
      "text/plain": [
       "    물품중분류   8월_구매금액\n",
       "0      음료  18444916\n",
       "1      과일  18060671\n",
       "2       알  17483708\n",
       "3     육가공  17380911\n",
       "4       소  15337528\n",
       "5  중량(정육)  12729036\n",
       "6    냉동수산  12146746\n",
       "7      멥쌀  11314937\n",
       "8    열매채소  10795501\n",
       "9     밀가공  10631484"
      ]
     },
     "execution_count": 169,
     "metadata": {},
     "output_type": "execute_result"
    }
   ],
   "source": [
    "p_month8 = df_month8.pivot_table(index='물품중분류' , values='구매금액' , aggfunc='sum').sort_values(by='구매금액',ascending=False).head(10).reset_index()\n",
    "p_month8 = p_month8.rename(columns={'구매금액': '8월_구매금액'})\n",
    "p_month8"
   ]
  },
  {
   "cell_type": "code",
   "execution_count": 174,
   "id": "317d4769-2231-464d-b862-0beb29b138e1",
   "metadata": {},
   "outputs": [
    {
     "data": {
      "text/html": [
       "<div>\n",
       "<style scoped>\n",
       "    .dataframe tbody tr th:only-of-type {\n",
       "        vertical-align: middle;\n",
       "    }\n",
       "\n",
       "    .dataframe tbody tr th {\n",
       "        vertical-align: top;\n",
       "    }\n",
       "\n",
       "    .dataframe thead th {\n",
       "        text-align: right;\n",
       "    }\n",
       "</style>\n",
       "<table border=\"1\" class=\"dataframe\">\n",
       "  <thead>\n",
       "    <tr style=\"text-align: right;\">\n",
       "      <th></th>\n",
       "      <th>물품중분류</th>\n",
       "      <th>9월_구매금액</th>\n",
       "    </tr>\n",
       "  </thead>\n",
       "  <tbody>\n",
       "    <tr>\n",
       "      <th>0</th>\n",
       "      <td>과일</td>\n",
       "      <td>26993496</td>\n",
       "    </tr>\n",
       "    <tr>\n",
       "      <th>1</th>\n",
       "      <td>소</td>\n",
       "      <td>18392950</td>\n",
       "    </tr>\n",
       "    <tr>\n",
       "      <th>2</th>\n",
       "      <td>알</td>\n",
       "      <td>17435942</td>\n",
       "    </tr>\n",
       "    <tr>\n",
       "      <th>3</th>\n",
       "      <td>중량(정육)</td>\n",
       "      <td>13833507</td>\n",
       "    </tr>\n",
       "    <tr>\n",
       "      <th>4</th>\n",
       "      <td>음료</td>\n",
       "      <td>13273174</td>\n",
       "    </tr>\n",
       "    <tr>\n",
       "      <th>5</th>\n",
       "      <td>멥쌀</td>\n",
       "      <td>12220066</td>\n",
       "    </tr>\n",
       "    <tr>\n",
       "      <th>6</th>\n",
       "      <td>냉동수산</td>\n",
       "      <td>11569173</td>\n",
       "    </tr>\n",
       "    <tr>\n",
       "      <th>7</th>\n",
       "      <td>육가공</td>\n",
       "      <td>11027264</td>\n",
       "    </tr>\n",
       "    <tr>\n",
       "      <th>8</th>\n",
       "      <td>건강일반</td>\n",
       "      <td>10448099</td>\n",
       "    </tr>\n",
       "    <tr>\n",
       "      <th>9</th>\n",
       "      <td>과자</td>\n",
       "      <td>10245730</td>\n",
       "    </tr>\n",
       "  </tbody>\n",
       "</table>\n",
       "</div>"
      ],
      "text/plain": [
       "    물품중분류   9월_구매금액\n",
       "0      과일  26993496\n",
       "1       소  18392950\n",
       "2       알  17435942\n",
       "3  중량(정육)  13833507\n",
       "4      음료  13273174\n",
       "5      멥쌀  12220066\n",
       "6    냉동수산  11569173\n",
       "7     육가공  11027264\n",
       "8    건강일반  10448099\n",
       "9      과자  10245730"
      ]
     },
     "execution_count": 174,
     "metadata": {},
     "output_type": "execute_result"
    }
   ],
   "source": [
    "p_month9 = df_month9.pivot_table(index='물품중분류' , values='구매금액' , aggfunc='sum').sort_values(by='구매금액',ascending=False).head(10).reset_index()\n",
    "p_month9 = p_month9.rename(columns={'구매금액': '9월_구매금액'})\n",
    "p_month9"
   ]
  },
  {
   "cell_type": "code",
   "execution_count": 152,
   "id": "cab63d6b-2df7-4588-bd7b-b39a4c1ebc11",
   "metadata": {},
   "outputs": [
    {
     "data": {
      "text/html": [
       "<div>\n",
       "<style scoped>\n",
       "    .dataframe tbody tr th:only-of-type {\n",
       "        vertical-align: middle;\n",
       "    }\n",
       "\n",
       "    .dataframe tbody tr th {\n",
       "        vertical-align: top;\n",
       "    }\n",
       "\n",
       "    .dataframe thead th {\n",
       "        text-align: right;\n",
       "    }\n",
       "</style>\n",
       "<table border=\"1\" class=\"dataframe\">\n",
       "  <thead>\n",
       "    <tr style=\"text-align: right;\">\n",
       "      <th></th>\n",
       "      <th>구매금액</th>\n",
       "    </tr>\n",
       "    <tr>\n",
       "      <th>물품중분류</th>\n",
       "      <th></th>\n",
       "    </tr>\n",
       "  </thead>\n",
       "  <tbody>\n",
       "    <tr>\n",
       "      <th>알</th>\n",
       "      <td>178485837</td>\n",
       "    </tr>\n",
       "    <tr>\n",
       "      <th>소</th>\n",
       "      <td>162088918</td>\n",
       "    </tr>\n",
       "    <tr>\n",
       "      <th>과일</th>\n",
       "      <td>160820993</td>\n",
       "    </tr>\n",
       "    <tr>\n",
       "      <th>육가공</th>\n",
       "      <td>133856851</td>\n",
       "    </tr>\n",
       "    <tr>\n",
       "      <th>중량(정육)</th>\n",
       "      <td>132482985</td>\n",
       "    </tr>\n",
       "    <tr>\n",
       "      <th>음료</th>\n",
       "      <td>131630303</td>\n",
       "    </tr>\n",
       "    <tr>\n",
       "      <th>멥쌀</th>\n",
       "      <td>100745210</td>\n",
       "    </tr>\n",
       "    <tr>\n",
       "      <th>냉동수산</th>\n",
       "      <td>99585190</td>\n",
       "    </tr>\n",
       "    <tr>\n",
       "      <th>건강일반</th>\n",
       "      <td>99118619</td>\n",
       "    </tr>\n",
       "    <tr>\n",
       "      <th>두부/유부</th>\n",
       "      <td>92724651</td>\n",
       "    </tr>\n",
       "  </tbody>\n",
       "</table>\n",
       "</div>"
      ],
      "text/plain": [
       "             구매금액\n",
       "물품중분류            \n",
       "알       178485837\n",
       "소       162088918\n",
       "과일      160820993\n",
       "육가공     133856851\n",
       "중량(정육)  132482985\n",
       "음료      131630303\n",
       "멥쌀      100745210\n",
       "냉동수산     99585190\n",
       "건강일반     99118619\n",
       "두부/유부    92724651"
      ]
     },
     "execution_count": 152,
     "metadata": {},
     "output_type": "execute_result"
    }
   ],
   "source": [
    "df.pivot_table(index='물품중분류' , values='구매금액' , aggfunc='sum').sort_values(by='구매금액',ascending=False).head(10)"
   ]
  },
  {
   "cell_type": "code",
   "execution_count": 178,
   "id": "0f05370a-9d0c-4096-893f-cd85241af2ee",
   "metadata": {},
   "outputs": [
    {
     "data": {
      "text/html": [
       "<div>\n",
       "<style scoped>\n",
       "    .dataframe tbody tr th:only-of-type {\n",
       "        vertical-align: middle;\n",
       "    }\n",
       "\n",
       "    .dataframe tbody tr th {\n",
       "        vertical-align: top;\n",
       "    }\n",
       "\n",
       "    .dataframe thead th {\n",
       "        text-align: right;\n",
       "    }\n",
       "</style>\n",
       "<table border=\"1\" class=\"dataframe\">\n",
       "  <thead>\n",
       "    <tr style=\"text-align: right;\">\n",
       "      <th></th>\n",
       "      <th>물품중분류</th>\n",
       "      <th>2월_구매금액</th>\n",
       "    </tr>\n",
       "  </thead>\n",
       "  <tbody>\n",
       "    <tr>\n",
       "      <th>0</th>\n",
       "      <td>소</td>\n",
       "      <td>23621022</td>\n",
       "    </tr>\n",
       "    <tr>\n",
       "      <th>1</th>\n",
       "      <td>알</td>\n",
       "      <td>15577586</td>\n",
       "    </tr>\n",
       "    <tr>\n",
       "      <th>2</th>\n",
       "      <td>건강일반</td>\n",
       "      <td>14974725</td>\n",
       "    </tr>\n",
       "    <tr>\n",
       "      <th>3</th>\n",
       "      <td>과일</td>\n",
       "      <td>13836266</td>\n",
       "    </tr>\n",
       "    <tr>\n",
       "      <th>4</th>\n",
       "      <td>육가공</td>\n",
       "      <td>12425233</td>\n",
       "    </tr>\n",
       "    <tr>\n",
       "      <th>5</th>\n",
       "      <td>냉동수산</td>\n",
       "      <td>11231303</td>\n",
       "    </tr>\n",
       "    <tr>\n",
       "      <th>6</th>\n",
       "      <td>중량(정육)</td>\n",
       "      <td>11176390</td>\n",
       "    </tr>\n",
       "    <tr>\n",
       "      <th>7</th>\n",
       "      <td>과자</td>\n",
       "      <td>10670632</td>\n",
       "    </tr>\n",
       "    <tr>\n",
       "      <th>8</th>\n",
       "      <td>밀가공</td>\n",
       "      <td>9696918</td>\n",
       "    </tr>\n",
       "    <tr>\n",
       "      <th>9</th>\n",
       "      <td>멥쌀</td>\n",
       "      <td>9530767</td>\n",
       "    </tr>\n",
       "  </tbody>\n",
       "</table>\n",
       "</div>"
      ],
      "text/plain": [
       "    물품중분류   2월_구매금액\n",
       "0       소  23621022\n",
       "1       알  15577586\n",
       "2    건강일반  14974725\n",
       "3      과일  13836266\n",
       "4     육가공  12425233\n",
       "5    냉동수산  11231303\n",
       "6  중량(정육)  11176390\n",
       "7      과자  10670632\n",
       "8     밀가공   9696918\n",
       "9      멥쌀   9530767"
      ]
     },
     "execution_count": 178,
     "metadata": {},
     "output_type": "execute_result"
    }
   ],
   "source": [
    "p_month2 = df.loc[df['월'] == 2].pivot_table(index='물품중분류' , values='구매금액' , aggfunc='sum').sort_values(by='구매금액',ascending=False).head(10).reset_index()\n",
    "p_month2 = p_month2.rename(columns={'구매금액': '2월_구매금액'})\n",
    "p_month2"
   ]
  },
  {
   "cell_type": "code",
   "execution_count": 190,
   "id": "d928b65c-0431-46df-8171-95931e4d2f09",
   "metadata": {},
   "outputs": [],
   "source": [
    "df_merge = p_month4.merge(p_month6, on='물품중분류', how='outer')"
   ]
  },
  {
   "cell_type": "code",
   "execution_count": 191,
   "id": "9c7a6910-e7fd-49de-ac1c-64d0ebdd5d99",
   "metadata": {},
   "outputs": [],
   "source": [
    "df_merge2 = df_merge.merge(p_month7, on='물품중분류', how='outer')"
   ]
  },
  {
   "cell_type": "code",
   "execution_count": 208,
   "id": "c4982379-4de7-479c-9bbb-78804646643b",
   "metadata": {},
   "outputs": [],
   "source": [
    "df_merge_4679 = df_merge2.merge(p_month9, on='물품중분류', how='outer')"
   ]
  },
  {
   "cell_type": "code",
   "execution_count": 210,
   "id": "bf1e2b71-fe77-4854-bfc9-f81b2878d940",
   "metadata": {},
   "outputs": [
    {
     "data": {
      "text/html": [
       "<div>\n",
       "<style scoped>\n",
       "    .dataframe tbody tr th:only-of-type {\n",
       "        vertical-align: middle;\n",
       "    }\n",
       "\n",
       "    .dataframe tbody tr th {\n",
       "        vertical-align: top;\n",
       "    }\n",
       "\n",
       "    .dataframe thead th {\n",
       "        text-align: right;\n",
       "    }\n",
       "</style>\n",
       "<table border=\"1\" class=\"dataframe\">\n",
       "  <thead>\n",
       "    <tr style=\"text-align: right;\">\n",
       "      <th></th>\n",
       "      <th>물품중분류</th>\n",
       "      <th>4월_구매금액</th>\n",
       "      <th>6월_구매금액</th>\n",
       "      <th>7월_구매금액</th>\n",
       "      <th>9월_구매금액</th>\n",
       "    </tr>\n",
       "  </thead>\n",
       "  <tbody>\n",
       "    <tr>\n",
       "      <th>0</th>\n",
       "      <td>알</td>\n",
       "      <td>18550971.0</td>\n",
       "      <td>18160798.0</td>\n",
       "      <td>17397588.0</td>\n",
       "      <td>17435942.0</td>\n",
       "    </tr>\n",
       "    <tr>\n",
       "      <th>1</th>\n",
       "      <td>소</td>\n",
       "      <td>14954844.0</td>\n",
       "      <td>13304995.0</td>\n",
       "      <td>15196250.0</td>\n",
       "      <td>18392950.0</td>\n",
       "    </tr>\n",
       "    <tr>\n",
       "      <th>2</th>\n",
       "      <td>중량(정육)</td>\n",
       "      <td>14826489.0</td>\n",
       "      <td>13016025.0</td>\n",
       "      <td>11248916.0</td>\n",
       "      <td>13833507.0</td>\n",
       "    </tr>\n",
       "    <tr>\n",
       "      <th>3</th>\n",
       "      <td>잎/줄기채소</td>\n",
       "      <td>14487670.0</td>\n",
       "      <td>9710414.0</td>\n",
       "      <td>NaN</td>\n",
       "      <td>NaN</td>\n",
       "    </tr>\n",
       "    <tr>\n",
       "      <th>4</th>\n",
       "      <td>육가공</td>\n",
       "      <td>12321438.0</td>\n",
       "      <td>11544815.0</td>\n",
       "      <td>18094759.0</td>\n",
       "      <td>11027264.0</td>\n",
       "    </tr>\n",
       "    <tr>\n",
       "      <th>5</th>\n",
       "      <td>과일</td>\n",
       "      <td>11284604.0</td>\n",
       "      <td>13647945.0</td>\n",
       "      <td>15327794.0</td>\n",
       "      <td>26993496.0</td>\n",
       "    </tr>\n",
       "    <tr>\n",
       "      <th>6</th>\n",
       "      <td>음료</td>\n",
       "      <td>11050075.0</td>\n",
       "      <td>13712462.0</td>\n",
       "      <td>20818261.0</td>\n",
       "      <td>13273174.0</td>\n",
       "    </tr>\n",
       "    <tr>\n",
       "      <th>7</th>\n",
       "      <td>건강일반</td>\n",
       "      <td>9883095.0</td>\n",
       "      <td>9812606.0</td>\n",
       "      <td>NaN</td>\n",
       "      <td>10448099.0</td>\n",
       "    </tr>\n",
       "    <tr>\n",
       "      <th>8</th>\n",
       "      <td>멥쌀</td>\n",
       "      <td>9730757.0</td>\n",
       "      <td>NaN</td>\n",
       "      <td>NaN</td>\n",
       "      <td>12220066.0</td>\n",
       "    </tr>\n",
       "    <tr>\n",
       "      <th>9</th>\n",
       "      <td>두부/유부</td>\n",
       "      <td>9395764.0</td>\n",
       "      <td>NaN</td>\n",
       "      <td>NaN</td>\n",
       "      <td>NaN</td>\n",
       "    </tr>\n",
       "    <tr>\n",
       "      <th>10</th>\n",
       "      <td>과일채소</td>\n",
       "      <td>NaN</td>\n",
       "      <td>13894416.0</td>\n",
       "      <td>12883118.0</td>\n",
       "      <td>NaN</td>\n",
       "    </tr>\n",
       "    <tr>\n",
       "      <th>11</th>\n",
       "      <td>유제품</td>\n",
       "      <td>NaN</td>\n",
       "      <td>9925002.0</td>\n",
       "      <td>NaN</td>\n",
       "      <td>NaN</td>\n",
       "    </tr>\n",
       "    <tr>\n",
       "      <th>12</th>\n",
       "      <td>홍삼/녹용</td>\n",
       "      <td>NaN</td>\n",
       "      <td>NaN</td>\n",
       "      <td>16556045.0</td>\n",
       "      <td>NaN</td>\n",
       "    </tr>\n",
       "    <tr>\n",
       "      <th>13</th>\n",
       "      <td>열매채소</td>\n",
       "      <td>NaN</td>\n",
       "      <td>NaN</td>\n",
       "      <td>12766589.0</td>\n",
       "      <td>NaN</td>\n",
       "    </tr>\n",
       "    <tr>\n",
       "      <th>14</th>\n",
       "      <td>밀가공</td>\n",
       "      <td>NaN</td>\n",
       "      <td>NaN</td>\n",
       "      <td>12460892.0</td>\n",
       "      <td>NaN</td>\n",
       "    </tr>\n",
       "    <tr>\n",
       "      <th>15</th>\n",
       "      <td>냉동수산</td>\n",
       "      <td>NaN</td>\n",
       "      <td>NaN</td>\n",
       "      <td>NaN</td>\n",
       "      <td>11569173.0</td>\n",
       "    </tr>\n",
       "    <tr>\n",
       "      <th>16</th>\n",
       "      <td>과자</td>\n",
       "      <td>NaN</td>\n",
       "      <td>NaN</td>\n",
       "      <td>NaN</td>\n",
       "      <td>10245730.0</td>\n",
       "    </tr>\n",
       "  </tbody>\n",
       "</table>\n",
       "</div>"
      ],
      "text/plain": [
       "     물품중분류     4월_구매금액     6월_구매금액     7월_구매금액     9월_구매금액\n",
       "0        알  18550971.0  18160798.0  17397588.0  17435942.0\n",
       "1        소  14954844.0  13304995.0  15196250.0  18392950.0\n",
       "2   중량(정육)  14826489.0  13016025.0  11248916.0  13833507.0\n",
       "3   잎/줄기채소  14487670.0   9710414.0         NaN         NaN\n",
       "4      육가공  12321438.0  11544815.0  18094759.0  11027264.0\n",
       "5       과일  11284604.0  13647945.0  15327794.0  26993496.0\n",
       "6       음료  11050075.0  13712462.0  20818261.0  13273174.0\n",
       "7     건강일반   9883095.0   9812606.0         NaN  10448099.0\n",
       "8       멥쌀   9730757.0         NaN         NaN  12220066.0\n",
       "9    두부/유부   9395764.0         NaN         NaN         NaN\n",
       "10    과일채소         NaN  13894416.0  12883118.0         NaN\n",
       "11     유제품         NaN   9925002.0         NaN         NaN\n",
       "12   홍삼/녹용         NaN         NaN  16556045.0         NaN\n",
       "13    열매채소         NaN         NaN  12766589.0         NaN\n",
       "14     밀가공         NaN         NaN  12460892.0         NaN\n",
       "15    냉동수산         NaN         NaN         NaN  11569173.0\n",
       "16      과자         NaN         NaN         NaN  10245730.0"
      ]
     },
     "execution_count": 210,
     "metadata": {},
     "output_type": "execute_result"
    }
   ],
   "source": [
    "df_merge_4679"
   ]
  },
  {
   "cell_type": "code",
   "execution_count": 212,
   "id": "6e90f1d2-ac8d-4e7d-99d6-d592cc76dffa",
   "metadata": {},
   "outputs": [
    {
     "data": {
      "text/plain": [
       "34731       단행본\n",
       "91613       단행본\n",
       "216935    도서/기타\n",
       "242550      단행본\n",
       "274452      단행본\n",
       "Name: 물품소분류, dtype: object"
      ]
     },
     "execution_count": 212,
     "metadata": {},
     "output_type": "execute_result"
    }
   ],
   "source": [
    "df[df['물품중분류'] == '도서']['물품소분류']"
   ]
  },
  {
   "cell_type": "code",
   "execution_count": null,
   "id": "0cb3989b-f7f6-4073-8176-967541f3ec22",
   "metadata": {},
   "outputs": [],
   "source": []
  }
 ],
 "metadata": {
  "kernelspec": {
   "display_name": "Python 3 (ipykernel)",
   "language": "python",
   "name": "python3"
  },
  "language_info": {
   "codemirror_mode": {
    "name": "ipython",
    "version": 3
   },
   "file_extension": ".py",
   "mimetype": "text/x-python",
   "name": "python",
   "nbconvert_exporter": "python",
   "pygments_lexer": "ipython3",
   "version": "3.11.7"
  }
 },
 "nbformat": 4,
 "nbformat_minor": 5
}
