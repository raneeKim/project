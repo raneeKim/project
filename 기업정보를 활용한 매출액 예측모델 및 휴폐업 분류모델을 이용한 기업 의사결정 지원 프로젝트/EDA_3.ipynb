{
 "cells": [
  {
   "cell_type": "code",
   "execution_count": 1,
   "id": "eb11dacd",
   "metadata": {},
   "outputs": [],
   "source": [
    "import pandas as pd\n",
    "import numpy as np\n",
    "import matplotlib.pyplot as plt\n",
    "import seaborn as sns\n",
    "import plotly.express as px\n",
    "import scipy.stats as stats"
   ]
  },
  {
   "cell_type": "code",
   "execution_count": 118,
   "id": "a9ca459a",
   "metadata": {},
   "outputs": [],
   "source": [
    "path = 'C:/Users/MSI/Desktop/study/Data/기업정보/'\n",
    "df_final = pd.read_csv(path + '이상치처리전_상관관계변수.csv')"
   ]
  },
  {
   "cell_type": "code",
   "execution_count": 119,
   "id": "73e6d8a4",
   "metadata": {},
   "outputs": [],
   "source": [
    "df_del = df_final.drop(columns=['Unnamed: 0','BusinessNum','연차','종업원수','대분류코드','stYear','성장단계','주소'])"
   ]
  },
  {
   "cell_type": "code",
   "execution_count": 120,
   "id": "4d83ee8a",
   "metadata": {},
   "outputs": [
    {
     "data": {
      "text/plain": [
       "Index(['매출액', '영업이익', '당기순이익(손실)', '당좌자산', '매출원가', '매출채권', '매출총이익', '부채총계',\n",
       "       '영업외비용', '유동부채', '유동자산', '이익잉여금', '이자비용', '인건비', '자기자본', '자본총계', '자산총계',\n",
       "       '총자산', '투자자산', '판매비와관리비'],\n",
       "      dtype='object')"
      ]
     },
     "execution_count": 120,
     "metadata": {},
     "output_type": "execute_result"
    }
   ],
   "source": [
    "columns = df_del.columns\n",
    "columns"
   ]
  },
  {
   "cell_type": "markdown",
   "id": "f6a23b84",
   "metadata": {},
   "source": [
    "# 이상치 확인"
   ]
  },
  {
   "cell_type": "code",
   "execution_count": 121,
   "id": "a2beeedf",
   "metadata": {},
   "outputs": [],
   "source": [
    "def find_outliers(df,column) :\n",
    "    Q1 = df[column].quantile(0.25)\n",
    "    Q3 = df[column].quantile(0.75)\n",
    "    IQR = Q3 - Q1\n",
    "    \n",
    "    lower_bound = Q1 - 1.5*IQR\n",
    "    upper_bound = Q3 + 1.5*IQR\n",
    "    \n",
    "    outliers = df[(df[column] < lower_bound) | (df[column] > upper_bound)]\n",
    "    \n",
    "    return outliers"
   ]
  },
  {
   "cell_type": "code",
   "execution_count": 122,
   "id": "bf96d479",
   "metadata": {},
   "outputs": [
    {
     "name": "stdout",
     "output_type": "stream",
     "text": [
      "매출액 의 이상치비율 13.712787289834951\n",
      "영업이익 의 이상치비율 20.188698647745383\n",
      "당기순이익(손실) 의 이상치비율 20.129569643683478\n",
      "당좌자산 의 이상치비율 13.347729960409275\n",
      "매출원가 의 이상치비율 11.746105198210705\n",
      "매출채권 의 이상치비율 11.553293228443621\n",
      "매출총이익 의 이상치비율 13.255180214921076\n",
      "부채총계 의 이상치비율 15.522648979381973\n",
      "영업외비용 의 이상치비율 15.754023343102471\n",
      "유동부채 의 이상치비율 15.568923852126074\n",
      "유동자산 의 이상치비율 13.414571443261863\n",
      "이익잉여금 의 이상치비율 16.095943236156103\n",
      "이자비용 의 이상치비율 12.005758650830376\n",
      "인건비 의 이상치비율 12.527636382333283\n",
      "자기자본 의 이상치비율 13.856753560594376\n",
      "자본총계 의 이상치비율 13.859324386857935\n",
      "자산총계 의 이상치비율 13.699933158517148\n",
      "총자산 의 이상치비율 13.702503984780709\n",
      "투자자산 의 이상치비율 10.802611959483778\n",
      "판매비와관리비 의 이상치비율 13.355442439199958\n"
     ]
    }
   ],
   "source": [
    "for i in columns : \n",
    "\n",
    "    print(i,'의 이상치비율', len(find_outliers(df_final,i))/len(df_final[i])*100)"
   ]
  },
  {
   "cell_type": "markdown",
   "id": "e676fb24",
   "metadata": {},
   "source": [
    "# 이상치 제거"
   ]
  },
  {
   "cell_type": "code",
   "execution_count": 123,
   "id": "899c51d3",
   "metadata": {},
   "outputs": [],
   "source": [
    "def remove_outliers(df, columns):\n",
    "    for column in columns:\n",
    "        outliers = find_outliers(df, column)\n",
    "        df = df[~df.index.isin(outliers.index)]\n",
    "    return df"
   ]
  },
  {
   "cell_type": "code",
   "execution_count": 124,
   "id": "9ff5d053",
   "metadata": {},
   "outputs": [],
   "source": [
    "df_clean = remove_outliers(df_final, columns)"
   ]
  },
  {
   "cell_type": "code",
   "execution_count": 125,
   "id": "baf51c80",
   "metadata": {},
   "outputs": [
    {
     "name": "stdout",
     "output_type": "stream",
     "text": [
      "(38898, 28)\n",
      "(10777, 28)\n"
     ]
    }
   ],
   "source": [
    "print(df_final.shape)\n",
    "print(df_clean.shape)"
   ]
  },
  {
   "cell_type": "code",
   "execution_count": 126,
   "id": "6f3438d3",
   "metadata": {},
   "outputs": [],
   "source": [
    "df_clean.to_csv(path+'이상치제거_상관관계변수.csv')"
   ]
  },
  {
   "cell_type": "markdown",
   "id": "96d3feef",
   "metadata": {},
   "source": [
    "### 폐업처리 할때필요한 과정"
   ]
  },
  {
   "cell_type": "code",
   "execution_count": 40,
   "id": "0465aaf0",
   "metadata": {},
   "outputs": [],
   "source": [
    "df_max_stYear = df_clean.loc[df_clean.groupby('BusinessNum')['stYear'].idxmax()]"
   ]
  },
  {
   "cell_type": "code",
   "execution_count": 41,
   "id": "6de55942",
   "metadata": {},
   "outputs": [
    {
     "data": {
      "text/plain": [
       "1077"
      ]
     },
     "execution_count": 41,
     "metadata": {},
     "output_type": "execute_result"
    }
   ],
   "source": [
    "len(df_clean.loc[df_clean['폐업여부'] == '폐업']['BusinessNum'].unique())"
   ]
  },
  {
   "cell_type": "code",
   "execution_count": 42,
   "id": "453ef309",
   "metadata": {},
   "outputs": [
    {
     "data": {
      "text/plain": [
       "(3870, 26)"
      ]
     },
     "execution_count": 42,
     "metadata": {},
     "output_type": "execute_result"
    }
   ],
   "source": [
    "df_max_stYear.shape"
   ]
  },
  {
   "cell_type": "code",
   "execution_count": 43,
   "id": "6dab488f",
   "metadata": {},
   "outputs": [
    {
     "data": {
      "text/plain": [
       "(1077, 26)"
      ]
     },
     "execution_count": 43,
     "metadata": {},
     "output_type": "execute_result"
    }
   ],
   "source": [
    "df_max_stYear.loc[df_max_stYear['폐업여부']=='폐업'].shape"
   ]
  },
  {
   "cell_type": "code",
   "execution_count": 44,
   "id": "7e9feb77",
   "metadata": {},
   "outputs": [],
   "source": [
    "df_max_stYear.to_csv(path+'폐업여부_이상치모두제거(최근값만).csv')"
   ]
  },
  {
   "cell_type": "markdown",
   "id": "41ea76b8",
   "metadata": {},
   "source": [
    "# 이상치 n개 이상 삭제"
   ]
  },
  {
   "cell_type": "code",
   "execution_count": 127,
   "id": "29ed9674",
   "metadata": {
    "scrolled": true
   },
   "outputs": [],
   "source": [
    "# IQR을 사용하여 이상치 찾아내는 함수\n",
    "def find_outliers_2(df, column):\n",
    "    Q1 = df[column].quantile(0.25)\n",
    "    Q3 = df[column].quantile(0.75)\n",
    "    IQR = Q3 - Q1\n",
    "    \n",
    "    lower_bound = Q1 - 1.5 * IQR\n",
    "    upper_bound = Q3 + 1.5 * IQR\n",
    "    \n",
    "    outliers = (df[column] < lower_bound) | (df[column] > upper_bound)\n",
    "    return outliers\n",
    "\n",
    "# 여러 컬럼에서 이상치 감지\n",
    "def detect_outliers(df, columns):\n",
    "    outliers = pd.DataFrame(index=df.index)\n",
    "    for column in columns:\n",
    "        outliers[column] = find_outliers_2(df, column)\n",
    "    return outliers\n",
    "\n",
    "# 이상치 감지\n",
    "outliers = detect_outliers(df_final, columns)\n",
    "\n",
    "# 각 행에서 이상치 수 계산\n",
    "outliers_count = outliers.sum(axis=1)\n",
    "\n",
    "# 이상치가 3개 이상인 행의 인덱스 추출\n",
    "rows_to_drop = outliers_count[outliers_count >= 3].index\n",
    "\n",
    "# 이상치가 3개 이상인 행 삭제\n",
    "df_cleaned = df_final.drop(index=rows_to_drop)"
   ]
  },
  {
   "cell_type": "code",
   "execution_count": 128,
   "id": "27337406",
   "metadata": {},
   "outputs": [
    {
     "data": {
      "text/plain": [
       "(29457, 28)"
      ]
     },
     "execution_count": 128,
     "metadata": {},
     "output_type": "execute_result"
    }
   ],
   "source": [
    "df_cleaned.shape"
   ]
  },
  {
   "cell_type": "code",
   "execution_count": 129,
   "id": "6f46e736",
   "metadata": {},
   "outputs": [],
   "source": [
    "df_cleaned.to_csv(path+'이상치3행이상_상관관계변수.csv')"
   ]
  },
  {
   "cell_type": "markdown",
   "id": "58fc725b",
   "metadata": {},
   "source": [
    "# 이상치 변환"
   ]
  },
  {
   "cell_type": "code",
   "execution_count": 44,
   "id": "75607eff",
   "metadata": {},
   "outputs": [
    {
     "data": {
      "text/plain": [
       "Index(['BusinessNum', 'stYear', '매출액', '영업이익', '당기순이익(손실)', '당좌자산', '매출원가',\n",
       "       '매출채권', '매출총이익', '부채총계', '영업외비용', '유동부채', '유동자산', '이익잉여금', '이자비용',\n",
       "       '인건비', '자기자본', '자본총계', '자산총계', '총자산', '차입금', '투자자산', '판매비와관리비', '종업원수',\n",
       "       '대분류코드', '성장단계', '주소'],\n",
       "      dtype='object')"
      ]
     },
     "execution_count": 44,
     "metadata": {},
     "output_type": "execute_result"
    }
   ],
   "source": [
    "df_final.columns"
   ]
  },
  {
   "cell_type": "code",
   "execution_count": 130,
   "id": "a674141e",
   "metadata": {},
   "outputs": [],
   "source": [
    "# 상한값 이상은 상한값으로 하한값값 이하는 하한값으로\n",
    "def replace_outliers_with_bounds(df, column):\n",
    "    Q1 = df[column].quantile(0.25)\n",
    "    Q3 = df[column].quantile(0.75)\n",
    "    IQR = Q3 - Q1\n",
    "    \n",
    "    lower_bound = Q1 - 1.5 * IQR\n",
    "    upper_bound = Q3 + 1.5 * IQR\n",
    "    \n",
    "    # 상한값을 넘어가는 이상치를 상한값으로 치환\n",
    "    df.loc[df[column] > upper_bound, column] = upper_bound\n",
    "    # 하한값 이하인 이상치를 하한값으로 치환\n",
    "    df.loc[df[column] < lower_bound, column] = lower_bound\n",
    "    \n",
    "    return df\n",
    "\n",
    "# 각 컬럼에 대해 이상치를 bound값으로 변환\n",
    "for column in columns:\n",
    "    df_replace_bound = replace_outliers_with_bounds(df_final, column)"
   ]
  },
  {
   "cell_type": "code",
   "execution_count": 131,
   "id": "3197426c",
   "metadata": {},
   "outputs": [],
   "source": [
    "df_replace_bound.to_csv(path+'이상치bound_상관관계변수.csv')"
   ]
  },
  {
   "cell_type": "markdown",
   "id": "06926ae4",
   "metadata": {},
   "source": [
    "### 매출액별 중앙값 차이 그래프"
   ]
  },
  {
   "cell_type": "code",
   "execution_count": 9,
   "id": "678ede47",
   "metadata": {},
   "outputs": [
    {
     "data": {
      "text/plain": [
       "NormaltestResult(statistic=92721.11795283046, pvalue=0.0)"
      ]
     },
     "execution_count": 9,
     "metadata": {},
     "output_type": "execute_result"
    }
   ],
   "source": [
    "# 귀무가설 : 정규성을 따른다 \n",
    "# 대립가설 : 정규성을 따르지 않는다.\n",
    "stats.normaltest(df1['매출액'].dropna()) # <0.5 -> 귀무가설 기각"
   ]
  },
  {
   "cell_type": "code",
   "execution_count": 198,
   "id": "c773cf2f",
   "metadata": {},
   "outputs": [
    {
     "data": {
      "text/plain": [
       "KruskalResult(statistic=1426.4189429885594, pvalue=3.035081663317058e-292)"
      ]
     },
     "execution_count": 198,
     "metadata": {},
     "output_type": "execute_result"
    }
   ],
   "source": [
    "# 귀무가설 : 대분류별 중앙값 차이없다\n",
    "# 대립가설 : 대분류별 중앙값 차이있다\n",
    "df3 = df1[['대분류코드','매출액']].dropna()\n",
    "grouped_data = [df3[df3['대분류코드'] == group]['매출액'].dropna() for group in df3['대분류코드'].unique()]\n",
    "stats.kruskal(*grouped_data)  # <0.5 ->  귀무가설기각 -> 차이가있다."
   ]
  },
  {
   "cell_type": "markdown",
   "id": "4f92c192",
   "metadata": {},
   "source": [
    "### 대분류코드별 중앙값 차이 그래프"
   ]
  },
  {
   "cell_type": "code",
   "execution_count": 199,
   "id": "4c05295a",
   "metadata": {},
   "outputs": [
    {
     "data": {
      "text/html": [
       "<div>\n",
       "<style scoped>\n",
       "    .dataframe tbody tr th:only-of-type {\n",
       "        vertical-align: middle;\n",
       "    }\n",
       "\n",
       "    .dataframe tbody tr th {\n",
       "        vertical-align: top;\n",
       "    }\n",
       "\n",
       "    .dataframe thead th {\n",
       "        text-align: right;\n",
       "    }\n",
       "</style>\n",
       "<table border=\"1\" class=\"dataframe\">\n",
       "  <thead>\n",
       "    <tr style=\"text-align: right;\">\n",
       "      <th></th>\n",
       "      <th>대분류코드</th>\n",
       "      <th>매출액</th>\n",
       "    </tr>\n",
       "  </thead>\n",
       "  <tbody>\n",
       "    <tr>\n",
       "      <th>0</th>\n",
       "      <td>A</td>\n",
       "      <td>17878616.0</td>\n",
       "    </tr>\n",
       "    <tr>\n",
       "      <th>1</th>\n",
       "      <td>B</td>\n",
       "      <td>27190335.0</td>\n",
       "    </tr>\n",
       "    <tr>\n",
       "      <th>2</th>\n",
       "      <td>C</td>\n",
       "      <td>2898537.5</td>\n",
       "    </tr>\n",
       "    <tr>\n",
       "      <th>3</th>\n",
       "      <td>D</td>\n",
       "      <td>14375888.0</td>\n",
       "    </tr>\n",
       "    <tr>\n",
       "      <th>4</th>\n",
       "      <td>E</td>\n",
       "      <td>3070903.0</td>\n",
       "    </tr>\n",
       "    <tr>\n",
       "      <th>5</th>\n",
       "      <td>F</td>\n",
       "      <td>2077037.5</td>\n",
       "    </tr>\n",
       "    <tr>\n",
       "      <th>6</th>\n",
       "      <td>G</td>\n",
       "      <td>4094056.0</td>\n",
       "    </tr>\n",
       "    <tr>\n",
       "      <th>7</th>\n",
       "      <td>H</td>\n",
       "      <td>17625824.0</td>\n",
       "    </tr>\n",
       "    <tr>\n",
       "      <th>8</th>\n",
       "      <td>I</td>\n",
       "      <td>7340261.5</td>\n",
       "    </tr>\n",
       "    <tr>\n",
       "      <th>9</th>\n",
       "      <td>J</td>\n",
       "      <td>1548064.0</td>\n",
       "    </tr>\n",
       "    <tr>\n",
       "      <th>10</th>\n",
       "      <td>K</td>\n",
       "      <td>12421236.0</td>\n",
       "    </tr>\n",
       "    <tr>\n",
       "      <th>11</th>\n",
       "      <td>L</td>\n",
       "      <td>2948094.5</td>\n",
       "    </tr>\n",
       "    <tr>\n",
       "      <th>12</th>\n",
       "      <td>M</td>\n",
       "      <td>1925701.5</td>\n",
       "    </tr>\n",
       "    <tr>\n",
       "      <th>13</th>\n",
       "      <td>N</td>\n",
       "      <td>3977275.0</td>\n",
       "    </tr>\n",
       "    <tr>\n",
       "      <th>14</th>\n",
       "      <td>O</td>\n",
       "      <td>1841163.5</td>\n",
       "    </tr>\n",
       "    <tr>\n",
       "      <th>15</th>\n",
       "      <td>P</td>\n",
       "      <td>2004300.5</td>\n",
       "    </tr>\n",
       "    <tr>\n",
       "      <th>16</th>\n",
       "      <td>Q</td>\n",
       "      <td>1850393.0</td>\n",
       "    </tr>\n",
       "    <tr>\n",
       "      <th>17</th>\n",
       "      <td>R</td>\n",
       "      <td>2843208.0</td>\n",
       "    </tr>\n",
       "    <tr>\n",
       "      <th>18</th>\n",
       "      <td>S</td>\n",
       "      <td>1564304.5</td>\n",
       "    </tr>\n",
       "  </tbody>\n",
       "</table>\n",
       "</div>"
      ],
      "text/plain": [
       "   대분류코드         매출액\n",
       "0      A  17878616.0\n",
       "1      B  27190335.0\n",
       "2      C   2898537.5\n",
       "3      D  14375888.0\n",
       "4      E   3070903.0\n",
       "5      F   2077037.5\n",
       "6      G   4094056.0\n",
       "7      H  17625824.0\n",
       "8      I   7340261.5\n",
       "9      J   1548064.0\n",
       "10     K  12421236.0\n",
       "11     L   2948094.5\n",
       "12     M   1925701.5\n",
       "13     N   3977275.0\n",
       "14     O   1841163.5\n",
       "15     P   2004300.5\n",
       "16     Q   1850393.0\n",
       "17     R   2843208.0\n",
       "18     S   1564304.5"
      ]
     },
     "execution_count": 199,
     "metadata": {},
     "output_type": "execute_result"
    }
   ],
   "source": [
    "median_sales = df1.groupby('대분류코드')['매출액'].median().reset_index()\n",
    "median_sales"
   ]
  },
  {
   "cell_type": "markdown",
   "id": "7490c79d",
   "metadata": {},
   "source": [
    "### 성장단계별 중앙값 차이 유무"
   ]
  },
  {
   "cell_type": "code",
   "execution_count": 13,
   "id": "3fd296e9",
   "metadata": {},
   "outputs": [
    {
     "data": {
      "text/plain": [
       "KruskalResult(statistic=6028.649568384541, pvalue=0.0)"
      ]
     },
     "execution_count": 13,
     "metadata": {},
     "output_type": "execute_result"
    }
   ],
   "source": [
    "# 귀무가설 : 성장단계별 중앙값 차이없다\n",
    "# 대립가설 : 성장단계별 중앙값 차이있다\n",
    "df3 = df1[['성장단계','매출액']].dropna()\n",
    "grouped_data = [df3[df3['성장단계'] == group]['매출액'].dropna() for group in df3['성장단계'].unique()]\n",
    "stats.kruskal(*grouped_data)  # <0.5 ->  귀무가설기각 -> 차이가있다."
   ]
  },
  {
   "cell_type": "markdown",
   "id": "ecb2d467",
   "metadata": {},
   "source": [
    "### 대분류코드별 중앙값 차이 그래프"
   ]
  },
  {
   "cell_type": "markdown",
   "id": "9f9f8ec7",
   "metadata": {},
   "source": [
    "# 주소별 중앙값 차이 유무"
   ]
  },
  {
   "cell_type": "code",
   "execution_count": 14,
   "id": "befdf0e6",
   "metadata": {},
   "outputs": [
    {
     "data": {
      "text/plain": [
       "array(['서울', '경기', '인천', '경북', '부산', '충남', '경남', '강원', '충북', '전남', '대전',\n",
       "       '대구', '울산', '제주', '전북', '광주', nan, '세종'], dtype=object)"
      ]
     },
     "execution_count": 14,
     "metadata": {},
     "output_type": "execute_result"
    }
   ],
   "source": [
    "df1['주소1'].unique()"
   ]
  },
  {
   "cell_type": "code",
   "execution_count": 56,
   "id": "093659e2",
   "metadata": {},
   "outputs": [],
   "source": [
    "def convert_add(row):\n",
    "    if pd.isnull(row) :\n",
    "        return np.nan\n",
    "    elif row in ['서울','인천','경기'] :\n",
    "        return '수도권'\n",
    "    else :\n",
    "        return '비수도권'"
   ]
  },
  {
   "cell_type": "code",
   "execution_count": 57,
   "id": "1da04b74",
   "metadata": {},
   "outputs": [],
   "source": [
    "df1['주소'] = df1['주소1'].apply(convert_add)"
   ]
  },
  {
   "cell_type": "code",
   "execution_count": 58,
   "id": "40230df5",
   "metadata": {},
   "outputs": [
    {
     "data": {
      "text/plain": [
       "수도권     5307\n",
       "비수도권    2589\n",
       "Name: 주소, dtype: int64"
      ]
     },
     "execution_count": 58,
     "metadata": {},
     "output_type": "execute_result"
    }
   ],
   "source": [
    "df1['주소'].value_counts()"
   ]
  },
  {
   "cell_type": "code",
   "execution_count": 20,
   "id": "eee0ef5c",
   "metadata": {},
   "outputs": [
    {
     "data": {
      "text/plain": [
       "KruskalResult(statistic=985.9365289077671, pvalue=2.0472892172586884e-216)"
      ]
     },
     "execution_count": 20,
     "metadata": {},
     "output_type": "execute_result"
    }
   ],
   "source": [
    "# 귀무가설 : 주소별 중앙값 차이없다\n",
    "# 대립가설 : 주소별 중앙값 차이있다\n",
    "df3 = df1[['주소','매출액']].dropna()\n",
    "grouped_data = [df3[df3['주소'] == group]['매출액'].dropna() for group in df3['주소'].unique()]\n",
    "stats.kruskal(*grouped_data)  # <0.5 ->  귀무가설기각 -> 차이가있다."
   ]
  },
  {
   "cell_type": "markdown",
   "id": "066b1e98",
   "metadata": {},
   "source": [
    "### 주소별 중앙값 차이 그래프"
   ]
  },
  {
   "cell_type": "code",
   "execution_count": 115,
   "id": "b0d12fad",
   "metadata": {},
   "outputs": [
    {
     "data": {
      "text/html": [
       "<div>\n",
       "<style scoped>\n",
       "    .dataframe tbody tr th:only-of-type {\n",
       "        vertical-align: middle;\n",
       "    }\n",
       "\n",
       "    .dataframe tbody tr th {\n",
       "        vertical-align: top;\n",
       "    }\n",
       "\n",
       "    .dataframe thead th {\n",
       "        text-align: right;\n",
       "    }\n",
       "</style>\n",
       "<table border=\"1\" class=\"dataframe\">\n",
       "  <thead>\n",
       "    <tr style=\"text-align: right;\">\n",
       "      <th></th>\n",
       "      <th>주소</th>\n",
       "      <th>매출액</th>\n",
       "    </tr>\n",
       "  </thead>\n",
       "  <tbody>\n",
       "    <tr>\n",
       "      <th>0</th>\n",
       "      <td>비수도권</td>\n",
       "      <td>1457243.0</td>\n",
       "    </tr>\n",
       "    <tr>\n",
       "      <th>1</th>\n",
       "      <td>수도권</td>\n",
       "      <td>2607834.5</td>\n",
       "    </tr>\n",
       "  </tbody>\n",
       "</table>\n",
       "</div>"
      ],
      "text/plain": [
       "     주소        매출액\n",
       "0  비수도권  1457243.0\n",
       "1   수도권  2607834.5"
      ]
     },
     "execution_count": 115,
     "metadata": {},
     "output_type": "execute_result"
    }
   ],
   "source": [
    "median_sales = df1.groupby('주소')['매출액'].median().reset_index()\n",
    "median_sales"
   ]
  },
  {
   "cell_type": "code",
   "execution_count": 59,
   "id": "98030112",
   "metadata": {},
   "outputs": [
    {
     "data": {
      "text/plain": [
       "Index(['Unnamed: 0', 'BusinessNum', '주소1', '연차', '종업원수', '대분류코드', 'stYear',\n",
       "       '매출액', '영업이익', '당기순이익(손실)', '당좌자산', '매출원가', '매출채권', '매출총이익', '부채총계',\n",
       "       '영업외비용', '유동부채', '유동자산', '이익잉여금', '이자비용', '인건비', '자기자본', '자본총계', '자산총계',\n",
       "       '총자산', '차입금', '투자자산', '판매비와관리비', '성장단계', '주소'],\n",
       "      dtype='object')"
      ]
     },
     "execution_count": 59,
     "metadata": {},
     "output_type": "execute_result"
    }
   ],
   "source": [
    "df1.columns"
   ]
  },
  {
   "cell_type": "code",
   "execution_count": 60,
   "id": "b7086176",
   "metadata": {},
   "outputs": [],
   "source": [
    "df_final = df1[['BusinessNum', 'stYear', '매출액', '영업이익', '당기순이익(손실)',\n",
    "           '당좌자산', '매출원가', '매출채권', '매출총이익', '부채총계', '영업외비용', '유동부채', '유동자산',\n",
    "           '이익잉여금', '이자비용', '인건비', '자기자본', '자본총계', '자산총계', '총자산', '차입금', '투자자산',\n",
    "           '판매비와관리비', '종업원수', '대분류코드', '성장단계', '주소']]"
   ]
  },
  {
   "cell_type": "code",
   "execution_count": 61,
   "id": "8e3fb316",
   "metadata": {},
   "outputs": [
    {
     "data": {
      "text/html": [
       "<div>\n",
       "<style scoped>\n",
       "    .dataframe tbody tr th:only-of-type {\n",
       "        vertical-align: middle;\n",
       "    }\n",
       "\n",
       "    .dataframe tbody tr th {\n",
       "        vertical-align: top;\n",
       "    }\n",
       "\n",
       "    .dataframe thead th {\n",
       "        text-align: right;\n",
       "    }\n",
       "</style>\n",
       "<table border=\"1\" class=\"dataframe\">\n",
       "  <thead>\n",
       "    <tr style=\"text-align: right;\">\n",
       "      <th></th>\n",
       "      <th>BusinessNum</th>\n",
       "      <th>stYear</th>\n",
       "      <th>매출액</th>\n",
       "      <th>영업이익</th>\n",
       "      <th>당기순이익(손실)</th>\n",
       "      <th>당좌자산</th>\n",
       "      <th>매출원가</th>\n",
       "      <th>매출채권</th>\n",
       "      <th>매출총이익</th>\n",
       "      <th>부채총계</th>\n",
       "      <th>...</th>\n",
       "      <th>자본총계</th>\n",
       "      <th>자산총계</th>\n",
       "      <th>총자산</th>\n",
       "      <th>차입금</th>\n",
       "      <th>투자자산</th>\n",
       "      <th>판매비와관리비</th>\n",
       "      <th>종업원수</th>\n",
       "      <th>대분류코드</th>\n",
       "      <th>성장단계</th>\n",
       "      <th>주소</th>\n",
       "    </tr>\n",
       "  </thead>\n",
       "  <tbody>\n",
       "    <tr>\n",
       "      <th>0</th>\n",
       "      <td>1010109319</td>\n",
       "      <td>2019.0</td>\n",
       "      <td>178547.0</td>\n",
       "      <td>12955.0</td>\n",
       "      <td>15587.0</td>\n",
       "      <td>739.0</td>\n",
       "      <td>119689.0</td>\n",
       "      <td>NaN</td>\n",
       "      <td>58858.0</td>\n",
       "      <td>2182.0</td>\n",
       "      <td>...</td>\n",
       "      <td>-289.0</td>\n",
       "      <td>1893.0</td>\n",
       "      <td>1893.0</td>\n",
       "      <td>NaN</td>\n",
       "      <td>NaN</td>\n",
       "      <td>45903.0</td>\n",
       "      <td>1.0</td>\n",
       "      <td>G</td>\n",
       "      <td>25년이하</td>\n",
       "      <td>수도권</td>\n",
       "    </tr>\n",
       "    <tr>\n",
       "      <th>1</th>\n",
       "      <td>1010204456</td>\n",
       "      <td>2021.0</td>\n",
       "      <td>934616.0</td>\n",
       "      <td>61533.0</td>\n",
       "      <td>59869.0</td>\n",
       "      <td>914293.0</td>\n",
       "      <td>574345.0</td>\n",
       "      <td>NaN</td>\n",
       "      <td>360271.0</td>\n",
       "      <td>1005562.0</td>\n",
       "      <td>...</td>\n",
       "      <td>63841.0</td>\n",
       "      <td>1069403.0</td>\n",
       "      <td>1069403.0</td>\n",
       "      <td>988331.0</td>\n",
       "      <td>NaN</td>\n",
       "      <td>298738.0</td>\n",
       "      <td>5.0</td>\n",
       "      <td>G</td>\n",
       "      <td>25년이하</td>\n",
       "      <td>수도권</td>\n",
       "    </tr>\n",
       "    <tr>\n",
       "      <th>2</th>\n",
       "      <td>1010600385</td>\n",
       "      <td>NaN</td>\n",
       "      <td>NaN</td>\n",
       "      <td>NaN</td>\n",
       "      <td>NaN</td>\n",
       "      <td>NaN</td>\n",
       "      <td>NaN</td>\n",
       "      <td>NaN</td>\n",
       "      <td>NaN</td>\n",
       "      <td>NaN</td>\n",
       "      <td>...</td>\n",
       "      <td>NaN</td>\n",
       "      <td>NaN</td>\n",
       "      <td>NaN</td>\n",
       "      <td>NaN</td>\n",
       "      <td>NaN</td>\n",
       "      <td>NaN</td>\n",
       "      <td>2.0</td>\n",
       "      <td>C</td>\n",
       "      <td>25년이하</td>\n",
       "      <td>수도권</td>\n",
       "    </tr>\n",
       "    <tr>\n",
       "      <th>3</th>\n",
       "      <td>1010607727</td>\n",
       "      <td>2019.0</td>\n",
       "      <td>370418.0</td>\n",
       "      <td>40593.0</td>\n",
       "      <td>31162.0</td>\n",
       "      <td>187476.0</td>\n",
       "      <td>123603.0</td>\n",
       "      <td>0.0</td>\n",
       "      <td>246816.0</td>\n",
       "      <td>184275.0</td>\n",
       "      <td>...</td>\n",
       "      <td>18284.0</td>\n",
       "      <td>202559.0</td>\n",
       "      <td>202559.0</td>\n",
       "      <td>150000.0</td>\n",
       "      <td>0.0</td>\n",
       "      <td>206223.0</td>\n",
       "      <td>1.0</td>\n",
       "      <td>N</td>\n",
       "      <td>NaN</td>\n",
       "      <td>수도권</td>\n",
       "    </tr>\n",
       "    <tr>\n",
       "      <th>4</th>\n",
       "      <td>1010709848</td>\n",
       "      <td>2020.0</td>\n",
       "      <td>131542.0</td>\n",
       "      <td>21915.0</td>\n",
       "      <td>21915.0</td>\n",
       "      <td>8246.0</td>\n",
       "      <td>60884.0</td>\n",
       "      <td>0.0</td>\n",
       "      <td>70658.0</td>\n",
       "      <td>47978.0</td>\n",
       "      <td>...</td>\n",
       "      <td>-19662.0</td>\n",
       "      <td>28316.0</td>\n",
       "      <td>28316.0</td>\n",
       "      <td>47978.0</td>\n",
       "      <td>0.0</td>\n",
       "      <td>48743.0</td>\n",
       "      <td>11.0</td>\n",
       "      <td>NaN</td>\n",
       "      <td>25년이하</td>\n",
       "      <td>수도권</td>\n",
       "    </tr>\n",
       "    <tr>\n",
       "      <th>...</th>\n",
       "      <td>...</td>\n",
       "      <td>...</td>\n",
       "      <td>...</td>\n",
       "      <td>...</td>\n",
       "      <td>...</td>\n",
       "      <td>...</td>\n",
       "      <td>...</td>\n",
       "      <td>...</td>\n",
       "      <td>...</td>\n",
       "      <td>...</td>\n",
       "      <td>...</td>\n",
       "      <td>...</td>\n",
       "      <td>...</td>\n",
       "      <td>...</td>\n",
       "      <td>...</td>\n",
       "      <td>...</td>\n",
       "      <td>...</td>\n",
       "      <td>...</td>\n",
       "      <td>...</td>\n",
       "      <td>...</td>\n",
       "      <td>...</td>\n",
       "    </tr>\n",
       "    <tr>\n",
       "      <th>7995</th>\n",
       "      <td>8988107860</td>\n",
       "      <td>2020.0</td>\n",
       "      <td>467332.0</td>\n",
       "      <td>3290.0</td>\n",
       "      <td>14734.0</td>\n",
       "      <td>211074.0</td>\n",
       "      <td>345157.0</td>\n",
       "      <td>209912.0</td>\n",
       "      <td>122175.0</td>\n",
       "      <td>119596.0</td>\n",
       "      <td>...</td>\n",
       "      <td>228964.0</td>\n",
       "      <td>348559.0</td>\n",
       "      <td>348559.0</td>\n",
       "      <td>105610.0</td>\n",
       "      <td>73469.0</td>\n",
       "      <td>118885.0</td>\n",
       "      <td>9.0</td>\n",
       "      <td>F</td>\n",
       "      <td>10년이하</td>\n",
       "      <td>비수도권</td>\n",
       "    </tr>\n",
       "    <tr>\n",
       "      <th>7996</th>\n",
       "      <td>8988702634</td>\n",
       "      <td>2021.0</td>\n",
       "      <td>207717.0</td>\n",
       "      <td>39763.0</td>\n",
       "      <td>37315.0</td>\n",
       "      <td>138778.0</td>\n",
       "      <td>109378.0</td>\n",
       "      <td>22397.0</td>\n",
       "      <td>98340.0</td>\n",
       "      <td>47298.0</td>\n",
       "      <td>...</td>\n",
       "      <td>217027.0</td>\n",
       "      <td>264325.0</td>\n",
       "      <td>264325.0</td>\n",
       "      <td>0.0</td>\n",
       "      <td>NaN</td>\n",
       "      <td>58577.0</td>\n",
       "      <td>5.0</td>\n",
       "      <td>J</td>\n",
       "      <td>10년이하</td>\n",
       "      <td>비수도권</td>\n",
       "    </tr>\n",
       "    <tr>\n",
       "      <th>7997</th>\n",
       "      <td>8998607522</td>\n",
       "      <td>2018.0</td>\n",
       "      <td>705737.0</td>\n",
       "      <td>11915.0</td>\n",
       "      <td>10082.0</td>\n",
       "      <td>90309.0</td>\n",
       "      <td>525837.0</td>\n",
       "      <td>43670.0</td>\n",
       "      <td>179900.0</td>\n",
       "      <td>319249.0</td>\n",
       "      <td>...</td>\n",
       "      <td>-98866.0</td>\n",
       "      <td>220383.0</td>\n",
       "      <td>220383.0</td>\n",
       "      <td>297462.0</td>\n",
       "      <td>NaN</td>\n",
       "      <td>167985.0</td>\n",
       "      <td>6.0</td>\n",
       "      <td>M</td>\n",
       "      <td>10년이하</td>\n",
       "      <td>수도권</td>\n",
       "    </tr>\n",
       "    <tr>\n",
       "      <th>7998</th>\n",
       "      <td>8998708313</td>\n",
       "      <td>2021.0</td>\n",
       "      <td>6813497.0</td>\n",
       "      <td>133499.0</td>\n",
       "      <td>151376.0</td>\n",
       "      <td>870617.0</td>\n",
       "      <td>6305295.0</td>\n",
       "      <td>608503.0</td>\n",
       "      <td>508202.0</td>\n",
       "      <td>264271.0</td>\n",
       "      <td>...</td>\n",
       "      <td>879583.0</td>\n",
       "      <td>1143854.0</td>\n",
       "      <td>1143854.0</td>\n",
       "      <td>103551.0</td>\n",
       "      <td>NaN</td>\n",
       "      <td>374703.0</td>\n",
       "      <td>10.0</td>\n",
       "      <td>F</td>\n",
       "      <td>10년이하</td>\n",
       "      <td>수도권</td>\n",
       "    </tr>\n",
       "    <tr>\n",
       "      <th>7999</th>\n",
       "      <td>8998803795</td>\n",
       "      <td>2021.0</td>\n",
       "      <td>810158.0</td>\n",
       "      <td>-1871755.0</td>\n",
       "      <td>-1636110.0</td>\n",
       "      <td>2151403.0</td>\n",
       "      <td>0.0</td>\n",
       "      <td>25510.0</td>\n",
       "      <td>810158.0</td>\n",
       "      <td>125306.0</td>\n",
       "      <td>...</td>\n",
       "      <td>2377213.0</td>\n",
       "      <td>2502519.0</td>\n",
       "      <td>2502519.0</td>\n",
       "      <td>0.0</td>\n",
       "      <td>141218.0</td>\n",
       "      <td>2681913.0</td>\n",
       "      <td>28.0</td>\n",
       "      <td>J</td>\n",
       "      <td>10년이하</td>\n",
       "      <td>수도권</td>\n",
       "    </tr>\n",
       "  </tbody>\n",
       "</table>\n",
       "<p>8000 rows × 27 columns</p>\n",
       "</div>"
      ],
      "text/plain": [
       "      BusinessNum  stYear        매출액       영업이익  당기순이익(손실)       당좌자산  \\\n",
       "0      1010109319  2019.0   178547.0    12955.0    15587.0      739.0   \n",
       "1      1010204456  2021.0   934616.0    61533.0    59869.0   914293.0   \n",
       "2      1010600385     NaN        NaN        NaN        NaN        NaN   \n",
       "3      1010607727  2019.0   370418.0    40593.0    31162.0   187476.0   \n",
       "4      1010709848  2020.0   131542.0    21915.0    21915.0     8246.0   \n",
       "...           ...     ...        ...        ...        ...        ...   \n",
       "7995   8988107860  2020.0   467332.0     3290.0    14734.0   211074.0   \n",
       "7996   8988702634  2021.0   207717.0    39763.0    37315.0   138778.0   \n",
       "7997   8998607522  2018.0   705737.0    11915.0    10082.0    90309.0   \n",
       "7998   8998708313  2021.0  6813497.0   133499.0   151376.0   870617.0   \n",
       "7999   8998803795  2021.0   810158.0 -1871755.0 -1636110.0  2151403.0   \n",
       "\n",
       "           매출원가      매출채권     매출총이익       부채총계  ...       자본총계       자산총계  \\\n",
       "0      119689.0       NaN   58858.0     2182.0  ...     -289.0     1893.0   \n",
       "1      574345.0       NaN  360271.0  1005562.0  ...    63841.0  1069403.0   \n",
       "2           NaN       NaN       NaN        NaN  ...        NaN        NaN   \n",
       "3      123603.0       0.0  246816.0   184275.0  ...    18284.0   202559.0   \n",
       "4       60884.0       0.0   70658.0    47978.0  ...   -19662.0    28316.0   \n",
       "...         ...       ...       ...        ...  ...        ...        ...   \n",
       "7995   345157.0  209912.0  122175.0   119596.0  ...   228964.0   348559.0   \n",
       "7996   109378.0   22397.0   98340.0    47298.0  ...   217027.0   264325.0   \n",
       "7997   525837.0   43670.0  179900.0   319249.0  ...   -98866.0   220383.0   \n",
       "7998  6305295.0  608503.0  508202.0   264271.0  ...   879583.0  1143854.0   \n",
       "7999        0.0   25510.0  810158.0   125306.0  ...  2377213.0  2502519.0   \n",
       "\n",
       "            총자산       차입금      투자자산    판매비와관리비  종업원수  대분류코드   성장단계    주소  \n",
       "0        1893.0       NaN       NaN    45903.0   1.0      G  25년이하   수도권  \n",
       "1     1069403.0  988331.0       NaN   298738.0   5.0      G  25년이하   수도권  \n",
       "2           NaN       NaN       NaN        NaN   2.0      C  25년이하   수도권  \n",
       "3      202559.0  150000.0       0.0   206223.0   1.0      N    NaN   수도권  \n",
       "4       28316.0   47978.0       0.0    48743.0  11.0    NaN  25년이하   수도권  \n",
       "...         ...       ...       ...        ...   ...    ...    ...   ...  \n",
       "7995   348559.0  105610.0   73469.0   118885.0   9.0      F  10년이하  비수도권  \n",
       "7996   264325.0       0.0       NaN    58577.0   5.0      J  10년이하  비수도권  \n",
       "7997   220383.0  297462.0       NaN   167985.0   6.0      M  10년이하   수도권  \n",
       "7998  1143854.0  103551.0       NaN   374703.0  10.0      F  10년이하   수도권  \n",
       "7999  2502519.0       0.0  141218.0  2681913.0  28.0      J  10년이하   수도권  \n",
       "\n",
       "[8000 rows x 27 columns]"
      ]
     },
     "execution_count": 61,
     "metadata": {},
     "output_type": "execute_result"
    }
   ],
   "source": [
    "df_final"
   ]
  }
 ],
 "metadata": {
  "kernelspec": {
   "display_name": "Python 3 (ipykernel)",
   "language": "python",
   "name": "python3"
  },
  "language_info": {
   "codemirror_mode": {
    "name": "ipython",
    "version": 3
   },
   "file_extension": ".py",
   "mimetype": "text/x-python",
   "name": "python",
   "nbconvert_exporter": "python",
   "pygments_lexer": "ipython3",
   "version": "3.9.13"
  }
 },
 "nbformat": 4,
 "nbformat_minor": 5
}
